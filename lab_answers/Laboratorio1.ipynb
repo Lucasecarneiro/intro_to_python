{
 "cells": [
  {
   "cell_type": "markdown",
   "metadata": {},
   "source": [
    "# Laboratório #1\n",
    "\n",
    "### ATENCÃO\n",
    "\n",
    "1. Para cada um dos exercícios a seguir, faça o seguinte:\n",
    "    * coloque um comentário dizendo o que a função faz, use **docstrings**.\n",
    "    * escolha nomes explicativos para suas funções e parâmetros.\n",
    "2. Quando você terminar os exercícios do laboratório, vá ao menu do Jupyter ou Colab e selecione a opção para fazer download do notebook.\n",
    "    * Os notebooks tem extensão .ipynb. \n",
    "    * Este deve ser o arquivo que você irá entregar.\n",
    "    * No Jupyter vá até a opção **File** -> **Download as** -> **Notebook (.ipynb)**.\n",
    "    * No Colab vá até a opção **File** -> **Download .ipynb**.\n",
    "\n",
    "## Exercícios"
   ]
  },
  {
   "cell_type": "markdown",
   "metadata": {},
   "source": [
    "#### 1)  Implemente 4 funções diferentes que recebam dois valores, x e y, e retornem o resultado das seguintes operações:\n",
    "\n",
    "1. soma → soma(2,3) = 2 + 3 = 5\n",
    "2. subtração → sub(7,4) = 7 – 4 = 3\n",
    "3. divisão → div(8,2) = 8 / 2 = 4\n",
    "4. produto → prod(3,5) = 3 * 5 = 15\n",
    "\n",
    "**OBS.: Não se esqueça de depois de implementar as funções, chamá-las com alguns valores de teste.**"
   ]
  },
  {
   "cell_type": "code",
   "execution_count": 1,
   "metadata": {},
   "outputs": [
    {
     "name": "stdout",
     "output_type": "stream",
     "text": [
      "3\n",
      "1\n"
     ]
    }
   ],
   "source": [
    "def soma(a,b):\n",
    "    '''Função que soma os valores em a e b'''\n",
    "    return a+b\n",
    "\n",
    "print(soma(1,2))\n",
    "print(soma(-1,2))"
   ]
  },
  {
   "cell_type": "code",
   "execution_count": 3,
   "metadata": {},
   "outputs": [
    {
     "name": "stdout",
     "output_type": "stream",
     "text": [
      "-1\n",
      "-3\n"
     ]
    }
   ],
   "source": [
    "def sub(a,b):\n",
    "    '''Função que subtrai os valores em a e b'''\n",
    "    return a-b\n",
    "\n",
    "print(sub(1,2))\n",
    "print(sub(-1,2))"
   ]
  },
  {
   "cell_type": "code",
   "execution_count": 4,
   "metadata": {},
   "outputs": [
    {
     "name": "stdout",
     "output_type": "stream",
     "text": [
      "0.5\n",
      "-0.5\n"
     ]
    }
   ],
   "source": [
    "def div(a,b):\n",
    "    '''Função que divide os valores em a e b'''\n",
    "    return a/b\n",
    "\n",
    "print(div(1,2))\n",
    "print(div(-1,2))"
   ]
  },
  {
   "cell_type": "code",
   "execution_count": 5,
   "metadata": {},
   "outputs": [
    {
     "name": "stdout",
     "output_type": "stream",
     "text": [
      "2\n",
      "-2\n"
     ]
    }
   ],
   "source": [
    "def prod(a,b):\n",
    "    '''Função que multiplica os valores em a e b'''\n",
    "    return a*b\n",
    "\n",
    "print(prod(1,2))\n",
    "print(prod(-1,2))"
   ]
  },
  {
   "cell_type": "markdown",
   "metadata": {},
   "source": [
    "#### 2)  Implemente uma função que dado um número, retorna o seu quadrado."
   ]
  },
  {
   "cell_type": "code",
   "execution_count": 7,
   "metadata": {},
   "outputs": [
    {
     "name": "stdout",
     "output_type": "stream",
     "text": [
      "1\n",
      "4\n"
     ]
    }
   ],
   "source": [
    "def quad(a):\n",
    "    '''Função que retorna o quadrado do valor em a'''\n",
    "    return a**2\n",
    "\n",
    "print(quad(1))\n",
    "print(quad(2))"
   ]
  },
  {
   "cell_type": "markdown",
   "metadata": {},
   "source": [
    "#### 3) Calcule o resultado e o resto da divisão de dois números inteiros (a função deve retornar os dois valores no mesmo comando return)"
   ]
  },
  {
   "cell_type": "code",
   "execution_count": 10,
   "metadata": {},
   "outputs": [
    {
     "name": "stdout",
     "output_type": "stream",
     "text": [
      "(0, 1)\n",
      "(1, 0)\n",
      "(0, 2)\n"
     ]
    }
   ],
   "source": [
    "def divWithRest(a,b):\n",
    "    '''Função que divide os valores em a e b e retorna o resto da divisão'''\n",
    "    return a//b, a%b\n",
    "\n",
    "print(divWithRest(1,2))\n",
    "print(divWithRest(2,2))\n",
    "print(divWithRest(2,3))"
   ]
  },
  {
   "cell_type": "markdown",
   "metadata": {},
   "source": [
    "#### 4) Dado o valor da conta de um restaurante, calcule a gorjeta do garçom, considerando que a gorjeta é de 10% do valor da conta."
   ]
  },
  {
   "cell_type": "code",
   "execution_count": 13,
   "metadata": {},
   "outputs": [
    {
     "name": "stdout",
     "output_type": "stream",
     "text": [
      "10.055\n",
      "0.233\n"
     ]
    }
   ],
   "source": [
    "def gorjeta(conta):\n",
    "    '''Função que calcula o valor da gorjeta'''\n",
    "    return conta*(10/100)\n",
    "\n",
    "print(gorjeta(100.55))\n",
    "print(gorjeta(2.33))"
   ]
  },
  {
   "cell_type": "markdown",
   "metadata": {},
   "source": [
    "#### 5) No código abaixo, insira a parte que está faltando para que a frase \"Hello World\" seja impressa na tela"
   ]
  },
  {
   "cell_type": "code",
   "execution_count": 14,
   "metadata": {},
   "outputs": [
    {
     "name": "stdout",
     "output_type": "stream",
     "text": [
      "Hello World\n"
     ]
    }
   ],
   "source": [
    "print(\"Hello World\")"
   ]
  },
  {
   "cell_type": "markdown",
   "metadata": {},
   "source": [
    "#### 6) Crie uma variável chamada ```nomeCarro``` e atribua o valor ```Ford``` a ela.\n",
    "**OBS.**: Perceba que `Ford` é uma string."
   ]
  },
  {
   "cell_type": "code",
   "execution_count": 15,
   "metadata": {},
   "outputs": [],
   "source": [
    "nameCarro = 'Ford'"
   ]
  },
  {
   "cell_type": "markdown",
   "metadata": {},
   "source": [
    "#### 7) Neste exercício, você precisará escrever uma string de formatação que imprima os dados usando a seguinte sintaxe: `Olá João Ubaldo. Seu saldo atual é de $53.44`."
   ]
  },
  {
   "cell_type": "code",
   "execution_count": 18,
   "metadata": {},
   "outputs": [
    {
     "name": "stdout",
     "output_type": "stream",
     "text": [
      "Olá João Ubaldo. Seu saldo atual é de $53.44\n"
     ]
    }
   ],
   "source": [
    "dados = (\"João\", \"Ubaldo\", 53.44)\n",
    "format_string = \"Olá %s %s. Seu saldo atual é de $%1.2f\"  # Escreva a string de formatação aqui.\n",
    "\n",
    "print(format_string % dados)"
   ]
  },
  {
   "cell_type": "markdown",
   "metadata": {},
   "source": [
    "#### 8) Qual é a sintaxe correta para importar um módulo chamado \"os\"?"
   ]
  },
  {
   "cell_type": "code",
   "execution_count": 7,
   "metadata": {},
   "outputs": [],
   "source": [
    "import os"
   ]
  },
  {
   "cell_type": "markdown",
   "metadata": {},
   "source": [
    "#### 9) Implemente uma função que imprima na tela o tipo de um objeto ou variável, em seguida, teste a função com a variável ```var='1234'```."
   ]
  },
  {
   "cell_type": "code",
   "execution_count": 20,
   "metadata": {},
   "outputs": [
    {
     "name": "stdout",
     "output_type": "stream",
     "text": [
      "O tipo da variável é: <class 'str'>\n"
     ]
    }
   ],
   "source": [
    "def printVarType(var):\n",
    "    '''Função que imprime o tipo de uma variável na tela'''\n",
    "    print('O tipo da variável é:', type(var))\n",
    "    \n",
    "printVarType('1234')"
   ]
  },
  {
   "cell_type": "markdown",
   "metadata": {},
   "source": [
    "#### 10) Execute o código abaixo. Descreva o que está ocorrendo."
   ]
  },
  {
   "cell_type": "code",
   "execution_count": 21,
   "metadata": {},
   "outputs": [
    {
     "name": "stdout",
     "output_type": "stream",
     "text": [
      "0\n",
      "1\n",
      "2\n",
      "3\n",
      "4\n",
      "5\n",
      "6\n",
      "7\n",
      "8\n",
      "9\n",
      "10\n"
     ]
    }
   ],
   "source": [
    "def foo(var):\n",
    "    print(var)\n",
    "    if(var < 10):\n",
    "        foo(var+1)\n",
    "    \n",
    "foo(0)"
   ]
  },
  {
   "cell_type": "markdown",
   "metadata": {},
   "source": [
    "Imprime na tela valores incrementais, começando de 0, até que o valor incremental seja igual 10. O código acima faz uso de recursão para calcular os valores incrementais."
   ]
  },
  {
   "cell_type": "markdown",
   "metadata": {},
   "source": [
    "#### 11)  Execute o código abaixo, veja que ocorre um erro em seguida, corrija-o até que não ocorram mais erros."
   ]
  },
  {
   "cell_type": "code",
   "execution_count": 26,
   "metadata": {},
   "outputs": [
    {
     "name": "stdout",
     "output_type": "stream",
     "text": [
      "A função foo retorna o valor:  7\n"
     ]
    }
   ],
   "source": [
    "def foo(a,b,c):\n",
    "    var = a + b * c\n",
    "    return var\n",
    "\n",
    "print('A função foo retorna o valor: ', foo(1,2,3))"
   ]
  }
 ],
 "metadata": {
  "kernelspec": {
   "display_name": "Python 3",
   "language": "python",
   "name": "python3"
  },
  "language_info": {
   "codemirror_mode": {
    "name": "ipython",
    "version": 3
   },
   "file_extension": ".py",
   "mimetype": "text/x-python",
   "name": "python",
   "nbconvert_exporter": "python",
   "pygments_lexer": "ipython3",
   "version": "3.7.7"
  }
 },
 "nbformat": 4,
 "nbformat_minor": 4
}
