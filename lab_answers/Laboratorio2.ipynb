{
 "cells": [
  {
   "cell_type": "markdown",
   "metadata": {},
   "source": [
    "# Laboratório #2\n",
    "\n",
    "### ATENCÃO\n",
    "\n",
    "1. Para cada um dos exercícios a seguir, faça o seguinte:\n",
    "    * Adicione comentários ao seu código. Os comentários servem para explicar o código, ajudando você a lembrar do que se trata aquele trecho de código, como também outras pessoas a entenderem o que foi feito.\n",
    "    * Caso o exercício involva a implementação de uma função:\n",
    "        + Coloque um comentário dizendo o que a função faz, use **docstrings**.\n",
    "        + Escolha nomes explicativos para suas funções e parâmetros.\n",
    "    \n",
    "2. Quando você terminar os exercícios do laboratório, vá ao menu do Jupyter ou Colab e selecione a opção para fazer download do notebook.\n",
    "    * Os notebooks tem extensão .ipynb. \n",
    "    * Este deve ser o arquivo que você irá entregar.\n",
    "    * No Jupyter vá até a opção **File** -> **Download as** -> **Notebook (.ipynb)**.\n",
    "    * No Colab vá até a opção **File** -> **Download .ipynb**."
   ]
  },
  {
   "cell_type": "markdown",
   "metadata": {},
   "source": [
    "**Nome**:\n",
    "\n",
    "**Matrícula**:"
   ]
  },
  {
   "cell_type": "markdown",
   "metadata": {},
   "source": [
    "## Exercícios"
   ]
  },
  {
   "cell_type": "markdown",
   "metadata": {},
   "source": [
    "#### 1)  Implemente uma função que, dado um número inteiro `x` passado como parâmetro, retorna a string `x é positivo` caso `x` seja um número positivo, `x é negativo` caso `x` seja um número negativo e `x é igual a zero` caso `x` seja igual a zero."
   ]
  },
  {
   "cell_type": "code",
   "execution_count": 2,
   "metadata": {},
   "outputs": [
    {
     "name": "stdout",
     "output_type": "stream",
     "text": [
      "x é negativo\n",
      "x é igual a zero\n",
      "x é positivo\n"
     ]
    }
   ],
   "source": [
    "def verificaX(x):\n",
    "    if(x > 0):\n",
    "        ret = 'x é positivo'\n",
    "    elif(x < 0):\n",
    "        ret = 'x é negativo'\n",
    "    else:\n",
    "        ret = 'x é igual a zero'\n",
    "    return ret\n",
    "\n",
    "print(verificaX(-1))\n",
    "print(verificaX(0))\n",
    "print(verificaX(1))"
   ]
  },
  {
   "cell_type": "markdown",
   "metadata": {},
   "source": [
    "#### 2) Implemente uma função que receba duas notas parciais, `nota1` e `nota2`, recebidas por um aluno ao longo do semestre. A atribuição de conceitos obedece à tabela abaixo: \n",
    "\n",
    "| Média de Aproveitamento | Conceito |\n",
    "|:-----------------------:|:--------:|\n",
    "|     Entre 9.0 e 10.0    |     A    |\n",
    "|     Entre 7.5 e 9.0     |     B    |\n",
    "|     Entre 6.0 e 7.5     |     C    |\n",
    "|     Entre 4.0 e 6.0     |     D    |\n",
    "|     Entre 4.0 e zero    |     E    |\n",
    "\n",
    "A função deve calcular a média alcançada pelo aluno e imprimir na tela:\n",
    "+ as 2 notas recebidas pelo aluno\n",
    "+ a média das 2 notas\n",
    "+ o conceito correspondente\n",
    "+ e a mensagem “APROVADO” se o conceito for A, B ou C ou “REPROVADO” se o conceito for D ou E.\n",
    "\n",
    "**OBS.**: Adicione chamadas de teste à sua função."
   ]
  },
  {
   "cell_type": "code",
   "execution_count": 9,
   "metadata": {},
   "outputs": [
    {
     "name": "stdout",
     "output_type": "stream",
     "text": [
      "Nota 1: 1.00 - Nota 2: 1.00 - Média: 1.00 - Conceito: E - Resultado: REPROVADO\n",
      "Nota 1: 5.00 - Nota 2: 5.00 - Média: 5.00 - Conceito: D - Resultado: REPROVADO\n",
      "Nota 1: 6.00 - Nota 2: 6.00 - Média: 6.00 - Conceito: C - Resultado: APROVADO\n",
      "Nota 1: 8.00 - Nota 2: 8.00 - Média: 8.00 - Conceito: B - Resultado: APROVADO\n",
      "Nota 1: 10.00 - Nota 2: 10.00 - Média: 10.00 - Conceito: A - Resultado: APROVADO\n"
     ]
    }
   ],
   "source": [
    "def calcMedia(nota1, nota2):\n",
    "    '''Função que calcula a media e retorna conceito e se aprovado ou reprovado.'''\n",
    "    media = (nota1+nota2)/2\n",
    "    if(media >= 9.0):\n",
    "        conceito = 'A'\n",
    "        resultado = 'APROVADO'\n",
    "    elif(media >= 7.5 and media < 9.0):\n",
    "        conceito = 'B'\n",
    "        resultado = 'APROVADO'\n",
    "    elif(media >= 6.0 and media < 7.5):\n",
    "        conceito = 'C'\n",
    "        resultado = 'APROVADO'\n",
    "    elif(media >= 4.0 and media < 6.0):\n",
    "        conceito = 'D'\n",
    "        resultado = 'REPROVADO'\n",
    "    else:\n",
    "        conceito = 'E'\n",
    "        resultado = 'REPROVADO'\n",
    "        \n",
    "    print('Nota 1: %1.2f - Nota 2: %1.2f - Média: %1.2f - Conceito: %s - Resultado: %s' % (nota1, nota2,media,conceito,resultado))\n",
    "        \n",
    "calcMedia(1, 1)\n",
    "calcMedia(5, 5)\n",
    "calcMedia(6, 6)\n",
    "calcMedia(8, 8)\n",
    "calcMedia(10, 10)"
   ]
  },
  {
   "cell_type": "markdown",
   "metadata": {},
   "source": [
    "#### 3)  Implemente uma função que receba uma letra como argumento e que verifique se essa letra é uma vogal ou consoante. Use os operadores de associação para verificar se a letra digitada está presente em uma lista de vogais. "
   ]
  },
  {
   "cell_type": "code",
   "execution_count": 13,
   "metadata": {},
   "outputs": [
    {
     "name": "stdout",
     "output_type": "stream",
     "text": [
      "v NÃO é uma vogal.\n",
      "A é uma vogal.\n"
     ]
    }
   ],
   "source": [
    "def isVowel(v):\n",
    "    '''Função que verifica se uma letra é uma vogal.'''\n",
    "    vowels = ['a', 'e', 'i', 'o', 'u']\n",
    "    if v.lower() in vowels:\n",
    "        print('%s é uma vogal.' % (v))\n",
    "    else:\n",
    "        print('%s NÃO é uma vogal.' % (v))\n",
    "    \n",
    "isVowel('v')\n",
    "isVowel('A')"
   ]
  },
  {
   "cell_type": "markdown",
   "metadata": {},
   "source": [
    "#### 4)  Um ano bissexto ocorre aproximadamente a cada 4 anos. Escreva uma função, que receba como argumento de entrada um ano (um número inteiro), e que retorne `True` caso o ano seja bissexto ou `False` caso contrário. Para ser bissexto, o valor do ano precisa ser múltiplo de 4, exceto múltiplos de 100 que não são múltiplos de 400. Assim, por exemplo, o ano de 2020 é bissexto pois satisfaz todas essas condições. Adicione chamadas de teste à sua função.\n",
    "\n",
    "**Dica**: Use o operador ```%``` para verificar se ano é um múltiplo de algum número, como por exemplo\n",
    "\n",
    "```ano % 4 == 0```\n",
    "\n",
    "Se ```ano=12```, a expressão ```12 % 4 == 0``` resulta em ```True``` pois como 12 é múltiplo de 4 o resto da divisão (```12%4```) é igual a zero."
   ]
  },
  {
   "cell_type": "code",
   "execution_count": 22,
   "metadata": {},
   "outputs": [
    {
     "name": "stdout",
     "output_type": "stream",
     "text": [
      "2020 é bissexto? True\n",
      "2021 é bissexto? False\n",
      "2016 é bissexto? True\n",
      "1900 é bissexto? False\n",
      "2005 é bissexto? False\n",
      "2004 é bissexto? True\n"
     ]
    }
   ],
   "source": [
    "def isAnoBissexto(ano):\n",
    "    '''Funçãoque verifica se um ano é bissexto.'''\n",
    "    ret = False\n",
    "    if ano % 4 == 0 and ano % 100 != 0 or ano % 400 == 0:\n",
    "        if ano % 100:\n",
    "            ret = True\n",
    "    return ret\n",
    "\n",
    "print('2020 é bissexto?', isAnoBissexto(2020))\n",
    "print('2021 é bissexto?', isAnoBissexto(2021))\n",
    "print('2016 é bissexto?', isAnoBissexto(2016))\n",
    "\n",
    "print('1900 é bissexto?', isAnoBissexto(1900))\n",
    "print('2005 é bissexto?', isAnoBissexto(2005))\n",
    "print('2004 é bissexto?', isAnoBissexto(2004))"
   ]
  },
  {
   "cell_type": "markdown",
   "metadata": {},
   "source": [
    "#### 5)  Supondo que a população de um país A seja de 80000 habitantes com uma taxa anual de crescimento de 3% e que a população de um país B seja de 200000 habitantes com uma taxa de crescimento de 1.5%. Faça um programa que calcule e escreva o número de anos necessários para que a população do país A ultrapasse ou iguale a população do país B, mantidas as taxas de crescimento. Quantos anos são necessário para que a população do pais A ultrapasse a população do país B? Qual a população de ambos países após esse número de anos?"
   ]
  },
  {
   "cell_type": "code",
   "execution_count": 26,
   "metadata": {},
   "outputs": [
    {
     "name": "stdout",
     "output_type": "stream",
     "text": [
      "Quantos anos para população de A ultrapassar a de B? 63\n",
      "População de A após 63 anos?: 515033.10\n",
      "População de B após 63 anos?: 510964.42\n"
     ]
    }
   ],
   "source": [
    "A = 80000\n",
    "ATaxa = 3.0/100.0\n",
    "B = 200000\n",
    "BTaxa = 1.5/100.0\n",
    "\n",
    "anos = 0\n",
    "while(A < B):\n",
    "    A += A*ATaxa\n",
    "    B += B*BTaxa\n",
    "    anos += 1\n",
    "    \n",
    "print('Quantos anos para população de A ultrapassar a de B?', anos)\n",
    "print('População de A após %d anos?: %1.2f' % (anos, A))\n",
    "print('População de B após %d anos?: %1.2f' % (anos, B))"
   ]
  },
  {
   "cell_type": "markdown",
   "metadata": {},
   "source": [
    "#### 6)  Implemente uma função que receba 2 números, `base` e `expoente`, calcule e imprima na tela o primeiro número elevado ao segundo número, ou seja, $base^{expoente}$. Não utilize a função de potênciação da linguagem, utilize laços de repetição."
   ]
  },
  {
   "cell_type": "code",
   "execution_count": 36,
   "metadata": {},
   "outputs": [
    {
     "name": "stdout",
     "output_type": "stream",
     "text": [
      "1\n",
      "2\n",
      "4\n",
      "8\n",
      "16\n"
     ]
    }
   ],
   "source": [
    "def exponenciacao(base, expoente):\n",
    "    '''Função que calcula o valor de uma base elevado a um expoente.'''\n",
    "    ret = 1\n",
    "    for i in range(0, expoente):\n",
    "        ret *= base\n",
    "    return ret\n",
    "\n",
    "print(exponenciacao(2, 0))\n",
    "print(exponenciacao(2, 1))\n",
    "print(exponenciacao(2, 2))\n",
    "print(exponenciacao(2, 3))\n",
    "print(exponenciacao(2, 4))"
   ]
  },
  {
   "cell_type": "markdown",
   "metadata": {},
   "source": [
    "#### 7)  Implemente uma função que calcule o fatorial de um número inteiro fornecido pelo usuário e imprima a resposta como mostrado nos exemplos abaixo. Ex.: $5! = 5*4*3*2*1 = 120$. Utilize apenas laços de repetição.  A saída deve ser exatamente conforme os mostradas para os exemplos abaixo:\n",
    "\n",
    "+ Fatorial de 0:\n",
    "\n",
    "`0! = 1`\n",
    "\n",
    "+ Fatorial de 1:\n",
    "\n",
    "`1! = 1 = 1`\n",
    "\n",
    "+ Fatorial de 2:\n",
    "\n",
    "`2! = 2 . 1 = 2`\n",
    "\n",
    "+ Fatorial de 3:\n",
    "\n",
    "`3! = 3 . 2 . 1 = 6`\n",
    "\n",
    "+ Fatorial de 4:\n",
    "\n",
    "`4! = 4 . 3 . 2 . 1 = 24`\n",
    "\n",
    "+ Fatorial de 5:\n",
    "\n",
    "`5! =  5 . 4 . 3 . 2 . 1 = 120`"
   ]
  },
  {
   "cell_type": "code",
   "execution_count": 1,
   "metadata": {},
   "outputs": [
    {
     "name": "stdout",
     "output_type": "stream",
     "text": [
      "0! = 1\n",
      "1! = 1 = 1\n",
      "2! = 2 . 1 = 2\n",
      "3! = 3 . 2 . 1 = 6\n",
      "4! = 4 . 3 . 2 . 1 = 24\n",
      "5! = 5 . 4 . 3 . 2 . 1 = 120\n"
     ]
    }
   ],
   "source": [
    "def calcFatorial(num):\n",
    "    ret = 1\n",
    "    var = num\n",
    "    print('%d! = ' % (num), end='')\n",
    "    while var > 0:\n",
    "        ret = ret * var\n",
    "        print('%d' % (var), end='')\n",
    "        if(var > 1):\n",
    "            print(' . ', end='')\n",
    "        else:\n",
    "            print(' = ', end='')\n",
    "        var = var - 1\n",
    "    print('%d' % (ret))\n",
    "\n",
    "calcFatorial(0)\n",
    "calcFatorial(1)\n",
    "calcFatorial(2)\n",
    "calcFatorial(3)\n",
    "calcFatorial(4)\n",
    "calcFatorial(5)"
   ]
  },
  {
   "cell_type": "markdown",
   "metadata": {},
   "source": [
    "#### 8) A série de Fibonacci é gerada através da seguinte equação $F_n = F_{n-1} + F_{n-2}$, onde os 2 primeiros termos são $F_{0} = 0$ e $F_{1} = 1$, respectivamente. Todos os outros termos são obtidos adicionando os dois termos anteriores. Os primeiros valores da série são: 0,1, 1, 2, 3, 5, 8, 13, 21, 34, 55, 89, 144, 233, 377, 610, 987, 1597, 2584, e assim por diante. Desta forma, escreva um programa que gere e imprima na tela a série de Fibonacci até que o valor gerado seja maior que 100000."
   ]
  },
  {
   "cell_type": "code",
   "execution_count": 74,
   "metadata": {},
   "outputs": [
    {
     "name": "stdout",
     "output_type": "stream",
     "text": [
      "0,1,1,2,3,5,8,13,21,34,55,89,144,233,377,610,987,1597,2584,4181,6765,10946,17711,28657,46368,75025,121393"
     ]
    }
   ],
   "source": [
    "fb = [0, 1]\n",
    "inc = 0\n",
    "f = 0\n",
    "while f < 100000:\n",
    "    if inc < 2:\n",
    "        f = fb[inc]\n",
    "    else:\n",
    "        f = fb[0] + fb[1]\n",
    "        fb[0] = fb[1]\n",
    "        fb[1] = f\n",
    "    inc += 1\n",
    "    print('%d' % (f), end='')\n",
    "    if(f < 100000):\n",
    "        print(',', end='')\n",
    "    else:\n",
    "        print('', end='')"
   ]
  },
  {
   "cell_type": "markdown",
   "metadata": {},
   "source": [
    "#### 9) Implemente uma função que gere números 2 aleatórios com valores entre 1 e 10 e calcule a soma destes 2 números até que o número resultante da soma seja igual a 5.\n",
    "\n",
    "**Dica**: Use a função `randint(inicio,fim)` do módulo `random` (ou seja, importe o módulo `random`) para gerar um número aleatório, onde os valores de (início, fim) representam o intervalo desejado para os números a serem gerados.\n",
    "\n",
    "Exemplo: randint(1,10) → gera um número aleatório entre 1 e 10, inclusive."
   ]
  },
  {
   "cell_type": "code",
   "execution_count": 83,
   "metadata": {},
   "outputs": [
    {
     "name": "stdout",
     "output_type": "stream",
     "text": [
      "4 + 1 = 5\n"
     ]
    }
   ],
   "source": [
    "import random as r\n",
    "\n",
    "def somaRandom():\n",
    "    '''Função que soma 2 números aleatórios até que a soma seja igual a 5.'''\n",
    "    soma = 0\n",
    "    while soma != 5:\n",
    "        v1 = r.randint(1,10)\n",
    "        v2 = r.randint(1,10)\n",
    "        soma = v1 + v2\n",
    "    print('%d + %d = %d' % (v1, v2, soma))\n",
    "    \n",
    "somaRandom()"
   ]
  }
 ],
 "metadata": {
  "kernelspec": {
   "display_name": "Python 3",
   "language": "python",
   "name": "python3"
  },
  "language_info": {
   "codemirror_mode": {
    "name": "ipython",
    "version": 3
   },
   "file_extension": ".py",
   "mimetype": "text/x-python",
   "name": "python",
   "nbconvert_exporter": "python",
   "pygments_lexer": "ipython3",
   "version": "3.7.7"
  }
 },
 "nbformat": 4,
 "nbformat_minor": 4
}
