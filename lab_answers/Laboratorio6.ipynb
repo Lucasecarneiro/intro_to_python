{
 "cells": [
  {
   "cell_type": "markdown",
   "metadata": {},
   "source": [
    "# Laboratório #6\n",
    "\n",
    "### ATENCÃO\n",
    "\n",
    "1. Para cada um dos exercícios a seguir, faça o seguinte:\n",
    "    * Adicione comentários ao seu código. Os comentários servem para explicar o código, ajudando você a lembrar do que se trata aquele trecho de código, como também outras pessoas a entenderem o que foi feito.\n",
    "    * Caso o exercício involva a implementação de uma função:\n",
    "        + Coloque um comentário dizendo o que a função faz, use **docstrings**.\n",
    "        + Escolha nomes explicativos para suas funções e parâmetros.\n",
    "    \n",
    "2. Quando você terminar os exercícios do laboratório, vá ao menu do Jupyter ou Colab e selecione a opção para fazer download do notebook.\n",
    "    * Os notebooks tem extensão .ipynb. \n",
    "    * Este deve ser o arquivo que você irá entregar.\n",
    "    * No Jupyter vá até a opção **File** -> **Download as** -> **Notebook (.ipynb)**.\n",
    "    * No Colab vá até a opção **File** -> **Download .ipynb**."
   ]
  },
  {
   "cell_type": "markdown",
   "metadata": {},
   "source": [
    "**Nome**:\n",
    "\n",
    "**Matrícula**:"
   ]
  },
  {
   "cell_type": "markdown",
   "metadata": {},
   "source": [
    "## Exercícios"
   ]
  },
  {
   "cell_type": "markdown",
   "metadata": {},
   "source": [
    "#### 1)  Implemente a classe `Funcionário`. Um funcionário possui atributos `nome` e um `salario`. Crie um construtor que receba dois parâmetros (`nome` e `salário`) e um método `aumentarSalario` que aumente o salário do funcionário em uma certa porcentagem dada pelo parâmetro `percentualDeAumento`. Além disso, crie um método `info` que imprima os atributos do funcionário, i.e., `nome` e `salário`. Em seguida, teste o seu código como mostrado no exemplo de uso abaixo.\n",
    "\n",
    "Exemplo de uso: \n",
    "\n",
    "```python\n",
    "harry = Funcionario('Harry', 2500) \n",
    "harry.aumentarSalario(10)\n",
    "harry.info()\n",
    "```"
   ]
  },
  {
   "cell_type": "code",
   "execution_count": 74,
   "metadata": {},
   "outputs": [
    {
     "name": "stdout",
     "output_type": "stream",
     "text": [
      "Nome: Harry - Salário atual: 2750.00\n"
     ]
    }
   ],
   "source": [
    "class Funcionario:\n",
    "    \n",
    "    def __init__(self, nome, salario):\n",
    "        self.nome = nome\n",
    "        self.salario = salario\n",
    "        \n",
    "    def aumentarSalario(self, percentualDeAumento):\n",
    "        self.salario = self.salario + self.salario*(percentualDeAumento/100.0)\n",
    "        \n",
    "    def info(self):\n",
    "        print('Nome: %s - Salário atual: %1.2f' % (self.nome, self.salario))\n",
    "        \n",
    "harry = Funcionario('Harry', 2500) \n",
    "harry.aumentarSalario(10)\n",
    "harry.info()"
   ]
  },
  {
   "cell_type": "markdown",
   "metadata": {},
   "source": [
    "#### 2)  Uma empresa POSSUI vários funcionários. Baseado nessa afirmação, implemente uma classe  `Empresa` que possa conter vários objetos da classe `Funcionário` definida no exercício anterior. Utilize uma lista ou dicionário para armazenar os funcionários. A classe  `Empresa` deve conter os seguintes métodos: \n",
    "+ `contratar`: que recebe o `nome` e `salário` do funcionário sendo contratado, cria um objeto da classe `Funcionário` e o amarzena na coleção de funcionários (e.g., lista, dicionário).\n",
    "+ `demitir`: que recebe o `nome` de um funcionário que foi demitido e que precisa ser removido da coleção de funcionários da empresa.\n",
    "+ `darAumento`: que recebe o `nome` e o `percentualDeAumento` que um funcionário deve ter em seu salário atual.\n",
    "+ `consultarSalario`: que recebe o `nome` do  funcionário que se quer verificar o salário. Este método deve retornar o valor do salário.\n",
    "+ `listarTodosFuncionarios`: este método deve imprimir todos os funcionários e seus respectivos salários.\n",
    "+ `quantidadeDeFuncionarios`: este método deve retornar o número de funcionários da empresa.\n",
    "\n",
    "Implemente a classe `Empresa` na célula abaixo."
   ]
  },
  {
   "cell_type": "code",
   "execution_count": 75,
   "metadata": {},
   "outputs": [],
   "source": [
    "# Implemente aqui a classe Empresa.\n",
    "\n",
    "class Empresa:\n",
    "    funcionarios = {}\n",
    "    \n",
    "    def contratar(self, nome, salario):\n",
    "        self.funcionarios[nome] = Funcionario(nome, salario)\n",
    "        \n",
    "    def demitir(self, nome):\n",
    "        self.funcionarios.pop(nome)\n",
    "            \n",
    "    def darAumento(self, nome, percentualDeAumento):\n",
    "        self.funcionarios[nome].aumentarSalario(percentualDeAumento)\n",
    "                \n",
    "    def consultarSalario(self, nome):\n",
    "        return self.funcionarios[nome].salario\n",
    "    \n",
    "    def listarTodosFuncionarios(self): \n",
    "        if(self.quantidadeDeFuncionarios() > 0):\n",
    "            for fun in self.funcionarios.values():     \n",
    "                print('Nome: %s - Salário: %1.2f' % (fun.nome, fun.salario))\n",
    "        else:\n",
    "            print('Empresa sem funcionários.')            \n",
    "\n",
    "    def quantidadeDeFuncionarios(self):\n",
    "        return len(self.funcionarios)\n",
    "\n",
    "class Empresa2:\n",
    "    funcionarios = []\n",
    "    \n",
    "    def contratar(self, nome, salario):\n",
    "        self.funcionarios.append(Funcionario(nome, salario))\n",
    "        \n",
    "    def demitir(self, nome):\n",
    "        for i in range(0,self.quantidadeDeFuncionarios()):\n",
    "            if(nome==self.funcionarios[i].nome):\n",
    "                del self.funcionarios[i]\n",
    "                break\n",
    "            \n",
    "    def darAumento(self, nome, percentualDeAumento):\n",
    "        for i in range(0,self.quantidadeDeFuncionarios()):\n",
    "            if(nome==self.funcionarios[i].nome):\n",
    "                self.funcionarios[i].aumentarSalario(percentualDeAumento)\n",
    "                break\n",
    "                \n",
    "    def consultarSalario(self, nome):\n",
    "        salario = 0\n",
    "        for i in range(0,self.quantidadeDeFuncionarios()):\n",
    "            if(nome==self.funcionarios[i].nome):\n",
    "                salario = self.funcionarios[i].salario\n",
    "                break\n",
    "        return salario\n",
    "    \n",
    "    def listarTodosFuncionarios(self):\n",
    "        if(self.quantidadeDeFuncionarios() > 0):\n",
    "            for fun in self.funcionarios:\n",
    "                print('Nome: %s - Salário: %1.2f' % (fun.nome, fun.salario))\n",
    "        else:\n",
    "            print('Empresa sem funcionários.')\n",
    "\n",
    "    def quantidadeDeFuncionarios(self):\n",
    "        return len(self.funcionarios)"
   ]
  },
  {
   "cell_type": "markdown",
   "metadata": {},
   "source": [
    "Em seguida, execute o código da célula abaixo, o qual deve resultar na seguinte saída esperada:\n",
    "\n",
    "```python\n",
    "Quantidade de funcionarios: 0\n",
    "Quantidade de funcionarios: 1\n",
    "Quantidade de funcionarios: 2\n",
    "Nome: José - Salário: 1000.00\n",
    "Nome: Ana - Salário: 15600.00\n",
    "Salário de José antes do aumento: 1000.0\n",
    "Salário de José após o aumento: 1100.0\n",
    "Quantidade de funcionarios: 1\n",
    "Nome: José - Salário: 1100.00\n",
    "Quantidade de funcionarios: 0\n",
    "Empresa sem funcionários.\n",
    "```"
   ]
  },
  {
   "cell_type": "code",
   "execution_count": 76,
   "metadata": {},
   "outputs": [
    {
     "name": "stdout",
     "output_type": "stream",
     "text": [
      "Quantidade de funcionarios: 0\n",
      "Quantidade de funcionarios: 1\n",
      "Quantidade de funcionarios: 2\n",
      "Nome: José - Salário: 1000.00\n",
      "Nome: Ana - Salário: 15600.00\n",
      "Salário de José antes do aumento: 1000.0\n",
      "Salário de José após o aumento: 1100.0\n",
      "Quantidade de funcionarios: 1\n",
      "Nome: José - Salário: 1100.00\n",
      "Quantidade de funcionarios: 0\n",
      "Empresa sem funcionários.\n"
     ]
    }
   ],
   "source": [
    "empresa = Empresa()\n",
    "print('Quantidade de funcionarios:', empresa.quantidadeDeFuncionarios())\n",
    "\n",
    "empresa.contratar('José', 1000.0)\n",
    "print('Quantidade de funcionarios:', empresa.quantidadeDeFuncionarios())\n",
    "\n",
    "empresa.contratar('Ana', 15600.0)\n",
    "print('Quantidade de funcionarios:', empresa.quantidadeDeFuncionarios())\n",
    "empresa.listarTodosFuncionarios()\n",
    "\n",
    "print('Salário de José antes do aumento:', empresa.consultarSalario('José'))\n",
    "\n",
    "empresa.darAumento('José', 10)\n",
    "\n",
    "print('Salário de José após o aumento:', empresa.consultarSalario('José'))\n",
    "\n",
    "empresa.demitir('Ana')\n",
    "print('Quantidade de funcionarios:', empresa.quantidadeDeFuncionarios())\n",
    "\n",
    "empresa.listarTodosFuncionarios()\n",
    "\n",
    "empresa.demitir('José')\n",
    "print('Quantidade de funcionarios:', empresa.quantidadeDeFuncionarios())\n",
    "\n",
    "empresa.listarTodosFuncionarios()"
   ]
  },
  {
   "cell_type": "markdown",
   "metadata": {},
   "source": [
    "#### 3)  Crie uma classe chamada `Aluno`, que possui os atributos `nome` e `cpf`. Crie outra classe chamada `Equipe`, que possui como atributo uma lista de partipantes do tipo `Aluno` e outro atributo, do tipo `string`, chamado `projeto`. Crie uma terceira classe chamada `GerenciadorDeEquipes`. Essa classe possui como atributo uma lista de todas as equipes formadas. Ela deverá possuir o método `criarEquipe`, que recebe um dicionário de pares cpf e aluno, onde cpf é a chave, que querem formar uma equipe e diz se a equipe pode ser formada ou não. Caso não haja nenhum aluno da equipe a ser formada em uma outra equipe com o mesmo projeto, então a equipe é criada e acrescentada à lista. Caso contrário é informado que a equipe não pode ser criada.\n",
    "\n",
    "Implemente as classes na célula abaixo."
   ]
  },
  {
   "cell_type": "code",
   "execution_count": 77,
   "metadata": {},
   "outputs": [],
   "source": [
    "class Aluno:\n",
    "    def __init__(self, nome, cpf):\n",
    "        self.nome = nome\n",
    "        self.cpf = cpf\n",
    "\n",
    "class Equipe:\n",
    "    alunos = []\n",
    "    projeto = ''\n",
    "    \n",
    "    def __init__(self, equipe, projeto):\n",
    "        self.projeto = projeto\n",
    "        for (cpf, nome) in equipe.items():\n",
    "            self.alunos.append(Aluno(nome, cpf))\n",
    "            \n",
    "    def tamanhoDaEquipe(self):\n",
    "        return len(self.alunos)\n",
    "    \n",
    "class GerenciadorDeEquipes:\n",
    "    equipes = []\n",
    "    \n",
    "    def criarEquipe(self, equipe, projeto):\n",
    "        criar = True\n",
    "        for i in range(0, len(self.equipes)):\n",
    "            if(self.equipes[i].projeto == projeto):\n",
    "                for j in range(0, self.equipes[i].tamanhoDaEquipe()):\n",
    "                    for cpf in equipe.keys():\n",
    "                        if(self.equipes[i].alunos[j].cpf == cpf):\n",
    "                            criar = False\n",
    "                            break   \n",
    "        if(criar==True):                \n",
    "            self.equipes.append(Equipe(equipe, projeto))\n",
    "            print('A equipe foi criada com sucesso.')\n",
    "        else:\n",
    "            print('A equipe não foi criada, pois um aluno está em outro projeto já registrado.')"
   ]
  },
  {
   "cell_type": "markdown",
   "metadata": {},
   "source": [
    "Em seguida, execute o código da célula abaixo, o qual deve resultar na seguinte saída esperada:\n",
    "\n",
    "```python\n",
    "A equipe foi criada com sucesso.\n",
    "A equipe foi criada com sucesso.\n",
    "A equipe não foi criada, pois um aluno está em outro projeto já registrado.\n",
    "A equipe foi criada com sucesso.\n",
    "A equipe não foi criada, pois um aluno está em outro projeto já registrado.\n",
    "```"
   ]
  },
  {
   "cell_type": "code",
   "execution_count": 78,
   "metadata": {},
   "outputs": [
    {
     "name": "stdout",
     "output_type": "stream",
     "text": [
      "A equipe foi criada com sucesso.\n",
      "A equipe foi criada com sucesso.\n",
      "A equipe não foi criada, pois um aluno está em outro projeto já registrado.\n",
      "A equipe foi criada com sucesso.\n",
      "A equipe não foi criada, pois um aluno está em outro projeto já registrado.\n"
     ]
    }
   ],
   "source": [
    "equipe1 = {123:'João', 666:'Eddie', 456:'Ana'}\n",
    "equipe2 = {454:'José', 256:'Tiago', 786:'Jonas'}\n",
    "equipe3 = {123:'João', 567:'Joana', 890:'Felipe'}\n",
    "equipe4 = {367:'Silvia', 256:'Tiago', 619:'Maria'}\n",
    "\n",
    "ger = GerenciadorDeEquipes()\n",
    "\n",
    "ger.criarEquipe(equipe1, 'FETIN')\n",
    "ger.criarEquipe(equipe2, 'FETIN')\n",
    "ger.criarEquipe(equipe3, 'FETIN')\n",
    "ger.criarEquipe(equipe3, 'PROJETE')\n",
    "ger.criarEquipe(equipe4, 'FETIN')"
   ]
  },
  {
   "cell_type": "markdown",
   "metadata": {},
   "source": [
    "#### 4)  Crie uma classe chamada `Ingresso`, que possui um valor em reais e um método `imprimirValor()`. Crie uma classe `IngressoVIP`, que herda de `Ingresso` e possui um valor adicional. Crie um método que retorne o valor do ingresso VIP (com o adicional incluído). Crie um programa para criar as instâncias de `Ingresso` e `IngressoVIP`, mostrando a diferença de preços.\n",
    "\n",
    "Implemente as classes na célula abaixo."
   ]
  },
  {
   "cell_type": "code",
   "execution_count": 90,
   "metadata": {},
   "outputs": [],
   "source": [
    "class Ingresso:\n",
    "    def __init__(self, valor):\n",
    "        self.valor = valor\n",
    "\n",
    "    def imprimirValor(self):\n",
    "        print(self.valor)\n",
    "\n",
    "class IngressoVIP(Ingresso):\n",
    "    def __init__(self, valor, adicional):\n",
    "        Ingresso.__init__(self, valor + adicional)"
   ]
  },
  {
   "cell_type": "markdown",
   "metadata": {},
   "source": [
    "Em seguida, execute o código da célula abaixo, o qual deve resultar na seguinte saída esperada:\n",
    "\n",
    "```python\n",
    "Preço do ingresso normal: 10\n",
    "Preço do ingresso VIP: 15\n",
    "```"
   ]
  },
  {
   "cell_type": "code",
   "execution_count": 92,
   "metadata": {},
   "outputs": [
    {
     "name": "stdout",
     "output_type": "stream",
     "text": [
      "Preço do ingresso normal: 10\n",
      "Preço do ingresso VIP: 15\n"
     ]
    }
   ],
   "source": [
    "ingressoNormal = Ingresso(10)\n",
    "ingressoVIP = IngressoVIP(10, 5)\n",
    "\n",
    "print(\"Preço do ingresso normal: \", end='')\n",
    "ingressoNormal.imprimirValor()\n",
    "\n",
    "print(\"Preço do ingresso VIP: \", end='')\n",
    "ingressoVIP.imprimirValor()"
   ]
  },
  {
   "cell_type": "markdown",
   "metadata": {},
   "source": [
    "#### 5)  Crie uma classe chamada `Forma`, que possui os atributos `area` e `perimetro`. Em seguida, implemente as subclasses `Retangulo`, `Triangulo` e `Circulo`, que devem conter os métodos `calcularArea` e `calcularPerimetro`. A classe `Triangulo` deve ter também o atributo `altura`. \n",
    "\n",
    "Implemente as classes na célula abaixo."
   ]
  },
  {
   "cell_type": "code",
   "execution_count": 93,
   "metadata": {},
   "outputs": [],
   "source": [
    "class Forma:\n",
    "    area = 0\n",
    "    perimetro = 0\n",
    "    nome = ''\n",
    "\n",
    "class Retangulo(Forma):\n",
    "    base = 0\n",
    "    altura = 0\n",
    "\n",
    "    def __init__(self, base, altura):\n",
    "        self.base = base\n",
    "        self.altura = altura\n",
    "        self.nome = 'Retângulo'\n",
    "\n",
    "    def calcularArea(self):\n",
    "        self.area = self.base*self.altura\n",
    "        return self.area\n",
    "\n",
    "    def calcularPerimetro(self):\n",
    "        self.perimetro = 2.0*(self.base + self.altura)\n",
    "        return self.perimetro\n",
    "\n",
    "class Triangulo(Forma):\n",
    "    a = 0\n",
    "    b = 0\n",
    "    c = 0\n",
    "    altura = 0\n",
    "\n",
    "    def __init__(self, a, b, c, altura):\n",
    "        self.a = a\n",
    "        self.b = b\n",
    "        self.c = c\n",
    "        self.altura = altura\n",
    "        self.nome = 'Triângulo'\n",
    "\n",
    "    def calcularArea(self):\n",
    "        self.area = self.b*self.altura\n",
    "        return self.area\n",
    "\n",
    "    def calcularPerimetro(self):\n",
    "        self.perimetro = self.a + self.b + self.c\n",
    "        return self.perimetro\n",
    "    \n",
    "class Circulo(Forma):\n",
    "    raio = 0\n",
    "    \n",
    "    def __init__(self, raio):\n",
    "        self.raio = raio\n",
    "        self.nome = 'Círculo'\n",
    "        \n",
    "    def calcularArea(self):\n",
    "        self.area = 3.14*self.raio**2\n",
    "        return self.area\n",
    "\n",
    "    def calcularPerimetro(self):\n",
    "        self.perimetro = 2.0*3.14*self.raio\n",
    "        return self.perimetro   "
   ]
  },
  {
   "cell_type": "markdown",
   "metadata": {},
   "source": [
    "Em seguida, execute o código da célula abaixo, o qual deve resultar na seguinte saída esperada:\n",
    "\n",
    "```python\n",
    "Forma: Triângulo - área: 2.00\n",
    "Forma: Retângulo - área: 2.00\n",
    "Forma: Círculo - área: 12.56\n",
    "Forma: Triângulo - perímetro: 5.00\n",
    "Forma: Retângulo - perímetro: 6.00\n",
    "Forma: Círculo - perímetro: 12.56\n",
    "```"
   ]
  },
  {
   "cell_type": "code",
   "execution_count": 94,
   "metadata": {},
   "outputs": [
    {
     "name": "stdout",
     "output_type": "stream",
     "text": [
      "Forma: Triângulo - área: 2.00\n",
      "Forma: Retângulo - área: 2.00\n",
      "Forma: Círculo - área: 12.56\n",
      "Forma: Triângulo - perímetro: 5.00\n",
      "Forma: Retângulo - perímetro: 6.00\n",
      "Forma: Círculo - perímetro: 12.56\n"
     ]
    }
   ],
   "source": [
    "t = Triangulo(2, 1, 2, 2)\n",
    "\n",
    "r = Retangulo(1, 2)\n",
    "\n",
    "c = Circulo(2)\n",
    "\n",
    "objs = [t, r, c]\n",
    "\n",
    "def calcularArea(objs):\n",
    "    for obj in objs:\n",
    "        print('Forma: %s - área: %1.2f' % (obj.nome, obj.calcularArea()))\n",
    "        \n",
    "def calcularPerimetro(objs):\n",
    "    for obj in objs:\n",
    "        print('Forma: %s - perímetro: %1.2f' % (obj.nome, obj.calcularPerimetro()))\n",
    "        \n",
    "calcularArea(objs)\n",
    "\n",
    "calcularPerimetro(objs)"
   ]
  },
  {
   "cell_type": "code",
   "execution_count": null,
   "metadata": {},
   "outputs": [],
   "source": []
  },
  {
   "cell_type": "code",
   "execution_count": null,
   "metadata": {},
   "outputs": [],
   "source": []
  },
  {
   "cell_type": "code",
   "execution_count": null,
   "metadata": {},
   "outputs": [],
   "source": []
  }
 ],
 "metadata": {
  "kernelspec": {
   "display_name": "Python 3",
   "language": "python",
   "name": "python3"
  },
  "language_info": {
   "codemirror_mode": {
    "name": "ipython",
    "version": 3
   },
   "file_extension": ".py",
   "mimetype": "text/x-python",
   "name": "python",
   "nbconvert_exporter": "python",
   "pygments_lexer": "ipython3",
   "version": "3.7.7"
  }
 },
 "nbformat": 4,
 "nbformat_minor": 4
}
