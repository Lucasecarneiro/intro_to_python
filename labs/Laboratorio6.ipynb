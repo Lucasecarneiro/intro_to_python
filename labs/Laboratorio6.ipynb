{
 "cells": [
  {
   "cell_type": "markdown",
   "metadata": {},
   "source": [
    "# Laboratório #6\n",
    "\n",
    "### ATENCÃO\n",
    "\n",
    "1. Para cada um dos exercícios a seguir, faça o seguinte:\n",
    "    * Adicione comentários ao seu código. Os comentários servem para explicar o código, ajudando você a lembrar do que se trata aquele trecho de código, como também outras pessoas a entenderem o que foi feito.\n",
    "    * Caso o exercício involva a implementação de uma função:\n",
    "        + Coloque um comentário dizendo o que a função faz, use **docstrings**.\n",
    "        + Escolha nomes explicativos para suas funções e parâmetros.\n",
    "    \n",
    "2. Quando você terminar os exercícios do laboratório, vá ao menu do Jupyter ou Colab e selecione a opção para fazer download do notebook.\n",
    "    * Os notebooks tem extensão .ipynb. \n",
    "    * Este deve ser o arquivo que você irá entregar.\n",
    "    * No Jupyter vá até a opção **File** -> **Download as** -> **Notebook (.ipynb)**.\n",
    "    * No Colab vá até a opção **File** -> **Download .ipynb**."
   ]
  },
  {
   "cell_type": "markdown",
   "metadata": {},
   "source": [
    "**Nome**:\n",
    "\n",
    "**Matrícula**:"
   ]
  },
  {
   "cell_type": "markdown",
   "metadata": {},
   "source": [
    "## Exercícios"
   ]
  },
  {
   "cell_type": "markdown",
   "metadata": {},
   "source": [
    "#### 1)  Implemente a classe `Funcionário`. Um funcionário possui atributos `nome` e um `salario`. Crie um construtor que receba dois parâmetros (`nome` e `salário`) e um método `aumentarSalario` que aumente o salário do funcionário em uma certa porcentagem dada pelo parâmetro `percentualDeAumento`. Além disso, crie um método `info` que imprima os atributos do funcionário, i.e., `nome` e `salário`. Em seguida, teste o seu código como mostrado no exemplo de uso abaixo.\n",
    "\n",
    "Exemplo de uso: \n",
    "\n",
    "```python\n",
    "harry = Funcionario('Harry', 2500) \n",
    "harry.aumentarSalario(10)\n",
    "harry.info()\n",
    "```"
   ]
  },
  {
   "cell_type": "code",
   "execution_count": null,
   "metadata": {},
   "outputs": [],
   "source": [
    "# Implemente aqui a classe."
   ]
  },
  {
   "cell_type": "markdown",
   "metadata": {},
   "source": [
    "#### 2)  Uma empresa POSSUI vários funcionários. Baseado nessa afirmação, implemente uma classe  `Empresa` que possa conter vários objetos da classe `Funcionário` definida no exercício anterior. Utilize uma lista ou dicionário para armazenar os funcionários. A classe  `Empresa` deve conter os seguintes métodos: \n",
    "+ `contratar`: que recebe o `nome` e `salário` do funcionário sendo contratado, cria um objeto da classe `Funcionário` e o amarzena na coleção de funcionários (e.g., lista, dicionário).\n",
    "+ `demitir`: que recebe o `nome` de um funcionário que foi demitido e que precisa ser removido da coleção de funcionários da empresa.\n",
    "+ `darAumento`: que recebe o `nome` e o `percentualDeAumento` que um funcionário deve ter em seu salário atual.\n",
    "+ `consultarSalario`: que recebe o `nome` do  funcionário que se quer verificar o salário. Este método deve retornar o valor do salário.\n",
    "+ `listarTodosFuncionarios`: este método deve imprimir todos os funcionários e seus respectivos salários.\n",
    "+ `quantidadeDeFuncionarios`: este método deve retornar o número de funcionários da empresa.\n",
    "\n",
    "Implemente a classe `Empresa` na célula abaixo."
   ]
  },
  {
   "cell_type": "code",
   "execution_count": 75,
   "metadata": {},
   "outputs": [],
   "source": [
    "# Implemente aqui a classe Empresa."
   ]
  },
  {
   "cell_type": "markdown",
   "metadata": {},
   "source": [
    "Em seguida, execute o código da célula abaixo, o qual deve resultar na seguinte saída esperada:\n",
    "\n",
    "```python\n",
    "Quantidade de funcionarios: 0\n",
    "Quantidade de funcionarios: 1\n",
    "Quantidade de funcionarios: 2\n",
    "Nome: José - Salário: 1000.00\n",
    "Nome: Ana - Salário: 15600.00\n",
    "Salário de José antes do aumento: 1000.0\n",
    "Salário de José após o aumento: 1100.0\n",
    "Quantidade de funcionarios: 1\n",
    "Nome: José - Salário: 1100.00\n",
    "Quantidade de funcionarios: 0\n",
    "Empresa sem funcionários.\n",
    "```"
   ]
  },
  {
   "cell_type": "code",
   "execution_count": 76,
   "metadata": {},
   "outputs": [
    {
     "name": "stdout",
     "output_type": "stream",
     "text": [
      "Quantidade de funcionarios: 0\n",
      "Quantidade de funcionarios: 1\n",
      "Quantidade de funcionarios: 2\n",
      "Nome: José - Salário: 1000.00\n",
      "Nome: Ana - Salário: 15600.00\n",
      "Salário de José antes do aumento: 1000.0\n",
      "Salário de José após o aumento: 1100.0\n",
      "Quantidade de funcionarios: 1\n",
      "Nome: José - Salário: 1100.00\n",
      "Quantidade de funcionarios: 0\n",
      "Empresa sem funcionários.\n"
     ]
    }
   ],
   "source": [
    "empresa = Empresa()\n",
    "print('Quantidade de funcionarios:', empresa.quantidadeDeFuncionarios())\n",
    "\n",
    "empresa.contratar('José', 1000.0)\n",
    "print('Quantidade de funcionarios:', empresa.quantidadeDeFuncionarios())\n",
    "\n",
    "empresa.contratar('Ana', 15600.0)\n",
    "print('Quantidade de funcionarios:', empresa.quantidadeDeFuncionarios())\n",
    "empresa.listarTodosFuncionarios()\n",
    "\n",
    "print('Salário de José antes do aumento:', empresa.consultarSalario('José'))\n",
    "\n",
    "empresa.darAumento('José', 10)\n",
    "\n",
    "print('Salário de José após o aumento:', empresa.consultarSalario('José'))\n",
    "\n",
    "empresa.demitir('Ana')\n",
    "print('Quantidade de funcionarios:', empresa.quantidadeDeFuncionarios())\n",
    "\n",
    "empresa.listarTodosFuncionarios()\n",
    "\n",
    "empresa.demitir('José')\n",
    "print('Quantidade de funcionarios:', empresa.quantidadeDeFuncionarios())\n",
    "\n",
    "empresa.listarTodosFuncionarios()"
   ]
  },
  {
   "cell_type": "markdown",
   "metadata": {},
   "source": [
    "#### 3)  Crie uma classe chamada `Aluno`, que possui os atributos `nome` e `cpf`. Crie outra classe chamada `Equipe`, que possui como atributo uma lista de partipantes do tipo `Aluno` e outro atributo, do tipo `string`, chamado `projeto`. Crie uma terceira classe chamada `GerenciadorDeEquipes`. Essa classe possui como atributo uma lista de todas as equipes formadas. Ela deverá possuir o método `criarEquipe`, que recebe um dicionário de pares cpf e aluno, onde cpf é a chave, que querem formar uma equipe e diz se a equipe pode ser formada ou não. Caso não haja nenhum aluno da equipe a ser formada em uma outra equipe com o mesmo projeto, então a equipe é criada e acrescentada à lista. Caso contrário é informado que a equipe não pode ser criada.\n",
    "\n",
    "Implemente as classes na célula abaixo."
   ]
  },
  {
   "cell_type": "code",
   "execution_count": 77,
   "metadata": {},
   "outputs": [],
   "source": [
    "# Implemente aqui as classes."
   ]
  },
  {
   "cell_type": "markdown",
   "metadata": {},
   "source": [
    "Em seguida, execute o código da célula abaixo, o qual deve resultar na seguinte saída esperada:\n",
    "\n",
    "```python\n",
    "A equipe foi criada com sucesso.\n",
    "A equipe foi criada com sucesso.\n",
    "A equipe não foi criada, pois um aluno está em outro projeto já registrado.\n",
    "A equipe foi criada com sucesso.\n",
    "A equipe não foi criada, pois um aluno está em outro projeto já registrado.\n",
    "```"
   ]
  },
  {
   "cell_type": "code",
   "execution_count": 78,
   "metadata": {},
   "outputs": [
    {
     "name": "stdout",
     "output_type": "stream",
     "text": [
      "A equipe foi criada com sucesso.\n",
      "A equipe foi criada com sucesso.\n",
      "A equipe não foi criada, pois um aluno está em outro projeto já registrado.\n",
      "A equipe foi criada com sucesso.\n",
      "A equipe não foi criada, pois um aluno está em outro projeto já registrado.\n"
     ]
    }
   ],
   "source": [
    "equipe1 = {123:'João', 666:'Eddie', 456:'Ana'}\n",
    "equipe2 = {454:'José', 256:'Tiago', 786:'Jonas'}\n",
    "equipe3 = {123:'João', 567:'Joana', 890:'Felipe'}\n",
    "equipe4 = {367:'Silvia', 256:'Tiago', 619:'Maria'}\n",
    "\n",
    "ger = GerenciadorDeEquipes()\n",
    "\n",
    "ger.criarEquipe(equipe1, 'FETIN')\n",
    "ger.criarEquipe(equipe2, 'FETIN')\n",
    "ger.criarEquipe(equipe3, 'FETIN')\n",
    "ger.criarEquipe(equipe3, 'PROJETE')\n",
    "ger.criarEquipe(equipe4, 'FETIN')"
   ]
  },
  {
   "cell_type": "markdown",
   "metadata": {},
   "source": [
    "#### 4)  Crie uma classe chamada `Ingresso`, que possui um valor em reais e um método `imprimirValor()`. Crie uma classe `IngressoVIP`, que herda de `Ingresso` e possui um valor adicional. Crie um método que retorne o valor do ingresso VIP (com o adicional incluído). Crie um programa para criar as instâncias de `Ingresso` e `IngressoVIP`, mostrando a diferença de preços.\n",
    "\n",
    "Implemente as classes na célula abaixo."
   ]
  },
  {
   "cell_type": "code",
   "execution_count": 90,
   "metadata": {},
   "outputs": [],
   "source": [
    "# Implemente aqui as classes."
   ]
  },
  {
   "cell_type": "markdown",
   "metadata": {},
   "source": [
    "Em seguida, execute o código da célula abaixo, o qual deve resultar na seguinte saída esperada:\n",
    "\n",
    "```python\n",
    "Preço do ingresso normal: 10\n",
    "Preço do ingresso VIP: 15\n",
    "```"
   ]
  },
  {
   "cell_type": "code",
   "execution_count": 92,
   "metadata": {},
   "outputs": [
    {
     "name": "stdout",
     "output_type": "stream",
     "text": [
      "Preço do ingresso normal: 10\n",
      "Preço do ingresso VIP: 15\n"
     ]
    }
   ],
   "source": [
    "ingressoNormal = Ingresso(10)\n",
    "ingressoVIP = IngressoVIP(10, 5)\n",
    "\n",
    "print(\"Preço do ingresso normal: \", end='')\n",
    "ingressoNormal.imprimirValor()\n",
    "\n",
    "print(\"Preço do ingresso VIP: \", end='')\n",
    "ingressoVIP.imprimirValor()"
   ]
  },
  {
   "cell_type": "markdown",
   "metadata": {},
   "source": [
    "#### 5)  Crie uma classe chamada `Forma`, que possui os atributos `area` e `perimetro`. Em seguida, implemente as subclasses `Retangulo`, `Triangulo` e `Circulo`, que devem conter os métodos `calcularArea` e `calcularPerimetro`. A classe `Triangulo` deve ter também o atributo `altura`. \n",
    "\n",
    "Implemente as classes na célula abaixo."
   ]
  },
  {
   "cell_type": "code",
   "execution_count": 93,
   "metadata": {},
   "outputs": [],
   "source": [
    "# Implemente aqui as classes."
   ]
  },
  {
   "cell_type": "markdown",
   "metadata": {},
   "source": [
    "Em seguida, execute o código da célula abaixo, o qual deve resultar na seguinte saída esperada:\n",
    "\n",
    "```python\n",
    "Forma: Triângulo - área: 2.00\n",
    "Forma: Retângulo - área: 2.00\n",
    "Forma: Círculo - área: 12.56\n",
    "Forma: Triângulo - perímetro: 5.00\n",
    "Forma: Retângulo - perímetro: 6.00\n",
    "Forma: Círculo - perímetro: 12.56\n",
    "```"
   ]
  },
  {
   "cell_type": "code",
   "execution_count": 94,
   "metadata": {},
   "outputs": [
    {
     "name": "stdout",
     "output_type": "stream",
     "text": [
      "Forma: Triângulo - área: 2.00\n",
      "Forma: Retângulo - área: 2.00\n",
      "Forma: Círculo - área: 12.56\n",
      "Forma: Triângulo - perímetro: 5.00\n",
      "Forma: Retângulo - perímetro: 6.00\n",
      "Forma: Círculo - perímetro: 12.56\n"
     ]
    }
   ],
   "source": [
    "t = Triangulo(2, 1, 2, 2)\n",
    "\n",
    "r = Retangulo(1, 2)\n",
    "\n",
    "c = Circulo(2)\n",
    "\n",
    "objs = [t, r, c]\n",
    "\n",
    "def calcularArea(objs):\n",
    "    for obj in objs:\n",
    "        print('Forma: %s - área: %1.2f' % (obj.nome, obj.calcularArea()))\n",
    "        \n",
    "def calcularPerimetro(objs):\n",
    "    for obj in objs:\n",
    "        print('Forma: %s - perímetro: %1.2f' % (obj.nome, obj.calcularPerimetro()))\n",
    "        \n",
    "calcularArea(objs)\n",
    "\n",
    "calcularPerimetro(objs)"
   ]
  }
 ],
 "metadata": {
  "kernelspec": {
   "display_name": "Python 3",
   "language": "python",
   "name": "python3"
  },
  "language_info": {
   "codemirror_mode": {
    "name": "ipython",
    "version": 3
   },
   "file_extension": ".py",
   "mimetype": "text/x-python",
   "name": "python",
   "nbconvert_exporter": "python",
   "pygments_lexer": "ipython3",
   "version": "3.7.7"
  }
 },
 "nbformat": 4,
 "nbformat_minor": 4
}
