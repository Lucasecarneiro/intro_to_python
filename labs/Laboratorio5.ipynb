{
 "cells": [
  {
   "cell_type": "markdown",
   "metadata": {},
   "source": [
    "# Laboratório #5\n",
    "\n",
    "### ATENCÃO\n",
    "\n",
    "1. Para cada um dos exercícios a seguir, faça o seguinte:\n",
    "    * Adicione comentários ao seu código. Os comentários servem para explicar o código, ajudando você a lembrar do que se trata aquele trecho de código, como também outras pessoas a entenderem o que foi feito.\n",
    "    * Caso o exercício involva a implementação de uma função:\n",
    "        + Coloque um comentário dizendo o que a função faz, use **docstrings**.\n",
    "        + Escolha nomes explicativos para suas funções e parâmetros.\n",
    "    \n",
    "2. Quando você terminar os exercícios do laboratório, vá ao menu do Jupyter ou Colab e selecione a opção para fazer download do notebook.\n",
    "    * Os notebooks tem extensão .ipynb. \n",
    "    * Este deve ser o arquivo que você irá entregar.\n",
    "    * No Jupyter vá até a opção **File** -> **Download as** -> **Notebook (.ipynb)**.\n",
    "    * No Colab vá até a opção **File** -> **Download .ipynb**."
   ]
  },
  {
   "cell_type": "markdown",
   "metadata": {},
   "source": [
    "**Nome**:\n",
    "\n",
    "**Matrícula**:"
   ]
  },
  {
   "cell_type": "markdown",
   "metadata": {},
   "source": [
    "## Exercícios"
   ]
  },
  {
   "cell_type": "markdown",
   "metadata": {},
   "source": [
    "#### 1)  Implemente três funções:\n",
    "\n",
    "1. `horasEmMinutos`: Dada uma quantidade em horas, a transforma para minutos.\n",
    "2.  `minutosEmSegundos`: Dada uma quantidade de minutos, a transforme em segundos.\n",
    "3. `horasEmSegundos`: Dada uma quantidade de horas, a transforma em segundos usando as funções dos itens 1 e 2."
   ]
  },
  {
   "cell_type": "code",
   "execution_count": null,
   "metadata": {},
   "outputs": [],
   "source": []
  },
  {
   "cell_type": "markdown",
   "metadata": {},
   "source": [
    "#### 2)  Um atleta olímpico corre em uma pista circular. Escreva uma função que, dados o raio da pista e a distância que ele percorreu, retorne o número de voltas (este número pode ser decimal, por exemplo, 2.4 voltas).\n",
    "\n",
    "**Dica**.: Implemente uma função que calcule o comprimento do círculo."
   ]
  },
  {
   "cell_type": "code",
   "execution_count": null,
   "metadata": {},
   "outputs": [],
   "source": []
  },
  {
   "cell_type": "markdown",
   "metadata": {},
   "source": [
    "#### 3)  João deseja fazer bolos para seus amigos, usando uma receita que indica que devem ser usadas 2 xícaras de farinha de trigo, 3 ovos e 5 colheres de sopa de leite. Em casa ele tem A xícaras de farinha de trigo, B ovos e C colheres de sopa de leite. João não tem muita prática com a cozinha, e portanto ele só se arriscará a fazer medidas exatas da receita de bolo (por exemplo, se ele tiver material suficiente para fazer mais do que 2 e menos do que 3 bolos, ele fará somente 2 bolos). Sabendo disto, ajude João escrevendo uma função que determine qual a quantidade máxima de bolos que ele consegue fazer.\n",
    "\n",
    "**Entrada**: Os parâmetros de entrada da função são três números inteiros A, B e C, indicando respectivamente o número de xícaras de farinha de trigo, o número de ovos e o número de colheres de sopa de leite que João tem em casa.\n",
    "\n",
    "**Saída**: Sua função deve retornar a quantidade máxima de bolos que João consegue fazer.\n",
    "\n",
    "**Exemplos**:\n",
    "1. Entrada: 4, 6, 10 - Saída: 2\n",
    "2. Entrada: 4, 6, 9 - Saída: 1\n",
    "3. Entrada: 1, 3, 5 - Saída: 0\n",
    "\n",
    "Teste sua função com os 3 exemplos acima."
   ]
  },
  {
   "cell_type": "code",
   "execution_count": null,
   "metadata": {},
   "outputs": [],
   "source": []
  },
  {
   "cell_type": "markdown",
   "metadata": {},
   "source": [
    "#### 4)  O número de combinações possíveis de `m` elementos em grupos de `n` elementos (sendo que `n <= m`) é dada pela fórmula de combinação abaixo\n",
    "\n",
    "$$\\frac{m!}{ (m-n)!n! }$$\n",
    "\n",
    "Escreva uma função chamada `combinacao` que leia dois inteiros `m` e `n` e calcule a combinação de `m`, `n` a `n`.\n",
    "\n",
    "**OBS.**: Para resolver o exercício, comece implementando uma função chamada `fatorial` que calcule o fatorial de um valor `x`. Utilize **recursão** para implementar a esta função que calcula o fatorial.\n",
    "\n",
    "**Exemplos**:\n",
    "1. Entrada: 2,1 - Saída: 2\n",
    "2. Entrada: 5,3 - Saída: 10\n",
    "3. Entrada: 4,2 - Saída: 6\n",
    "\n",
    "Teste sua função com os 3 exemplos acima."
   ]
  },
  {
   "cell_type": "code",
   "execution_count": null,
   "metadata": {},
   "outputs": [],
   "source": []
  },
  {
   "cell_type": "markdown",
   "metadata": {},
   "source": [
    "#### 5) A série de Fibonacci é gerada através da seguinte equação $F_n = F_{n-1} + F_{n-2}$, onde os 2 primeiros termos são $F_{0} = 0$ e $F_{1} = 1$, respectivamente. Todos os outros termos são obtidos adicionando os dois termos anteriores. Os primeiros valores da série são: 0,1, 1, 2, 3, 5, 8, 13, 21, 34, 55, 89, 144, 233, 377, 610, 987, 1597, 2584, e assim por diante. Implemente uma função chamada `fibonacci` que calcule a série de Fibonacci utilizando **recursão**.  Em seguida, imprima os onze primeiros valores, de 0 a 10."
   ]
  },
  {
   "cell_type": "code",
   "execution_count": null,
   "metadata": {},
   "outputs": [],
   "source": []
  },
  {
   "cell_type": "markdown",
   "metadata": {},
   "source": [
    "#### 6) Usando as funções `fatorial` e `combinacao` dos exercícios anteriores, escreva uma função chamada `expande` que leia um inteiro `n`, `n >= 0` e imprima a expansão de `(x+y)` elevado a `n`, i.e., $(x+y)^n$.\n",
    "\n",
    "**Exemplos**\n",
    "1. Expansão de $(x+y)^0$: 1\n",
    "2. Expansão de $(x+y)^1$: x + y\n",
    "3. Expansão de $(x+y)^2$: x^2 + 2xy + y^2\n",
    "4. Expansão de $(x+y)^3$: x^3 + 3x^2y + 3xy^2 + y^3\n",
    "5. Expansão de $(x+y)^4$: x^4 + 4x^3y + 6x^2y^2 + 4xy^3 + y^4\n",
    "\n",
    "Use os exemplos acima para validar sua função.\n",
    "\n",
    "**Dica**: a função `print('Test: %d' % (valor), end='')`, com o parâmetro `end=''` faz com que a função não quebre a linha, ou seja, a próxima chamada a função `print()` irá imprimir na mesma linha."
   ]
  },
  {
   "cell_type": "code",
   "execution_count": null,
   "metadata": {},
   "outputs": [],
   "source": []
  },
  {
   "cell_type": "markdown",
   "metadata": {},
   "source": [
    "#### 7) Escreva uma função que imprima todos os números ímpares de uma determinada lista, `list_a`, conforme fornecido na saída a seguir.\n",
    "\n",
    "A saída da sua função deve ser:\n",
    "\n",
    "```python\n",
    "list_a = [3, 4, 5, 6, 7, 8, 9, 10, 11, 12]\n",
    "```\n",
    "\n",
    "Resposta esperada:\n",
    "\n",
    "```python\n",
    "Os número ímpares são: [3, 5, 7, 9, 11]\n",
    "```"
   ]
  },
  {
   "cell_type": "code",
   "execution_count": null,
   "metadata": {},
   "outputs": [],
   "source": []
  },
  {
   "cell_type": "markdown",
   "metadata": {},
   "source": [
    "#### 8) Escreva uma função que imprima todos os números pares de uma determinada lista, `list_a`, conforme fornecido na saída a seguir.\n",
    "\n",
    "A saída da sua função deve ser:\n",
    "\n",
    "```python\n",
    "list_a = [3, 4, 5, 6, 7, 8, 9, 10, 11, 12]\n",
    "```\n",
    "\n",
    "Resposta esperada:\n",
    "\n",
    "```python\n",
    "Os número pares são: [4, 6, 8, 10, 12]\n",
    "```"
   ]
  },
  {
   "cell_type": "code",
   "execution_count": null,
   "metadata": {},
   "outputs": [],
   "source": []
  }
 ],
 "metadata": {
  "kernelspec": {
   "display_name": "Python 3",
   "language": "python",
   "name": "python3"
  },
  "language_info": {
   "codemirror_mode": {
    "name": "ipython",
    "version": 3
   },
   "file_extension": ".py",
   "mimetype": "text/x-python",
   "name": "python",
   "nbconvert_exporter": "python",
   "pygments_lexer": "ipython3",
   "version": "3.7.7"
  }
 },
 "nbformat": 4,
 "nbformat_minor": 4
}
