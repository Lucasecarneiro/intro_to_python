{
 "cells": [
  {
   "cell_type": "markdown",
   "metadata": {},
   "source": [
    "# Laboratório #3\n",
    "\n",
    "### ATENCÃO\n",
    "\n",
    "1. Para cada um dos exercícios a seguir, faça o seguinte:\n",
    "    * Adicione comentários ao seu código. Os comentários servem para explicar o código, ajudando você a lembrar do que se trata aquele trecho de código, como também outras pessoas a entenderem o que foi feito.\n",
    "    * Caso o exercício involva a implementação de uma função:\n",
    "        + Coloque um comentário dizendo o que a função faz, use **docstrings**.\n",
    "        + Escolha nomes explicativos para suas funções e parâmetros.\n",
    "    \n",
    "2. Quando você terminar os exercícios do laboratório, vá ao menu do Jupyter ou Colab e selecione a opção para fazer download do notebook.\n",
    "    * Os notebooks tem extensão .ipynb. \n",
    "    * Este deve ser o arquivo que você irá entregar.\n",
    "    * No Jupyter vá até a opção **File** -> **Download as** -> **Notebook (.ipynb)**.\n",
    "    * No Colab vá até a opção **File** -> **Download .ipynb**."
   ]
  },
  {
   "cell_type": "markdown",
   "metadata": {},
   "source": [
    "**Nome**:\n",
    "\n",
    "**Matrícula**:"
   ]
  },
  {
   "cell_type": "markdown",
   "metadata": {},
   "source": [
    "## Exercícios"
   ]
  },
  {
   "cell_type": "markdown",
   "metadata": {},
   "source": [
    "#### 1)  Crie um módulo chamado `mymod.py` e implemente nele duas funções:\n",
    "\n",
    "1. `comprimentoString(str)`, que retorna o número de caracteres em uma string passada como argumento.\n",
    "2. `imprimeTipo(var)`, que imprime e retorna o tipo da variável passada como argumento para a função.\n",
    "\n",
    "**IMPORTANTE**: o módulo `mymod.py` deve ser criado em um arquivo separado, na mesma pasta em que este notebook do laboratório está sendo executado e não na célula abaixo. Aqui neste notebook vocês apenas importarão o módulo e o testarão.\n",
    "\n",
    "Após criar o módulo, execute a célula abaixo, a qual deve ser executada sem nenhum tipo de erro se o módulo tiver sido criado corretamente."
   ]
  },
  {
   "cell_type": "code",
   "execution_count": 2,
   "metadata": {},
   "outputs": [
    {
     "ename": "ModuleNotFoundError",
     "evalue": "No module named 'mymod'",
     "output_type": "error",
     "traceback": [
      "\u001b[1;31m---------------------------------------------------------------------------\u001b[0m",
      "\u001b[1;31mModuleNotFoundError\u001b[0m                       Traceback (most recent call last)",
      "\u001b[1;32m<ipython-input-2-e0299ed1574a>\u001b[0m in \u001b[0;36m<module>\u001b[1;34m\u001b[0m\n\u001b[1;32m----> 1\u001b[1;33m \u001b[1;32mimport\u001b[0m \u001b[0mmymod\u001b[0m\u001b[1;33m\u001b[0m\u001b[1;33m\u001b[0m\u001b[0m\n\u001b[0m\u001b[0;32m      2\u001b[0m \u001b[1;33m\u001b[0m\u001b[0m\n\u001b[0;32m      3\u001b[0m \u001b[1;31m# Testando a função: comprimentoString do módulo mymod.\u001b[0m\u001b[1;33m\u001b[0m\u001b[1;33m\u001b[0m\u001b[1;33m\u001b[0m\u001b[0m\n\u001b[0;32m      4\u001b[0m \u001b[1;32mif\u001b[0m\u001b[1;33m(\u001b[0m\u001b[0mmymod\u001b[0m\u001b[1;33m.\u001b[0m\u001b[0mcomprimentoString\u001b[0m\u001b[1;33m(\u001b[0m\u001b[1;34m'Teste da função comprimentoString'\u001b[0m\u001b[1;33m)\u001b[0m \u001b[1;33m==\u001b[0m \u001b[1;36m33\u001b[0m\u001b[1;33m)\u001b[0m\u001b[1;33m:\u001b[0m\u001b[1;33m\u001b[0m\u001b[1;33m\u001b[0m\u001b[0m\n\u001b[0;32m      5\u001b[0m     \u001b[0mprint\u001b[0m\u001b[1;33m(\u001b[0m\u001b[1;34m'Sucesso: Tamanho correto!'\u001b[0m\u001b[1;33m)\u001b[0m\u001b[1;33m\u001b[0m\u001b[1;33m\u001b[0m\u001b[0m\n",
      "\u001b[1;31mModuleNotFoundError\u001b[0m: No module named 'mymod'"
     ]
    }
   ],
   "source": [
    "import mymod\n",
    "\n",
    "# Testando a função: comprimentoString do módulo mymod.\n",
    "if(mymod.comprimentoString('Teste da função comprimentoString') == 33):\n",
    "    print('Sucesso: Tamanho correto!')\n",
    "else:\n",
    "    print('Tamanho incorreto, verifique sua implementação....')\n",
    "    \n",
    "# Testando a função: comprimentoString do módulo mymod.\n",
    "var = True\n",
    "if(mymod.imprimeTipo(var) is bool):\n",
    "    print('Sucesso: Tipo correto!')\n",
    "else:\n",
    "    print('Tipo incorreto, verifique sua implementação....')"
   ]
  },
  {
   "cell_type": "markdown",
   "metadata": {},
   "source": [
    "#### 2)  Do módulo `mymod.py` importe apenas a função `comprimentoString`, de forma que não ocorra nenhum erro na célula abaixo. OBS.: Não mude a chamada da função `comprimentoString()`, resolva o erro apenas importando o módulo."
   ]
  },
  {
   "cell_type": "code",
   "execution_count": 4,
   "metadata": {},
   "outputs": [
    {
     "ename": "NameError",
     "evalue": "name 'comprimentoString' is not defined",
     "output_type": "error",
     "traceback": [
      "\u001b[1;31m---------------------------------------------------------------------------\u001b[0m",
      "\u001b[1;31mNameError\u001b[0m                                 Traceback (most recent call last)",
      "\u001b[1;32m<ipython-input-4-889bb3f8dc9c>\u001b[0m in \u001b[0;36m<module>\u001b[1;34m\u001b[0m\n\u001b[0;32m      1\u001b[0m \u001b[1;31m# Adicione aqui a linha de códique que importa apenas a função desejada.\u001b[0m\u001b[1;33m\u001b[0m\u001b[1;33m\u001b[0m\u001b[1;33m\u001b[0m\u001b[0m\n\u001b[0;32m      2\u001b[0m \u001b[1;33m\u001b[0m\u001b[0m\n\u001b[1;32m----> 3\u001b[1;33m \u001b[0mcomprimentoString\u001b[0m\u001b[1;33m(\u001b[0m\u001b[1;34m'teste'\u001b[0m\u001b[1;33m)\u001b[0m\u001b[1;33m\u001b[0m\u001b[1;33m\u001b[0m\u001b[0m\n\u001b[0m",
      "\u001b[1;31mNameError\u001b[0m: name 'comprimentoString' is not defined"
     ]
    }
   ],
   "source": [
    "# Adicione aqui a linha de códique que importa apenas a função desejada.\n",
    "\n",
    "comprimentoString('teste')"
   ]
  },
  {
   "cell_type": "markdown",
   "metadata": {},
   "source": [
    "#### 3)  Implemente um pacote chamado `carro` que contenha 2 módulos chamados `motor.py` e `controle.py`.\n",
    "\n",
    "1. O módulo `motor.py` deve conter:\n",
    "    + uma função chamada `nomeModulo()` que retorne o nome do módulo.\n",
    "    + um dicionário chamado `caracteristicas_motor` com algumas caracteristicas do motor como por exemplo: fabricante (ford,vw,fiat,etc.), combustivel (gasolina,alcool,flex), numValvulas (8,16), potencia (100, 200, etc. cavalos)\n",
    "2. O módulo `controle.py` deve conter:\n",
    "    + uma função chamada `acelerar()` que imprime na tela a string `'Acelerando!'`\n",
    "    + uma função chamada `velocidade()` que retorna o valor `120`.\n",
    "    \n",
    "Execute o trecho de código na célula abaixo, não o altere. O código irá retornar um erro. Qual o motivo deste erro? Como ele pode ser resolvido?"
   ]
  },
  {
   "cell_type": "code",
   "execution_count": 2,
   "metadata": {},
   "outputs": [
    {
     "ename": "ModuleNotFoundError",
     "evalue": "No module named 'carro'",
     "output_type": "error",
     "traceback": [
      "\u001b[1;31m---------------------------------------------------------------------------\u001b[0m",
      "\u001b[1;31mModuleNotFoundError\u001b[0m                       Traceback (most recent call last)",
      "\u001b[1;32m<ipython-input-2-844dfa870852>\u001b[0m in \u001b[0;36m<module>\u001b[1;34m\u001b[0m\n\u001b[1;32m----> 1\u001b[1;33m \u001b[1;32mfrom\u001b[0m \u001b[0mcarro\u001b[0m \u001b[1;32mimport\u001b[0m \u001b[1;33m*\u001b[0m\u001b[1;33m\u001b[0m\u001b[1;33m\u001b[0m\u001b[0m\n\u001b[0m\u001b[0;32m      2\u001b[0m \u001b[1;33m\u001b[0m\u001b[0m\n\u001b[0;32m      3\u001b[0m \u001b[0mprint\u001b[0m\u001b[1;33m(\u001b[0m\u001b[1;34m'Nome do módulo é: '\u001b[0m\u001b[1;33m,\u001b[0m \u001b[0mmotor\u001b[0m\u001b[1;33m.\u001b[0m\u001b[0mnomeModulo\u001b[0m\u001b[1;33m(\u001b[0m\u001b[1;33m)\u001b[0m\u001b[1;33m)\u001b[0m\u001b[1;33m\u001b[0m\u001b[1;33m\u001b[0m\u001b[0m\n",
      "\u001b[1;31mModuleNotFoundError\u001b[0m: No module named 'carro'"
     ]
    }
   ],
   "source": [
    "from carro import *\n",
    "\n",
    "print('Nome do módulo é: ', motor.nomeModulo())"
   ]
  },
  {
   "cell_type": "markdown",
   "metadata": {},
   "source": [
    "**Escreva aqui sua resposta para as perguntas acima.**"
   ]
  },
  {
   "cell_type": "markdown",
   "metadata": {},
   "source": [
    "Em seguida, abra o arquivo `__init__.py` para edição, adicione a seguinte linha\n",
    "```python\n",
    "__all__ = ['motor']\n",
    "```\n",
    "salve e feche o arquivo. \n",
    "\n",
    "Em seguida, vá até o menu e selecione as opções: \"Kernel\" seguida de \"Restart\".\n",
    "\n",
    "Agora, execute a célula abaixo e veja que é possível importar o módulo `motor` e executar a função `nomeModulo` sem nenhum erro."
   ]
  },
  {
   "cell_type": "code",
   "execution_count": 7,
   "metadata": {},
   "outputs": [
    {
     "ename": "ModuleNotFoundError",
     "evalue": "No module named 'carro'",
     "output_type": "error",
     "traceback": [
      "\u001b[1;31m---------------------------------------------------------------------------\u001b[0m",
      "\u001b[1;31mModuleNotFoundError\u001b[0m                       Traceback (most recent call last)",
      "\u001b[1;32m<ipython-input-7-844dfa870852>\u001b[0m in \u001b[0;36m<module>\u001b[1;34m\u001b[0m\n\u001b[1;32m----> 1\u001b[1;33m \u001b[1;32mfrom\u001b[0m \u001b[0mcarro\u001b[0m \u001b[1;32mimport\u001b[0m \u001b[1;33m*\u001b[0m\u001b[1;33m\u001b[0m\u001b[1;33m\u001b[0m\u001b[0m\n\u001b[0m\u001b[0;32m      2\u001b[0m \u001b[1;33m\u001b[0m\u001b[0m\n\u001b[0;32m      3\u001b[0m \u001b[0mprint\u001b[0m\u001b[1;33m(\u001b[0m\u001b[1;34m'Nome do módulo é: '\u001b[0m\u001b[1;33m,\u001b[0m \u001b[0mmotor\u001b[0m\u001b[1;33m.\u001b[0m\u001b[0mnomeModulo\u001b[0m\u001b[1;33m(\u001b[0m\u001b[1;33m)\u001b[0m\u001b[1;33m)\u001b[0m\u001b[1;33m\u001b[0m\u001b[1;33m\u001b[0m\u001b[0m\n",
      "\u001b[1;31mModuleNotFoundError\u001b[0m: No module named 'carro'"
     ]
    }
   ],
   "source": [
    "from carro import *\n",
    "\n",
    "print('Nome do módulo é: ', motor.nomeModulo())"
   ]
  },
  {
   "cell_type": "markdown",
   "metadata": {},
   "source": [
    "Execute a célula abaixo e verifique que não é possível importar o módulo `controle`. O que pode ser feito para corrigir este erro? Corrija o código até que a velocidade seja impressa corretamente na tela."
   ]
  },
  {
   "cell_type": "code",
   "execution_count": 8,
   "metadata": {},
   "outputs": [
    {
     "ename": "ModuleNotFoundError",
     "evalue": "No module named 'carro'",
     "output_type": "error",
     "traceback": [
      "\u001b[1;31m---------------------------------------------------------------------------\u001b[0m",
      "\u001b[1;31mModuleNotFoundError\u001b[0m                       Traceback (most recent call last)",
      "\u001b[1;32m<ipython-input-8-e05a67757935>\u001b[0m in \u001b[0;36m<module>\u001b[1;34m\u001b[0m\n\u001b[1;32m----> 1\u001b[1;33m \u001b[1;32mfrom\u001b[0m \u001b[0mcarro\u001b[0m \u001b[1;32mimport\u001b[0m \u001b[1;33m*\u001b[0m\u001b[1;33m\u001b[0m\u001b[1;33m\u001b[0m\u001b[0m\n\u001b[0m\u001b[0;32m      2\u001b[0m \u001b[1;33m\u001b[0m\u001b[0m\n\u001b[0;32m      3\u001b[0m \u001b[0mprint\u001b[0m\u001b[1;33m(\u001b[0m\u001b[1;34m'Qual a velocidade? '\u001b[0m\u001b[1;33m,\u001b[0m \u001b[0mcontrole\u001b[0m\u001b[1;33m.\u001b[0m\u001b[0mvelocidade\u001b[0m\u001b[1;33m(\u001b[0m\u001b[1;33m)\u001b[0m\u001b[1;33m)\u001b[0m\u001b[1;33m\u001b[0m\u001b[1;33m\u001b[0m\u001b[0m\n",
      "\u001b[1;31mModuleNotFoundError\u001b[0m: No module named 'carro'"
     ]
    }
   ],
   "source": [
    "from carro import *\n",
    "\n",
    "print('Qual a velocidade? ', controle.velocidade())"
   ]
  },
  {
   "cell_type": "markdown",
   "metadata": {},
   "source": [
    "**IMPORTANTE**: Para realizar as entregas dos exercícios de laboratório, por favor, leiam o tutorial no seguinte link:\n",
    "[Material-das-Aulas](../docs/Acesso-ao-material-das-aulas-resolucao-e-entrega-dos-laboratorios.pdf)"
   ]
  }
 ],
 "metadata": {
  "kernelspec": {
   "display_name": "Python 3",
   "language": "python",
   "name": "python3"
  },
  "language_info": {
   "codemirror_mode": {
    "name": "ipython",
    "version": 3
   },
   "file_extension": ".py",
   "mimetype": "text/x-python",
   "name": "python",
   "nbconvert_exporter": "python",
   "pygments_lexer": "ipython3",
   "version": "3.7.7"
  }
 },
 "nbformat": 4,
 "nbformat_minor": 4
}
