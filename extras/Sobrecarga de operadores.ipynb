{
 "cells": [
  {
   "cell_type": "markdown",
   "metadata": {},
   "source": [
    "## Sobrecarga de operadores\n",
    "\n",
    "Em Python, alterar/estender o comportamento de um operador (e.g., +, -, /, *, etc.) para que funcione com tipos definidos pelo programador (i.e., classes) chama-se sobrecarga de operadores. \n",
    "\n",
    "Por exemplo, o operador `+` é usado para adicionar dois inteiros, bem como concatenar duas strings e unir duas listas. Isso é possível porque o operador `+` foi sobrecarregado pelas classes int, str e list, por exemplo.\n",
    "\n",
    "Para cada operador em Python há um método especial correspondente. Por convenção, os métodos especiais têm nomes que começam e terminam com \"__\".\n",
    "\n",
    "A lista abaixo apresenta os operadores e os métodos especiais correspondentes:\n",
    "\n",
    "| Operador |    Método    |          Operação          |\n",
    "|:--------:|:------------:|:--------------------------:|\n",
    "|     +    |    `__add__`   |           adição           |\n",
    "|     -    |    `__sub__`   |          subtração         |\n",
    "|     *    |    `__mul__`   |        multiplicação       |\n",
    "|     /    |    `__div__`   |           divisão          |\n",
    "|    //    | `__floordiv__` |       divisão inteira      |\n",
    "|     %    |    `__mod__`   |           módulo           |\n",
    "|    **    |    `__pow__`   |          potência          |\n",
    "|     +    |    `__pos__`   |          positivo          |\n",
    "|     -    |    `__neg__`   |          negativo          |\n",
    "|     <    |    `__lt__`    |          menor que         |\n",
    "|     >    |    `__gt__`    |          maior que         |\n",
    "|    <=    |    `__le__`    |      menor ou igual a      |\n",
    "|    >=    |    `__ge__`    |      maior ou igual a      |\n",
    "|    ==    |    `__eq__`    |           igual a          |\n",
    "|    !=    |    `__ne__`    |        diferente de        |\n",
    "|    <<    |  `__lshift__`  | deslocamento para esquerda |\n",
    "|    >>    |  `__rshift__`  |  deslocamento para direita |\n",
    "|     &    |    `__and__`   |         e bit-a-bit        |\n",
    "|    \\|    |    `__or__`    |        ou bit-a-bit        |\n",
    "|     ^    |    `__xor__`   |   ou exclusivo bit-a-bit   |\n",
    "|     ~    |    `__inv__`   |          inversão          |\n",
    "\n",
    "\n",
    "Inicialmente, vamos ver o que acontece quando tentamos usar operadores com objetos de uma classe definida pelo usuário. No exemplo abaixo, nós consideramos um classe que simula um ponto num sistema de coordenadas 2D."
   ]
  },
  {
   "cell_type": "code",
   "execution_count": 1,
   "metadata": {},
   "outputs": [
    {
     "ename": "TypeError",
     "evalue": "unsupported operand type(s) for +: 'Ponto' and 'Ponto'",
     "output_type": "error",
     "traceback": [
      "\u001b[1;31m---------------------------------------------------------------------------\u001b[0m",
      "\u001b[1;31mTypeError\u001b[0m                                 Traceback (most recent call last)",
      "\u001b[1;32m<ipython-input-1-4e2a596ef3d6>\u001b[0m in \u001b[0;36m<module>\u001b[1;34m\u001b[0m\n\u001b[0;32m      7\u001b[0m \u001b[0mp2\u001b[0m \u001b[1;33m=\u001b[0m \u001b[0mPonto\u001b[0m\u001b[1;33m(\u001b[0m\u001b[1;36m2\u001b[0m\u001b[1;33m,\u001b[0m \u001b[1;36m3\u001b[0m\u001b[1;33m)\u001b[0m\u001b[1;33m\u001b[0m\u001b[1;33m\u001b[0m\u001b[0m\n\u001b[0;32m      8\u001b[0m \u001b[1;33m\u001b[0m\u001b[0m\n\u001b[1;32m----> 9\u001b[1;33m \u001b[0mprint\u001b[0m\u001b[1;33m(\u001b[0m\u001b[0mp1\u001b[0m\u001b[1;33m+\u001b[0m\u001b[0mp2\u001b[0m\u001b[1;33m)\u001b[0m\u001b[1;33m\u001b[0m\u001b[1;33m\u001b[0m\u001b[0m\n\u001b[0m",
      "\u001b[1;31mTypeError\u001b[0m: unsupported operand type(s) for +: 'Ponto' and 'Ponto'"
     ]
    }
   ],
   "source": [
    "class Ponto:\n",
    "    def __init__(self, x=0, y=0):\n",
    "        self.x = x\n",
    "        self.y = y\n",
    "        \n",
    "p1 = Ponto(1, 2)\n",
    "p2 = Ponto(2, 3)\n",
    "\n",
    "print(p1+p2)"
   ]
  },
  {
   "cell_type": "markdown",
   "metadata": {},
   "source": [
    "No exemplo acima, podemos ver que um erro do tipo `TypeError` foi gerado, já que o interpretador não sabia como somar dois objetos to tipo `Ponto`.\n",
    "\n",
    "No entanto, nós podemos realizar essa operação por meio da sobrecarga do operador `+`. Vejam o exemplo abaixo:"
   ]
  },
  {
   "cell_type": "code",
   "execution_count": 2,
   "metadata": {},
   "outputs": [
    {
     "name": "stdout",
     "output_type": "stream",
     "text": [
      "<__main__.Ponto object at 0x0000023D6E8685C8>\n"
     ]
    }
   ],
   "source": [
    "class Ponto:\n",
    "    def __init__(self, x=0, y=0):\n",
    "        self.x = x\n",
    "        self.y = y\n",
    "\n",
    "    def __add__(self, other):\n",
    "        x = self.x + other.x\n",
    "        y = self.y + other.y\n",
    "        return Ponto(x, y)\n",
    "    \n",
    "p1 = Ponto(1, 2)\n",
    "p2 = Ponto(2, 3)\n",
    "\n",
    "a = p1+p2\n",
    "\n",
    "print(a)"
   ]
  },
  {
   "cell_type": "markdown",
   "metadata": {},
   "source": [
    "Entretanto, vejam que o valor esperado `(3,5)`, equivalente a soma dos 2 pontos, não é impresso. Quando a função embutida `print` recebe um objeto, ela invoca outro método especial chamado `__str__()` para imprimir uma representação legível e descritiva do objeto, porém, no caso do exemplo, quando `print` recebe o objeto `Ponto` criado para armazenar a soma das coordenadas x e y dos 2 pontos ela acaba usando a implementação padrão de `__str__()`, a qual, por padrão, imprime o nome e o ID do objeto.\n",
    "\n",
    "Para que a função `print` tenha imprima uma representação legível e descritiva da soma de 2 pontos nós precisamos definir o método especial `__str__()`, que controla como o objeto é impresso, em nossa classe `Ponto`.\n",
    "\n",
    "O exemplo abaixo mostra como isso é feito."
   ]
  },
  {
   "cell_type": "code",
   "execution_count": 3,
   "metadata": {},
   "outputs": [
    {
     "name": "stdout",
     "output_type": "stream",
     "text": [
      "(3,5)\n"
     ]
    }
   ],
   "source": [
    "class Ponto:\n",
    "    def __init__(self, x=0, y=0):\n",
    "        self.x = x\n",
    "        self.y = y\n",
    "        \n",
    "    def __str__(self):\n",
    "        return \"({0},{1})\".format(self.x,self.y)\n",
    "\n",
    "    def __add__(self, other):\n",
    "        x = self.x + other.x\n",
    "        y = self.y + other.y\n",
    "        return Ponto(x, y)\n",
    "    \n",
    "p1 = Ponto(1, 2)\n",
    "p2 = Ponto(2, 3)\n",
    "\n",
    "a = p1+p2\n",
    "\n",
    "print(a)"
   ]
  },
  {
   "cell_type": "markdown",
   "metadata": {},
   "source": [
    "O que acontece no exemplo acima é que, quando você faz `p1 + p2`, o interpretador chama `p1 .__ add __ (p2)` que por sua vez é convertido em `Ponto .__ add __ (p1, p2)`. Depois disso, a operação de adição é realizada da maneira que especificamos na classe `Ponto`."
   ]
  }
 ],
 "metadata": {
  "kernelspec": {
   "display_name": "Python 3",
   "language": "python",
   "name": "python3"
  },
  "language_info": {
   "codemirror_mode": {
    "name": "ipython",
    "version": 3
   },
   "file_extension": ".py",
   "mimetype": "text/x-python",
   "name": "python",
   "nbconvert_exporter": "python",
   "pygments_lexer": "ipython3",
   "version": "3.7.7"
  }
 },
 "nbformat": 4,
 "nbformat_minor": 4
}
