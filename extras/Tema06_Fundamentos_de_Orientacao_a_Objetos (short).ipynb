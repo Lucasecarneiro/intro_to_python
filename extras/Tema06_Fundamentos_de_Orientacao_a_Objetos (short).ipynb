{
 "cells": [
  {
   "cell_type": "markdown",
   "metadata": {},
   "source": [
    "# Fundamentos de Orientação a Objetos\n",
    "\n",
    "\n",
    "## Introdução\n",
    "\n",
    "Conforme discutimos anteriormente, a linguagem de programação Python suporta o paradigma de programação orientada a objetos (POO).\n",
    "\n",
    "O conceito de POO se concentra na criação de **código reutilizável**, ou seja, o princípio por trás de POO é a redução da repetição de código.\n",
    "\n",
    "O foco da programação orientada a objetos é na criação de objetos que contêm (**encapsulam**) tanto os **dados** quanto as **funcionalidades**.\n",
    "\n",
    "Podemos dizer que objetos são **abstrações computacionais** que representam entidades, com suas qualidades (**atributos**) e ações (**métodos**) que estas podem realizar.\n",
    "\n",
    "Os **atributos** são estruturas de dados que armazenam informações sobre o **estado** atual do objeto e os **métodos** são funções associadas ao objeto, que descrevem como o objeto se comporta.\n",
    "\n",
    "As classes são a **estrutura básica** do paradigma de orientação a objetos. Elas representam o **tipo** do objeto, ou seja, um modelo a partir do qual os objetos são criados (**instanciados**). Pode-se pensar também nas classes como sendo \"diagramas\" ou \"plantas\" para a construção de um objeto.\n",
    "\n",
    "Por exemplo, uma classe `Cachorro` descreve as características (ou **atributos**) como cor, raça, tamanho, etc. e ações (ou **métodos**) dos cães em geral como comer, latir, etc., enquanto o objeto `Toto` representa um cachorro em particular, ou seja, uma instância da classe `Cachorro`.\n",
    "\n",
    "Cada instância (objeto) da classe `Cachorro` é diferente pois, embora sejam todos objetos do tipo `Cachorro`, cada um tem um **estado** diferente (como cores, raças, tamanhos, etc. diferentes)."
   ]
  },
  {
   "cell_type": "markdown",
   "metadata": {},
   "source": [
    "### Tarefa\n",
    "\n",
    "1. <span style=\"color:blue\">**QUIZ - Programação orientada a objetos**</span>: respondam ao questionário sobre programação orientada a objetos no MS teams, por favor."
   ]
  },
  {
   "cell_type": "markdown",
   "metadata": {},
   "source": [
    "## Definindo nossos próprios tipos em Python\n",
    "\n",
    "Em POO, quando estamos desenvolvendo uma aplicação, nós geralmente precisamos criar **tipos** relacionados à aplicação que estamos desenvolvendo. Desta forma, nós precisamos definir nossas próprias **classes**. \n",
    "\n",
    "Portanto, em Python, além dos **tipos** (classes) embutidos definidos pela linguagem, como `int`, `str`, `list`, `float`, etc. nós podemos definir nossos próprios **tipos** através da criação de classes.\n",
    "\n",
    "As regras de sintaxe para a definição de uma classe são as mesmas de outros comandos compostos do Python.\n",
    "\n",
    "Há um cabeçalho que começa com a palavra-chave `class`, seguido pelo **nome** da classe e terminando com **dois pontos**, `:`.\n",
    "\n",
    "```python\n",
    "class Carro:\n",
    "```\n",
    "\n",
    "Se a primeira linha após o cabeçalho de classe é uma **string**, ela se torna o **docstring** da classe, e poderá ser acessada por diversas ferramentas de documentação automática (e.g. **pydoc**) através do atributo `__doc__`.\n",
    "\n",
    "```python\n",
    "class Carro:\n",
    "    \"\"\"Este é o tipo carro.\"\"\"\n",
    "```\n",
    "\n",
    "Toda classe possui, mesmo que não explicitamente, um **método** com o nome especial `__init__`. Este método de **inicialização**, muitas vezes também chamado de **construtor** do objeto, é invocado automaticamente sempre que uma nova instância do objeto é criada.\n",
    "\n",
    "```python\n",
    "class Carro:\n",
    "    \"\"\"Este é o tipo carro.\"\"\"\n",
    "    \n",
    "    def __init__(self):\n",
    "        \"Construtor da classe Carro.\"\n",
    "```\n",
    "\n",
    "O método **construtor** da classe dá ao programador a oportunidade de configurar os **atributos** necessários dentro da nova instância da classe, atribuindo-lhes valores iniciais.\n",
    "\n",
    "```python\n",
    "class Carro:\n",
    "    \"\"\"Este é o tipo carro.\"\"\"\n",
    "    \n",
    "    def __init__(self, modelo='', anoFabricacao=1900, cor=''):\n",
    "        \"\"\"Construtor da classe Carro.\"\"\"\n",
    "        print('Instanciando um objeto do tipo Carro.')\n",
    "        self.modelo = modelo\n",
    "        self.anoFabricacao = anoFabricacao\n",
    "        self.cor = cor\n",
    "```\n",
    "\n",
    "O parâmetro `self` é uma referência a instância atual da classe e é usado para acessar atributos e métodos que pertencem ao objeto. O `self` deve ser **SEMPRE** o primeiro parâmetro de qualquer método de uma classe.\n",
    "\n",
    "**IMPORTANTE**: O nome `self` é uma convenção, podendo ser trocado por outro nome qualquer, porém é considerada como **boa prática** manter este nome.\n",
    "\n",
    "As classes também podem conter outros **métodos** além do método construtor. Lembrem-se que os métodos são funções que pertencem ao objeto. Vejam o exemplo abaixo onde a classe `Carro` é definida com os métodos `acelerar`, `frear` e `printState`."
   ]
  },
  {
   "cell_type": "code",
   "execution_count": 1,
   "metadata": {},
   "outputs": [],
   "source": [
    "class Carro:\n",
    "    \"\"\"Classe que modela diferentes tipos de carros.\"\"\"\n",
    "    \n",
    "    def __init__(self, modelo='Volkswagen fusca', anoFabricacao=1970, cor='branca', kilometragem=100000):\n",
    "        \"\"\"Construtor da classe Carro.\"\"\"\n",
    "        print('Instanciando um objeto do tipo Carro.')\n",
    "        self.modelo = modelo\n",
    "        self.anoFabricacao = anoFabricacao\n",
    "        self.cor = cor\n",
    "        self.kilometragem = kilometragem\n",
    "        self.printState()\n",
    "        \n",
    "    def acelerar(self):\n",
    "        \"\"\"Método para acelerar o carro.\"\"\"\n",
    "        print(\"Acelerando carro.\")\n",
    "        \n",
    "    def frear(self):\n",
    "        \"\"\"Método para frear o carro.\"\"\"\n",
    "        print(\"Freando carro.\")\n",
    "        \n",
    "    def printState(self):\n",
    "        \"\"\"Imprime estado corrente do objeto.\"\"\"\n",
    "        print('Modelo:', self.modelo)\n",
    "        print('Ano de fabricação:', self.anoFabricacao)\n",
    "        print('Cor:', self.cor)\n",
    "        print('Kilometragem:', self.kilometragem)"
   ]
  },
  {
   "cell_type": "markdown",
   "metadata": {},
   "source": [
    "## Instanciando um objeto em Python\n",
    "\n",
    "Em Python, novos objetos são criados a partir das classes através de atribuição.\n",
    "\n",
    "```python\n",
    "herbie = Carro()\n",
    "eleanor = Carro()        \n",
    "```\n",
    "\n",
    "Aqui, `herbie` e `eleanor` são referências a objetos distintos da classe `Carro`.\n",
    "\n",
    "Lembre-se que quando um novo objeto é criado, o método **construtor** da classe, o `__init__()`, é chamado para inicializar esta nova instância.\n",
    "\n",
    "**IMPORTANTE**: Um objeto é uma instanciação de uma classe, ou seja, ele é uma\n",
    "coisa criada à partir de uma planta/diagrama, que é a classe. Quando a classe é definida, apenas a descrição do objeto é definida. Portanto, nenhuma memória é alocada. Isto ocorre apenas durante a instanciação.\n",
    "\n",
    "Vejam os exemplos a seguir.\n",
    "\n",
    "#### Instanciando um carro com atributos padrão"
   ]
  },
  {
   "cell_type": "code",
   "execution_count": 2,
   "metadata": {},
   "outputs": [
    {
     "name": "stdout",
     "output_type": "stream",
     "text": [
      "Instanciando um objeto do tipo Carro.\n",
      "Modelo: Volkswagen fusca\n",
      "Ano de fabricação: 1970\n",
      "Cor: branca\n",
      "Kilometragem: 100000\n"
     ]
    }
   ],
   "source": [
    "# Instancia um objeto da classe/tipo Carro utilizando valores padrão.\n",
    "carroA = Carro()"
   ]
  },
  {
   "cell_type": "markdown",
   "metadata": {},
   "source": [
    "#### Instanciando um carro com atributos específico"
   ]
  },
  {
   "cell_type": "code",
   "execution_count": 3,
   "metadata": {},
   "outputs": [
    {
     "name": "stdout",
     "output_type": "stream",
     "text": [
      "Instanciando um objeto do tipo Carro.\n",
      "Modelo: Shelby Cobra\n",
      "Ano de fabricação: 1962\n",
      "Cor: blue with white stripes\n",
      "Kilometragem: 100000\n"
     ]
    }
   ],
   "source": [
    "# Instancia um objeto da classe/tipo Carro definindo alguns valores.\n",
    "carroB = Carro('Shelby Cobra', 1962, 'blue with white stripes', 100000)"
   ]
  },
  {
   "cell_type": "markdown",
   "metadata": {},
   "source": [
    "#### Acessando atributos e invocando métodos de um objeto\n",
    "\n",
    "Podemos acessar os **atributos** de um objeto usando a sintaxe:\n",
    "\n",
    "```python\n",
    "NomeDoObjeto.nomeDoAtributo\n",
    "```\n",
    "\n",
    "por exemplo\n",
    "\n",
    "```python\n",
    "carro = Carro()\n",
    "carro.modelo\n",
    "```\n",
    "\n",
    "Podemos invocar os **métodos** de um objeto usando a sintaxe:\n",
    "\n",
    "```python\n",
    "NomeDoObjeto.nomeDoMetodo()\n",
    "``` \n",
    "\n",
    "por exemplo\n",
    "\n",
    "```python\n",
    "carro = Carro()\n",
    "carro.frear()\n",
    "```\n",
    "\n",
    "**IMPORTANTE**: Os atributos e métodos de uma classe são os mesmos para todas as instâncias daquela classe."
   ]
  },
  {
   "cell_type": "markdown",
   "metadata": {},
   "source": [
    "## Notação UML para classes\n",
    "\n",
    "Em UML (do inglês Unified Modeling Language, em português Linguagem de Modelagem Unificada) uma classe pode ser visualizada como uma caixa de três compartimentos, conforme ilustrado abaixo:\n",
    "\n",
    "<img src=\"../figures/classe_animal.png\" width=\"150\" height=\"150\">\n",
    "\n",
    "+ **Nome da classe** (ou identificador): identifica a classe.\n",
    "+ **Atributos** (ou dados membro, estados, contexto): contém os atributos da classe e seus respectivos tipos de acesso.\n",
    "+ **Métodos** (ou funções membro, comportamentos, operações): contém as operações da classe e seus respectivos tipos de acesso."
   ]
  },
  {
   "cell_type": "markdown",
   "metadata": {},
   "source": [
    "### Tarefa\n",
    "\n",
    "1. <span style=\"color:blue\">**QUIZ - Criação e uso de classes em Python**</span>: respondam ao questionário sobre criação e uso de classes em Python no MS teams, por favor."
   ]
  },
  {
   "cell_type": "markdown",
   "metadata": {},
   "source": [
    "## Encapsulamento\n",
    "\n",
    "Em POO, podemos restringir o acesso aos membros de uma classe (i.e., métodos e atributos). Isso evita que os dados de um objeto sejam modificados diretamente, o que é chamado de **encapsulamento**.\n",
    "\n",
    "Em Python, denotamos membros com acesso limitado usando sublinhados como prefixo, ou seja, `_simples` ou `__duplo`. A quantidade de sublinhados prefixados ao membro da classe dirá o tipo de acesso do membro. Os 3 tipos de acesso que temos em Python são: **público**, **protegido** e **privado**, que veremos a seguir.\n",
    "\n",
    "#### Membros com acesso público\n",
    "\n",
    "Em Python, todos os membros de uma classe são públicos por padrão. Qualquer membro com acesso público pode ser acessado tanto dentro ou fora do da classe."
   ]
  },
  {
   "cell_type": "code",
   "execution_count": 5,
   "metadata": {},
   "outputs": [
    {
     "name": "stdout",
     "output_type": "stream",
     "text": [
      "Kilometragem: 0\n"
     ]
    }
   ],
   "source": [
    "class Carro:\n",
    "    kilometragem = 0\n",
    "\n",
    "carro = Carro()\n",
    "\n",
    "print('Kilometragem:', carro.kilometragem)"
   ]
  },
  {
   "cell_type": "markdown",
   "metadata": {},
   "source": [
    "#### Membros com acesso protegido\n",
    "\n",
    "Membros com acesso protegido devem ser acessados apenas dentro da classe onde foram definidos ou por uma subclasse (ou seja, uma classe que herda a classe onde o membro protegido foi definido).\n",
    "\n",
    "A convenção em Python para tornar um membro **protegido** é adicionar um prefixo `_` (sublinhado simples) a ele. \n",
    "\n",
    "Porém, isso **não impede**, como veremos, que ele seja acessado, fora da classe, mas indica ao programador utilizando aquela classe que aquele membro não deveria ser usado fora da classe."
   ]
  },
  {
   "cell_type": "code",
   "execution_count": 4,
   "metadata": {},
   "outputs": [
    {
     "name": "stdout",
     "output_type": "stream",
     "text": [
      "Kilometragem: 0\n"
     ]
    }
   ],
   "source": [
    "class Carro:\n",
    "    _kilometragem = 0\n",
    "\n",
    "carro = Carro()\n",
    "\n",
    "print('Kilometragem:', carro._kilometragem)"
   ]
  },
  {
   "cell_type": "markdown",
   "metadata": {},
   "source": [
    "#### Membros com acesso privado\n",
    "\n",
    "Membros com acesso privado devem ser acessados **apenas** dentro da classe onde foram definidos. Um sublinhado duplo `__` prefixado a um membro o torna privado. Diferentemente do acesso protegido, qualquer tentativa de accesar membros privados resultará em um **AttributeError** como o mostrado abaixo.\n",
    "\n",
    "```python\n",
    "AttributeError: 'Carro' object has no attribute '__kilometragem'\n",
    "```"
   ]
  },
  {
   "cell_type": "code",
   "execution_count": 7,
   "metadata": {},
   "outputs": [
    {
     "ename": "AttributeError",
     "evalue": "'Carro' object has no attribute '__kilometragem'",
     "output_type": "error",
     "traceback": [
      "\u001b[1;31m---------------------------------------------------------------------------\u001b[0m",
      "\u001b[1;31mAttributeError\u001b[0m                            Traceback (most recent call last)",
      "\u001b[1;32m<ipython-input-7-367905d72d00>\u001b[0m in \u001b[0;36m<module>\u001b[1;34m\u001b[0m\n\u001b[0;32m      4\u001b[0m \u001b[0mcarro\u001b[0m \u001b[1;33m=\u001b[0m \u001b[0mCarro\u001b[0m\u001b[1;33m(\u001b[0m\u001b[1;33m)\u001b[0m\u001b[1;33m\u001b[0m\u001b[1;33m\u001b[0m\u001b[0m\n\u001b[0;32m      5\u001b[0m \u001b[1;33m\u001b[0m\u001b[0m\n\u001b[1;32m----> 6\u001b[1;33m \u001b[0mprint\u001b[0m\u001b[1;33m(\u001b[0m\u001b[1;34m'Kilometragem:'\u001b[0m\u001b[1;33m,\u001b[0m \u001b[0mcarro\u001b[0m\u001b[1;33m.\u001b[0m\u001b[0m__kilometragem\u001b[0m\u001b[1;33m)\u001b[0m\u001b[1;33m\u001b[0m\u001b[1;33m\u001b[0m\u001b[0m\n\u001b[0m",
      "\u001b[1;31mAttributeError\u001b[0m: 'Carro' object has no attribute '__kilometragem'"
     ]
    }
   ],
   "source": [
    "class Carro:\n",
    "    __kilometragem = 0\n",
    "\n",
    "carro = Carro()\n",
    "\n",
    "print('Kilometragem:', carro.__kilometragem)"
   ]
  },
  {
   "cell_type": "markdown",
   "metadata": {},
   "source": [
    "O acesso a atributos privados e protegidos normalmente só é obtido por meio de métodos especiais, chamados de **getters** e **setters**. Através desses métodos, que devem ter acesso público, é possível se obter ou modificar os valores de atributos privados e/ou protegidos."
   ]
  },
  {
   "cell_type": "code",
   "execution_count": 8,
   "metadata": {},
   "outputs": [
    {
     "name": "stdout",
     "output_type": "stream",
     "text": [
      "Kilometragem: 0\n",
      "Kilometragem: 35000\n"
     ]
    }
   ],
   "source": [
    "class Carro:\n",
    "    __kilometragem = 0\n",
    "    \n",
    "    def getKilometragem(self):\n",
    "        return self.__kilometragem\n",
    "    \n",
    "    def setKilometragem(self, kilometragem):\n",
    "        self.__kilometragem = kilometragem\n",
    "    \n",
    "# Instanciando a classe Carro.\n",
    "carro = Carro()\n",
    "\n",
    "print('Kilometragem:', carro.getKilometragem())\n",
    "\n",
    "carro.setKilometragem(35000)\n",
    "\n",
    "print('Kilometragem:', carro.getKilometragem())"
   ]
  },
  {
   "cell_type": "markdown",
   "metadata": {},
   "source": [
    "#### Exemplos de acesso aos diferentes tipos de membros de uma classe\n",
    "\n",
    "No exemplo abaixo, o atributo `_cor` é declarado como protegido e portanto, indicando ao programador, que ele só pode ser acessado dentro da classe `Carro` ou de uma classe que herde de `Carro`.\n",
    "\n",
    "Já os atributos `__anoFabricacao`, e `__kilometragem` e os métodos `__injetarCombustivel()` e `__acionarPastilhadeFreio()` são declarados como sendo privados, e portanto, só podem ser acessados dentro da classe `Carro`.\n",
    "\n",
    "O atributo `modelo` e os métodos `frear()`, `acelerar()` e `printState()` são declarados como tendo acesso público."
   ]
  },
  {
   "cell_type": "code",
   "execution_count": 9,
   "metadata": {},
   "outputs": [],
   "source": [
    "class Carro:\n",
    "    \"\"\"Classe que modela diferentes tipos de carros.\"\"\"\n",
    "    \n",
    "    def __init__(self, modelo='Volkswagen fusca', anoFabricacao=1970, cor='branca', kilometragem=100000):\n",
    "        \"\"\"Construtor da classe Carro.\"\"\"\n",
    "        print('Instanciando um objeto do tipo Carro.')\n",
    "        # Membros públicos.\n",
    "        self.modelo = modelo\n",
    "        # Membros protegidos.\n",
    "        self._cor = cor\n",
    "        # Membros privados.\n",
    "        self.__anoFabricacao = anoFabricacao\n",
    "        self.__kilometragem = kilometragem\n",
    "        \n",
    "    def acelerar(self):\n",
    "        \"\"\"Método para acelerar o carro.\"\"\"\n",
    "        self.__injetarCombustivel()\n",
    "        print(\"Acelerando carro.\")\n",
    "        \n",
    "    def __injetarCombustivel(self):\n",
    "        \"\"\"Método que injeta combustível no motor.\"\"\"\n",
    "        print(\"Injetando combustível.\")\n",
    "        \n",
    "    def frear(self):\n",
    "        \"\"\"Método para frear o carro.\"\"\"\n",
    "        self. __acionarPastilhadeFreio()\n",
    "        print(\"Freando carro.\")\n",
    "        \n",
    "    def __acionarPastilhadeFreio(self):\n",
    "        \"\"\"Método que aciona a pastilha de freio.\"\"\"\n",
    "        print(\"Pastilha de freio acionada.\")\n",
    "        \n",
    "    def printState(self):\n",
    "        \"\"\"Imprime estado corrente do objeto.\"\"\"\n",
    "        print('Modelo:', self.modelo)\n",
    "        print('Ano de fabricação:', self.__anoFabricacao)\n",
    "        print('Cor:', self._cor)\n",
    "        print('Kilometragem:', self.__kilometragem)"
   ]
  },
  {
   "cell_type": "markdown",
   "metadata": {},
   "source": [
    "#### Invocando um método público."
   ]
  },
  {
   "cell_type": "code",
   "execution_count": 10,
   "metadata": {},
   "outputs": [
    {
     "name": "stdout",
     "output_type": "stream",
     "text": [
      "Instanciando um objeto do tipo Carro.\n",
      "Pastilha de freio acionada.\n",
      "Freando carro.\n"
     ]
    }
   ],
   "source": [
    "# Instanciando um objeto do tipo Carro.\n",
    "carro = Carro()\n",
    "\n",
    "# Invocando o método público frear().\n",
    "carro.frear()"
   ]
  },
  {
   "cell_type": "markdown",
   "metadata": {},
   "source": [
    "#### Invocando um método privado."
   ]
  },
  {
   "cell_type": "code",
   "execution_count": 11,
   "metadata": {},
   "outputs": [
    {
     "ename": "AttributeError",
     "evalue": "'Carro' object has no attribute '__injetarCombustivel'",
     "output_type": "error",
     "traceback": [
      "\u001b[1;31m---------------------------------------------------------------------------\u001b[0m",
      "\u001b[1;31mAttributeError\u001b[0m                            Traceback (most recent call last)",
      "\u001b[1;32m<ipython-input-11-95e47d9a242a>\u001b[0m in \u001b[0;36m<module>\u001b[1;34m\u001b[0m\n\u001b[0;32m      1\u001b[0m \u001b[1;31m# Invocando um método privado.\u001b[0m\u001b[1;33m\u001b[0m\u001b[1;33m\u001b[0m\u001b[1;33m\u001b[0m\u001b[0m\n\u001b[1;32m----> 2\u001b[1;33m \u001b[0mcarro\u001b[0m\u001b[1;33m.\u001b[0m\u001b[0m__injetarCombustivel\u001b[0m\u001b[1;33m(\u001b[0m\u001b[1;33m)\u001b[0m\u001b[1;33m\u001b[0m\u001b[1;33m\u001b[0m\u001b[0m\n\u001b[0m",
      "\u001b[1;31mAttributeError\u001b[0m: 'Carro' object has no attribute '__injetarCombustivel'"
     ]
    }
   ],
   "source": [
    "# Invocando um método privado.\n",
    "carro.__injetarCombustivel()"
   ]
  },
  {
   "cell_type": "markdown",
   "metadata": {},
   "source": [
    "#### Acessando um atributo público."
   ]
  },
  {
   "cell_type": "code",
   "execution_count": 12,
   "metadata": {},
   "outputs": [
    {
     "name": "stdout",
     "output_type": "stream",
     "text": [
      "Modelo: Volkswagen fusca\n"
     ]
    }
   ],
   "source": [
    "# Acessando um atributo público.\n",
    "print('Modelo:', carro.modelo)"
   ]
  },
  {
   "cell_type": "markdown",
   "metadata": {},
   "source": [
    "#### Acessando um atributo protegido."
   ]
  },
  {
   "cell_type": "code",
   "execution_count": 13,
   "metadata": {},
   "outputs": [
    {
     "name": "stdout",
     "output_type": "stream",
     "text": [
      "Cor: branca\n"
     ]
    }
   ],
   "source": [
    "# Acessando um atributo protegido.\n",
    "print('Cor:', carro._cor)"
   ]
  },
  {
   "cell_type": "markdown",
   "metadata": {},
   "source": [
    "#### Acessando um atributo privado."
   ]
  },
  {
   "cell_type": "code",
   "execution_count": 14,
   "metadata": {},
   "outputs": [
    {
     "ename": "AttributeError",
     "evalue": "'Carro' object has no attribute '__kilometragem'",
     "output_type": "error",
     "traceback": [
      "\u001b[1;31m---------------------------------------------------------------------------\u001b[0m",
      "\u001b[1;31mAttributeError\u001b[0m                            Traceback (most recent call last)",
      "\u001b[1;32m<ipython-input-14-fac08bdec358>\u001b[0m in \u001b[0;36m<module>\u001b[1;34m\u001b[0m\n\u001b[0;32m      1\u001b[0m \u001b[1;31m# Acessando um atributo privado.\u001b[0m\u001b[1;33m\u001b[0m\u001b[1;33m\u001b[0m\u001b[1;33m\u001b[0m\u001b[0m\n\u001b[1;32m----> 2\u001b[1;33m \u001b[0mprint\u001b[0m\u001b[1;33m(\u001b[0m\u001b[1;34m'Kilometragem:'\u001b[0m\u001b[1;33m,\u001b[0m \u001b[0mcarro\u001b[0m\u001b[1;33m.\u001b[0m\u001b[0m__kilometragem\u001b[0m\u001b[1;33m)\u001b[0m\u001b[1;33m\u001b[0m\u001b[1;33m\u001b[0m\u001b[0m\n\u001b[0m",
      "\u001b[1;31mAttributeError\u001b[0m: 'Carro' object has no attribute '__kilometragem'"
     ]
    }
   ],
   "source": [
    "# Acessando um atributo privado.\n",
    "print('Kilometragem:', carro.__kilometragem)"
   ]
  },
  {
   "cell_type": "markdown",
   "metadata": {},
   "source": [
    "## Notação UML para encapsulamento\n",
    "\n",
    "+ O tipo de acesso **público** é representado pelo caracter `+`.\n",
    "+ O tipo de acesso **privado** é representado pelo caracter `-`.\n",
    "+ O tipo de acesso **protegido** é representado pelo caracter `#`.\n",
    "\n",
    "<img src=\"../figures/encapsulation_uml.png\" width=\"150\" height=\"150\">"
   ]
  },
  {
   "cell_type": "markdown",
   "metadata": {},
   "source": [
    "### Tarefa\n",
    "\n",
    "1. <span style=\"color:blue\">**QUIZ - Encapsulamento**</span>: respondam ao questionário sobre encapsulamento no MS teams, por favor."
   ]
  },
  {
   "cell_type": "markdown",
   "metadata": {},
   "source": [
    "## Relacionamentos entre classes\n",
    "\n",
    "Como vocês devem ter percebido, uma classe sozinha não fornece muita funcionalidade a um sistema. Geralmente as classes que compõem um software tem relacionamentos com outras classes. \n",
    "\n",
    "A vantagem dos relacionamentos entre classes é a de poder criar classes mais complexas utilizando objetos de classes menos complexas.\n",
    "\n",
    "O relacionamento entre classes é feito, basicamente, através de **Composição** e **Herança**.\n",
    "\n",
    "### Composição\n",
    "\n",
    "Composição significa que uma classe A **tem** um objeto de uma classe B. A composição permite a criação de tipos complexos combinando objetos de outros tipos. Ela geralmente é uma boa escolha quando um objeto faz parte de outro objeto. Por exemplo, uma classe `Calculadora` **tem** um objeto do tipo `Teclado`, e portanto, a composição seria a escolha correta para esse relacionamento.\n",
    "\n",
    "A representação do relacionamento de **composição** é feita em UML da seguinte forma:\n",
    "\n",
    "<img src=\"../figures/composition.png\" width=\"400\" height=\"400\">\n",
    "\n",
    "A composição é representada por uma linha com um losango conectado à classe que contém objetos de outras classes. Geralmente, o lado composto expressa a cardinalidade do relacionamento. A cardinalidade pode ser expressa das seguintes maneiras:\n",
    "+ Um número indica o número de instâncias de um dado objeto que estão contidas na classe composta.\n",
    "+ O símbolo `*` indica que a classe composta pode conter um número variável de instâncias de um dado objeto.\n",
    "+ Um intervalo, por exemplo de `1..4`, indica que a classe composta pode conter um intervalo de instâncias de um dado objeto. O intervalo é indicado com o número mínimo e máximo de instâncias, ou mínimo e muitas instâncias como em `1..*`.\n",
    "\n",
    "Com a composição, nós conseguimos criar um componente, por exemplo uma calculadora, de maior nível de complexidade sem termos que nos preocupar com os detalhes de menor nível. \n",
    "\n",
    "Vejamos o exemplo abaixo. Inicialmente, implementamos as classes que farão parte (i.e., compor) da calculadora: `Bateria` , `Teclado`, `Operacoes` e `Display` ."
   ]
  },
  {
   "cell_type": "code",
   "execution_count": 15,
   "metadata": {},
   "outputs": [],
   "source": [
    "# Classe responsável por emular o uso da bateria.\n",
    "class Bateria():\n",
    "    \"\"\"Classe responsável por emular o uso da bateria.\"\"\"\n",
    "    \n",
    "    def __init__(self):\n",
    "        self.carga = 100\n",
    "        self.perdaPorUso = 0.9\n",
    " \n",
    "    def getCarga(self):\n",
    "        self.carga *= self.perdaPorUso\n",
    "        print('Carga da bateria: %1.2f' % (self.carga))\n",
    "        return self.carga"
   ]
  },
  {
   "cell_type": "code",
   "execution_count": 16,
   "metadata": {},
   "outputs": [],
   "source": [
    "# Classe responsável por ler o teclado.\n",
    "class Teclado():\n",
    "    \"\"\"Classe responsável por ler o teclado.\"\"\"\n",
    "    \n",
    "    def __init__(self):\n",
    "        self.values = ()\n",
    " \n",
    "    def valorEntrada(self, values):\n",
    "        self.values = values\n",
    "\n",
    "    def getValor(self):\n",
    "        return self.values"
   ]
  },
  {
   "cell_type": "code",
   "execution_count": 17,
   "metadata": {},
   "outputs": [],
   "source": [
    "# Classe responsável por emular o controlador lógico da calculadora.\n",
    "class Operacoes():\n",
    "    \"\"\"Classe responsável por emular o controlador lógico da calculadora.\"\"\"\n",
    " \n",
    "    def soma(self, valores):\n",
    "        val = 0\n",
    "        for v in valores:\n",
    "            val = val + v\n",
    " \n",
    "        return val\n",
    " \n",
    "    def subtracao(self, valores):\n",
    "        val = 0\n",
    "        for v in valores:\n",
    "            val = val - v\n",
    "        return val"
   ]
  },
  {
   "cell_type": "code",
   "execution_count": 18,
   "metadata": {},
   "outputs": [],
   "source": [
    "# Classe responsável por exibir os valores na tela.\n",
    "class Display():\n",
    "    \"\"\"Classe responsável por exibir os valores na tela.\"\"\"\n",
    "    \n",
    "    def __init__(self):\n",
    "        self.brilho = 100\n",
    " \n",
    "    def mostraTexto(self, texto):\n",
    "        print('Resultado da operação:', texto)"
   ]
  },
  {
   "cell_type": "markdown",
   "metadata": {},
   "source": [
    "Agora, criamos a classe `Caculadora` que possui 4 objetos das classes `Bateria`, `Teclado`, `Operacoes` e `Display`, respectivamente. Para isso, vamos implementar o método `__init__()` e dentro dele vamos instanciar as classes para criar um objeto de cada uma delas."
   ]
  },
  {
   "cell_type": "code",
   "execution_count": 19,
   "metadata": {},
   "outputs": [],
   "source": [
    "# Criando a classe Calculadora.\n",
    "class Calculadora():\n",
    "    \"\"\"Classe calculadora.\"\"\"\n",
    "    \n",
    "    def __init__(self):\n",
    "        self.bateria   = Bateria()\n",
    "        self.teclado   = Teclado()\n",
    "        self.operacoes = Operacoes()\n",
    "        self.display   = Display()\n",
    "        \n",
    "    def novaOperacao(self, *valores):\n",
    "        self.teclado.valorEntrada(valores)\n",
    "        self.bateria.getCarga()\n",
    " \n",
    "    def soma(self):\n",
    "        soma = self.operacoes.soma(self.teclado.getValor())\n",
    "        self.display.mostraTexto(soma)\n",
    "        self.bateria.getCarga()"
   ]
  },
  {
   "cell_type": "markdown",
   "metadata": {},
   "source": [
    "#### Instanciando a classe calculadora\n",
    "Agora, instanciamos a classe para criar uma calculadora."
   ]
  },
  {
   "cell_type": "code",
   "execution_count": 20,
   "metadata": {},
   "outputs": [
    {
     "name": "stdout",
     "output_type": "stream",
     "text": [
      "Carga da bateria: 90.00\n",
      "Resultado da operação: 60\n",
      "Carga da bateria: 81.00\n"
     ]
    }
   ],
   "source": [
    "# Utilizando a classe Calculadora.\n",
    "calc = Calculadora()\n",
    " \n",
    "calc.novaOperacao(10,20,30)\n",
    "\n",
    "calc.soma()"
   ]
  },
  {
   "cell_type": "markdown",
   "metadata": {},
   "source": [
    "### Herança\n",
    "\n",
    "Herança é outra forma de relacionamento entre classes. Ela é uma maneira de criar uma nova classe que use detalhes de uma classe existente sem modificá-la. A classe recém-criada é uma classe derivada (ou classe filha, herdeira). Da mesma forma, a classe existente é uma classe base (ou classe pai, ou superclasse).\n",
    "\n",
    "Aqui, o relacionamento é do tipo \"Classe A **é** uma classe B\", por exemplo, a classe `Carro` é um `Veículo`. \n",
    "\n",
    "Na herança, uma classe filha herda os **atributos** e **métodos** da classe base. A herança é **transitiva**, o que significa que uma classe pode herdar de outra classe que herda de outra classe, e assim por diante, até uma classe base. \n",
    "\n",
    "Subclasses podem substituir ou adicionar alguns métodos e/ou atributos de forma a alterar o comportamento padrão implementado pela classe base.\n",
    "\n",
    "<img src=\"../figures/inheritance.png\" width=\"300\" height=\"300\">\n",
    "\n",
    "**Notação UML**: a notação UML para herança é uma linha sólida com uma seta que vai da classe filha (subclasse) para a classe pai (superclasse). A seta aponta para a classe pai. Por convenção, a superclasse é desenhada no topo de suas subclasses, conforme mostrado na figura acima.\n",
    "\n",
    "Para criar uma classe que herda as funcionalidades de outra classe, passamos a classe pai como um parâmetro ao criar a classe filha. \n",
    "\n",
    "No exemplo abaixo, a classe `Pato`, herda os atributos e métodos da classe `Passaro`, que é passada como parâmetro para `Pato`:\n",
    "\n",
    "```python\n",
    "class Pato(Passaro):\n",
    "```\n",
    "\n",
    "Agora, a classe `Pato` tem os mesmos atributos e métodos da classe `Passaro`, ou seja, podemos dizer que um `Pato` é um `Passaro`.\n",
    "\n",
    "Vejam o exemplo abaixo:"
   ]
  },
  {
   "cell_type": "code",
   "execution_count": 5,
   "metadata": {},
   "outputs": [],
   "source": [
    "class Animal:\n",
    "    \n",
    "    # Atributos da classe Animal.\n",
    "    pernas = 0\n",
    "    idade = 0\n",
    "    peso = 0\n",
    "    \n",
    "    def __init__(self, pernas=2, idade=0, peso=1.0):\n",
    "        self.pernas = pernas\n",
    "        self.idade = idade\n",
    "        self.peso = peso\n",
    "        print(\"Animal está pronto.\")\n",
    "\n",
    "    def whoisThis(self):\n",
    "        print(\"Este é um Animal.\")\n",
    "\n",
    "    def comer(self):\n",
    "        print(\"comendo...\")\n",
    "        \n",
    "    def dormir(self):\n",
    "        print(\"dormindo...\")        \n",
    "\n",
    "class Pássaro(Animal):\n",
    "    \n",
    "    # Atributos da classe Pássaro.\n",
    "    corDasPenas = ''\n",
    "    tipoDoBico = ''\n",
    "    envergadura = ''    \n",
    "    \n",
    "    def __init__(self, corDasPenas='', tipoDoBico='', envergadura=0.0):\n",
    "        super().__init__()\n",
    "        self.corDasPenas = corDasPenas\n",
    "        self.tipoDoBico = tipoDoBico\n",
    "        self.envergadura = envergadura\n",
    "        print(\"Pássaro está pronto.\")\n",
    "\n",
    "    def whoisThis(self):\n",
    "        print(\"Este é um Pássaro\")\n",
    "\n",
    "    def voar(self):\n",
    "        print(\"voando...\")\n",
    "        \n",
    "    def piar(self):\n",
    "        print(\"piu, piu!\")        \n",
    "\n",
    "class Pato(Pássaro):\n",
    "\n",
    "    def __init__(self):\n",
    "        super().__init__()\n",
    "        print(\"Pato está pronto.\")\n",
    "\n",
    "    def whoisThis(self):\n",
    "        print(\"Este é um Pato\")\n",
    "\n",
    "    def nadar(self):\n",
    "        print(\"nadando...\")"
   ]
  },
  {
   "cell_type": "code",
   "execution_count": 22,
   "metadata": {},
   "outputs": [
    {
     "name": "stdout",
     "output_type": "stream",
     "text": [
      "Animal está pronto.\n",
      "Pássaro está pronto.\n",
      "Pato está pronto.\n",
      "Este é um Pato\n",
      "nadando...\n",
      "voando...\n",
      "comendo...\n",
      "Howard tem 2 pernas!\n"
     ]
    }
   ],
   "source": [
    "# Instanciando a classe Pato.\n",
    "howard = Pato()\n",
    "\n",
    "howard.whoisThis()\n",
    "howard.nadar()\n",
    "howard.voar()\n",
    "howard.comer()\n",
    "\n",
    "print('Howard tem %d pernas!' % (howard.pernas))"
   ]
  },
  {
   "cell_type": "markdown",
   "metadata": {},
   "source": [
    "No programa acima, nós criamos três classes, ou seja, `Animal` (classe pai), `Pássaro` (classe filha de Animal) e `Pato` (classe filha de Pássaro). Portanto podemos dizer que um objeto da classe `Pato` é um `Pássaro`, que por sua vez é um `Animal`.\n",
    "\n",
    "Toda classe filha herda os métodos da classe pai. Podemos ver isso através dos métodos `voar()` e `comer()` sendo acessados pelo objeto da classe `Pato`.\n",
    "\n",
    "Cada uma das classes filhas modificaram (sobreescreveram) o comportamento de suas classes pai. Podemos ver isso nos métodos `whoisThis()` tanto de `Pássaro` quanto de `Pato`. Lembrem-se que sempre que adicionarmos um método na classe filha com o mesmo nome de um método da classe pai, a herança do método da classe pai será sobreescrita (perdida).\n",
    "\n",
    "Além disso, estendemos o comportamento da classe pai, criando um novo método `nadar()`.\n",
    "\n",
    "**IMPORTANTE: inicialização da classe pai**\n",
    "\n",
    "Quando criamos a função `__init __()` na classe filha, ela não herdará mais a função `__init __()` do pai. Ou seja, a classe filha sobreescreve o comportamento do método `__init __()` da classe pai.\n",
    "\n",
    "Portanto, para executarmos o método `__init __()` da classe pai dentro da classe filha, usamos a função `super()` dentro do método `__init __()`, conforme vimos no exemplo acima e mostrado no trecho abaixo.\n",
    "\n",
    "```python\n",
    "class Pato(Pássaro):\n",
    "\n",
    "    def __init__(self):\n",
    "        super().__init__()\n",
    "```\n",
    "\n",
    "Outra forma de executarmos o método `__init __()` da classe pai dentro do `__init __()` da classe filha sem utilizar a função `super()` é através do nome da classe pai:\n",
    "\n",
    "```python\n",
    "class Pato(Pássaro):\n",
    "\n",
    "    def __init__(self):\n",
    "        Pássaro.__init__()\n",
    "```\n",
    "\n",
    "Desta forma, para mantermos a inicialização da classe pai, sempre que criamos o método `__init __()` na classe filha, invocamos o `__init __()` da classe pai dentro dele.\n",
    "\n",
    "#### Ordem de inicialização dos objetos\n",
    "\n",
    "Vejam no exemplo abaixo que quando instanciamos um objeto da classe `Pato` a ordem de inicialização é da classe de mais alta hierarquia para a mais baixa, assim, `Animal` e depois `Pássaro` são inicializados antes da inicialização de `Pato`."
   ]
  },
  {
   "cell_type": "code",
   "execution_count": 23,
   "metadata": {},
   "outputs": [
    {
     "name": "stdout",
     "output_type": "stream",
     "text": [
      "Animal está pronto.\n",
      "Pássaro está pronto.\n",
      "Pato está pronto.\n"
     ]
    }
   ],
   "source": [
    "# Instanciando a classe Pato.\n",
    "howard = Pato()"
   ]
  },
  {
   "cell_type": "markdown",
   "metadata": {},
   "source": [
    "### Tarefa\n",
    "\n",
    "1. <span style=\"color:blue\">**QUIZ - Relacionamentos entre classes**</span>: respondam ao questionário sobre relacionamentos entre classes no MS teams, por favor."
   ]
  },
  {
   "cell_type": "markdown",
   "metadata": {},
   "source": [
    "## Polimorfismo\n",
    "\n",
    "Polimorfismo é o princípio pelo qual duas ou mais classes (derivadas ou não de uma mesma superclasse) podem invocar métodos que têm a mesma identificação (assinatura) mas comportamentos distintos, especializados para cada classe derivada, usando para tanto uma referência a um objeto do tipo da superclasse.\n",
    "\n",
    "Em outras palavras, o polimorfismo permite que objetos de diferentes tipos e com diferentes comportamentos sejam tratados como o mesmo tipo. Vejamos alguns exemplos.\n",
    "\n",
    "#### Polimorfismo com classes e objetos\n",
    "\n",
    "No exemplo abaixo, nós criamos um laço que itera através de uma tupla (poderia ser uma lista, ou dicionário, por exemplo) de objetos de tipos diferentes mas que possuem um método com a mesma **assinatura**, ou seja, o mesmo nome e parâmetros. Perceba que com este tipo de polimorfismo pode-se chamar os métodos sem ter que verificar a classe a que o objeto pertence."
   ]
  },
  {
   "cell_type": "code",
   "execution_count": 6,
   "metadata": {},
   "outputs": [
    {
     "name": "stdout",
     "output_type": "stream",
     "text": [
      "Miau\n",
      "Eu sou um gato. Meu nome é Bichano e eu tenho 2.50 anos.\n",
      "Miau\n",
      "Latir\n",
      "Eu sou um cachorro. Meu nome é Toto e eu tenho 4.00 anos.\n",
      "Latir\n"
     ]
    }
   ],
   "source": [
    "class Gato:\n",
    "    \"\"\"Classe Gato\"\"\"\n",
    "    \n",
    "    def __init__(self, nome, idade):\n",
    "        self.nome = nome\n",
    "        self.idade = idade\n",
    "\n",
    "    def info(self):\n",
    "        print(\"Eu sou um gato. Meu nome é %s e eu tenho %1.2f anos.\" % (self.nome, self.idade))\n",
    "\n",
    "    def fazerRuido(self):\n",
    "        print(\"Miau\")\n",
    "\n",
    "class Cachorro:\n",
    "    \"\"\"Classe Cachorro\"\"\"\n",
    "    \n",
    "    def __init__(self, nome, idade):\n",
    "        self.nome = nome\n",
    "        self.idade = idade\n",
    "        \n",
    "    def info(self):\n",
    "        print(\"Eu sou um cachorro. Meu nome é %s e eu tenho %1.2f anos.\" % (self.nome, self.idade))\n",
    "\n",
    "    def fazerRuido(self):\n",
    "        print(\"Latir\")\n",
    "\n",
    "\n",
    "gato = Gato(\"Bichano\", 2.5)\n",
    "cachorro = Cachorro(\"Toto\", 4)\n",
    "\n",
    "for animal in (gato, cachorro):\n",
    "    animal.fazerRuido()\n",
    "    animal.info()\n",
    "    animal.fazerRuido()"
   ]
  },
  {
   "cell_type": "markdown",
   "metadata": {},
   "source": [
    "Vejam que ambas as classes, `Gato`  e `Cachorro`, implementam o método `fazerRuido()`, mas que a saída deles é diferente."
   ]
  },
  {
   "cell_type": "markdown",
   "metadata": {},
   "source": [
    "#### Polimorfismo com funções e objetos\n",
    "\n",
    "O exemplo abaixo usa a função `cutucarAnimal(objeto)` para cutucar o animal que é passado para ela como argumento. Cada uma das chamadas de `cutucarAnimal(objeto)` irá invocar o método `fazerRuido()` do objeto correspondente."
   ]
  },
  {
   "cell_type": "code",
   "execution_count": 25,
   "metadata": {},
   "outputs": [
    {
     "name": "stdout",
     "output_type": "stream",
     "text": [
      "Miau\n",
      "Latir\n"
     ]
    }
   ],
   "source": [
    "def cutucarAnimal(objeto):\n",
    "    objeto.fazerRuido()\n",
    "\n",
    "gato = Gato(\"Bichano\", 2.5)\n",
    "cachorro = Cachorro(\"Toto\", 4)\n",
    "\n",
    "cutucarAnimal(gato)\n",
    "cutucarAnimal(cachorro)"
   ]
  },
  {
   "cell_type": "markdown",
   "metadata": {},
   "source": [
    "#### Polimorfismo com herança \n",
    "\n",
    "Devido a herança, uma classe filha herda os métodos da classe pai. No entanto, é possível modificar, na classe filha, o comportamento desses métodos herdados da classe pai. \n",
    "\n",
    "Isso é particularmente útil nos casos em que o comportamento do método herdado da classe pai não se encaixa perfeitamente com o comportamento da classe filha. Nesses casos, reimplementamos o método na classe filha. \n",
    "\n",
    "Este processo de reimplementar um método na classe filha é conhecido como **substituição de método**.\n",
    "\n",
    "**IMPORTANTE**: Se por alguma razão você ainda desejar acessar o método sobrescrito da classe pai na classe filha, você pode chamá-lo usando a função `super()`."
   ]
  },
  {
   "cell_type": "markdown",
   "metadata": {},
   "source": [
    "No exemplo abaixo nós veremos que o método `intro()` não é substituido na classe filha e portanto, quando se invoca esse método com o objeto da classe filha, é a implementação de `intro()` da classe pai que é executada.\n",
    "\n",
    "Porém, devido ao polimorfismo, o interpretador reconhece automaticamente que o método `voar()` da classe pai foi sobrescrito. Então, ele usa aquele definido na classe filha."
   ]
  },
  {
   "cell_type": "code",
   "execution_count": 27,
   "metadata": {},
   "outputs": [
    {
     "name": "stdout",
     "output_type": "stream",
     "text": [
      "Existem muitos tipos de pássaros.\n",
      "A maioria dos pássaros voa mas alguns não conseguem.\n",
      "Existem muitos tipos de pássaros.\n",
      "Pardais podem voar.\n",
      "Existem muitos tipos de pássaros.\n",
      "Avestruzes não podem voar.\n"
     ]
    }
   ],
   "source": [
    "class Pássaro: \n",
    "    def intro(self): \n",
    "        print(\"Existem muitos tipos de pássaros.\") \n",
    "      \n",
    "    def voar(self): \n",
    "        print(\"A maioria dos pássaros voa mas alguns não conseguem.\")\n",
    "\n",
    "class Pardal(Pássaro): \n",
    "    def voar(self): \n",
    "        print(\"Pardais podem voar.\") \n",
    "\n",
    "class Avestruz(Pássaro): \n",
    "    def voar(self): \n",
    "        print(\"Avestruzes não podem voar.\")\n",
    "        \n",
    "# Definição da função que faz com que os pássaros voem.\n",
    "def fazerPassaroVoar(obj):\n",
    "    obj.intro()\n",
    "    obj.voar()\n",
    "\n",
    "# Instanciando os pássaros.\n",
    "obj1 = Pássaro()\n",
    "obj2 = Pardal()\n",
    "obj3 = Avestruz()\n",
    "\n",
    "# Fazendo com que os pássaros voem.\n",
    "fazerPassaroVoar(obj1)\n",
    "fazerPassaroVoar(obj2)\n",
    "fazerPassaroVoar(obj3)"
   ]
  },
  {
   "cell_type": "markdown",
   "metadata": {},
   "source": [
    "**IMPORTANTE**: A **sobrecarga de métodos**, uma maneira de criar vários métodos com o mesmo nome, mas com parâmetros diferentes, não é possível em Python."
   ]
  },
  {
   "cell_type": "markdown",
   "metadata": {},
   "source": [
    "## Tarefas\n",
    "\n",
    "1. <span style=\"color:blue\">**QUIZ - Polimorfismo**</span>: respondam ao quiz sobre polimorfismo no MS teams, por favor.\n",
    "2. <span style=\"color:blue\">**Laboratório #6**</span>: clique em um dos links abaixo para accessar o notebook com os exercícios do laboratório #6.\n",
    "\n",
    "[![Binder](https://mybinder.org/badge_logo.svg)](https://mybinder.org/v2/gh/zz4fap/python-programming/master?filepath=labs%2FLaboratorio6.ipynb)\n",
    "\n",
    "[![Google Colab](https://badgen.net/badge/Launch/on%20Google%20Colab/blue?icon=terminal)](https://colab.research.google.com/github/zz4fap/python-programming/blob/master/labs/Laboratorio6.ipynb)\n",
    "\n",
    "**IMPORTANTE**: Para acessar o material das aulas e realizar as entregas dos exercícios de laboratório, por favor, leiam o tutorial no seguinte link:\n",
    "[Material-das-Aulas](../docs/Acesso-ao-material-das-aulas-resolucao-e-entrega-dos-laboratorios.pdf)"
   ]
  },
  {
   "cell_type": "markdown",
   "metadata": {},
   "source": [
    "## Avisos\n",
    "\n",
    "* As respostas das laboratórios 1 até 6 já estão disponíveis na área de arquivos do MS Teams.\n",
    "* A lista de preparação para a prova 1 será considerada como ponto extra.\n",
    "* A prova tem 6 questões e vocês terão tempo suficiente para resolver cada um delas.\n",
    "* Vocês poderão consultar o material de aula assim como suas resoluções dos laboratórios e da lista de preparação.\n",
    "* Não copiem as soluções de exercícios de ninguém, caso contrário, o exercício será zerado.\n",
    "* Se atentem aos prazos de entrega das tarefas na aba de **Avaliações** do MS Teams.\n",
    "* Horário de atendimento todas as Quintas-feiras as 17:30 às 19:30 via MS Teams enquanto as aulas presenciais não retornam."
   ]
  },
  {
   "cell_type": "markdown",
   "metadata": {},
   "source": [
    "<img src=\"../figures/obrigado.png\" width=\"1000\" height=\"1000\">"
   ]
  }
 ],
 "metadata": {
  "kernelspec": {
   "display_name": "Python 3",
   "language": "python",
   "name": "python3"
  },
  "language_info": {
   "codemirror_mode": {
    "name": "ipython",
    "version": 3
   },
   "file_extension": ".py",
   "mimetype": "text/x-python",
   "name": "python",
   "nbconvert_exporter": "python",
   "pygments_lexer": "ipython3",
   "version": "3.7.7"
  }
 },
 "nbformat": 4,
 "nbformat_minor": 4
}
