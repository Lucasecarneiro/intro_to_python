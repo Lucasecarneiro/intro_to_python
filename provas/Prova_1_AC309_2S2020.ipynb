{
 "cells": [
  {
   "cell_type": "markdown",
   "metadata": {},
   "source": [
    "# Prova #1 AC309 (2S2020)\n",
    "\n",
    "### ATENCÃO: Leia as instruções abaixo com bastante calma.\n",
    "\n",
    "1. Para cada um dos exercícios a seguir, faça o seguinte:\n",
    "    * Adicione comentários ao seu código explicando o que você fez.\n",
    "    * Caso o exercício involva a implementação de uma função:\n",
    "        + Coloque um comentário dizendo o que a função faz, use **docstrings**.\n",
    "        + Escolha nomes auto-explicativos para suas funções e parâmetros.\n",
    "    \n",
    "2. Quando você terminar a prova, vá ao menu do Jupyter ou Colab e selecione a opção para fazer download do notebook.\n",
    "    * Os notebooks tem extensão .ipynb. \n",
    "    * Este deve ser o arquivo que você irá entregar.\n",
    "    * No Jupyter vá até a opção **File** -> **Download as** -> **Notebook (.ipynb)**.\n",
    "    * No Colab vá até a opção **File** -> **Download .ipynb**.\n",
    "   \n",
    "3. Em seguida, faça a entrega do notebook da prova (ou seja, anexe o arquivo) na tarefa criada no MS Teams.\n",
    "4. Atente-se ao prazo de entrega definido na tarefa do MS Teams. \n",
    "5. **A prova deve ser resolvida individualmente**.\n",
    "6. Todas as questões tem o mesmo peso.\n",
    "7. Não se esqueça de colocar seu nome e número de matrícula nos campos abaixo.\n",
    "8. Você pode consultar o material de aula.\n",
    "9. A interpretação faz parte da prova.\n",
    "10. Boa sorte!"
   ]
  },
  {
   "cell_type": "markdown",
   "metadata": {},
   "source": [
    "**Nome**:\n",
    "\n",
    "**Matrícula**:"
   ]
  },
  {
   "cell_type": "markdown",
   "metadata": {},
   "source": [
    "## Exercícios"
   ]
  },
  {
   "cell_type": "markdown",
   "metadata": {},
   "source": [
    "#### 1) Exercício sobre recursão. \n",
    "\n",
    "Escreva uma função recursiva, chamada de `somaRecursiva`, que calcule a soma de todos os números de `1` a `n`, onde `n` é o parâmetro de entrada da função."
   ]
  },
  {
   "cell_type": "code",
   "execution_count": 7,
   "metadata": {},
   "outputs": [],
   "source": [
    "# Implemente o código do exercício aqui."
   ]
  },
  {
   "cell_type": "markdown",
   "metadata": {},
   "source": [
    "Execute o trecho de código abaixo para testar sua função. Se a sua função estiver correta, então a seguinte frase será impressa: `Implementação da função está correta!`, caso contrário, a seguinte frase será impressa: `Implementação da função NÃO está correta!`\n",
    "\n",
    "**NÃO ALTERE O CÓDIGO ABAIXO EM HIPÓTESE ALGUMA. SUA IMPLEMENTAÇÃO DEVE FUNCIONAR COM O TRECHO DE CÓDIGO ABAIXO SEM NENHUMA ALTERAÇÃO.**"
   ]
  },
  {
   "cell_type": "code",
   "execution_count": 8,
   "metadata": {},
   "outputs": [
    {
     "ename": "NameError",
     "evalue": "name 'somaRecursiva' is not defined",
     "output_type": "error",
     "traceback": [
      "\u001b[1;31m---------------------------------------------------------------------------\u001b[0m",
      "\u001b[1;31mNameError\u001b[0m                                 Traceback (most recent call last)",
      "\u001b[1;32m<ipython-input-8-66a8a3680fcb>\u001b[0m in \u001b[0;36m<module>\u001b[1;34m\u001b[0m\n\u001b[0;32m      3\u001b[0m \u001b[1;32mfor\u001b[0m \u001b[0mn\u001b[0m \u001b[1;32min\u001b[0m \u001b[0mrange\u001b[0m\u001b[1;33m(\u001b[0m\u001b[1;36m0\u001b[0m\u001b[1;33m,\u001b[0m \u001b[0mlen\u001b[0m\u001b[1;33m(\u001b[0m\u001b[0mresultados_corretos\u001b[0m\u001b[1;33m)\u001b[0m\u001b[1;33m)\u001b[0m\u001b[1;33m:\u001b[0m\u001b[1;33m\u001b[0m\u001b[1;33m\u001b[0m\u001b[0m\n\u001b[0;32m      4\u001b[0m     \u001b[0mret\u001b[0m \u001b[1;33m=\u001b[0m \u001b[1;32mTrue\u001b[0m\u001b[1;33m\u001b[0m\u001b[1;33m\u001b[0m\u001b[0m\n\u001b[1;32m----> 5\u001b[1;33m     \u001b[1;32mif\u001b[0m \u001b[0msomaRecursiva\u001b[0m\u001b[1;33m(\u001b[0m\u001b[0mn\u001b[0m\u001b[1;33m+\u001b[0m\u001b[1;36m1\u001b[0m\u001b[1;33m)\u001b[0m \u001b[1;33m!=\u001b[0m \u001b[0mresultados_corretos\u001b[0m\u001b[1;33m[\u001b[0m\u001b[0mn\u001b[0m\u001b[1;33m]\u001b[0m\u001b[1;33m:\u001b[0m\u001b[1;33m\u001b[0m\u001b[1;33m\u001b[0m\u001b[0m\n\u001b[0m\u001b[0;32m      6\u001b[0m         \u001b[0mret\u001b[0m \u001b[1;33m=\u001b[0m \u001b[1;32mFalse\u001b[0m\u001b[1;33m\u001b[0m\u001b[1;33m\u001b[0m\u001b[0m\n\u001b[0;32m      7\u001b[0m         \u001b[1;32mbreak\u001b[0m\u001b[1;33m\u001b[0m\u001b[1;33m\u001b[0m\u001b[0m\n",
      "\u001b[1;31mNameError\u001b[0m: name 'somaRecursiva' is not defined"
     ]
    }
   ],
   "source": [
    "resultados_corretos = [1, 3, 6, 10, 15, 21]\n",
    "\n",
    "for n in range(0, len(resultados_corretos)):\n",
    "    ret = True\n",
    "    if somaRecursiva(n+1) != resultados_corretos[n]:\n",
    "        ret = False\n",
    "        break\n",
    "\n",
    "if(ret==True):\n",
    "    print('Implementação da função está correta!')\n",
    "else:\n",
    "    print('Implementação da função NÃO está correta!')"
   ]
  },
  {
   "cell_type": "markdown",
   "metadata": {},
   "source": [
    "#### 2) Exercício sobre laços de repetição, operadores e funções. \n",
    "\n",
    "Implemente uma função chamada `decToBin` que converta um número decimal em um número binário. Por exemplo, o número decimal `18` quando convertido em binário é representado como `10010`. O número binário deve ser representado como um número inteiro (tipo `int`), ou seja, sua função `decToBin` deve retornar um número inteiro que é a representação do valor binário.\n",
    "\n",
    "Para converter o número decimal em binário, siga os seguintes passos:\n",
    "1. Divida o número por 2.\n",
    "2. Obtenha o quociente **inteiro** da divisão por 2, o qual será usado na próxima iteração.\n",
    "3. Obtenha o **resto** da divisão por 2, o qual será o dígito binário.\n",
    "4. Multiplique o **resto** da divisão pela posição do dígito binário quando representado como um número decimal, ou seja, se o bit está na posição das unidades, multiplique seu valor por $10^0$, se o bit está na posição das dezenas, multiple seu valor por $10^1$ e assim por diante.\n",
    "5. Acumule os valores resultantes da multiplicação do passo anterior (**Dica**: inicialize a variável de acumulação com 0).\n",
    "6. Repita os passos anteriores até que o quociente seja igual a 0.\n",
    "\n",
    "Exemplo: convertendo o valor decimal `13` em binário\n",
    "\n",
    "| Divisão por 2 | Quociente | Resto | Bit # |  10**(Bit #) | Resto * 10**(Bit #) |     Acumulação    |\n",
    "|:-------------:|:---------:|:-----:|:-----:|:------------:|:-------------------:|:-----------------:|\n",
    "|      13/2     |     6     |   1   |   0   |   10**0 = 1  |      1 * 1 = 1      |     0 + 1 = 1     |\n",
    "|      6/2      |     3     |   0   |   1   |  10**1 = 10  |      0 * 10 = 0     |     1 + 0  = 1    |\n",
    "|      3/2      |     1     |   1   |   2   |  10**2 = 100 |       1 * 100       |   100 + 1 = 101   |\n",
    "|      1/2      |     0     |   1   |   3   | 10**3 = 1000 |       1 * 1000      | 1000 + 101 = 1101 |\n",
    "\n",
    "\n",
    "Utilizando os resultados da tabela acima podemos converter o número decimal `13` como:\n",
    "\n",
    "$$1*(10^0) = 1$$\n",
    "$$1 + 0*(10^1) = 1$$\n",
    "$$1 + 1*(10^2) = 101$$\n",
    "$$101 + 1*(10^3) = 1101$$\n",
    "\n",
    "Então, `13`= `1101`."
   ]
  },
  {
   "cell_type": "code",
   "execution_count": 9,
   "metadata": {},
   "outputs": [],
   "source": [
    "# Implemente o código do exercício aqui."
   ]
  },
  {
   "cell_type": "markdown",
   "metadata": {},
   "source": [
    "Execute o trecho de código abaixo para testar sua função. Se a sua função estiver correta, então a seguinte frase será impressa: `Implementação da função está correta!`, caso contrário, a seguinte frase será impressa: `Implementação da função NÃO está correta!`\n",
    "\n",
    "**NÃO ALTERE O CÓDIGO ABAIXO EM HIPÓTESE ALGUMA. SUA IMPLEMENTAÇÃO DEVE FUNCIONAR COM O TRECHO DE CÓDIGO ABAIXO SEM NENHUMA ALTERAÇÃO.**"
   ]
  },
  {
   "cell_type": "code",
   "execution_count": 10,
   "metadata": {},
   "outputs": [
    {
     "ename": "NameError",
     "evalue": "name 'decToBin' is not defined",
     "output_type": "error",
     "traceback": [
      "\u001b[1;31m---------------------------------------------------------------------------\u001b[0m",
      "\u001b[1;31mNameError\u001b[0m                                 Traceback (most recent call last)",
      "\u001b[1;32m<ipython-input-10-f0c8c52f478f>\u001b[0m in \u001b[0;36m<module>\u001b[1;34m\u001b[0m\n\u001b[0;32m      4\u001b[0m \u001b[1;32mfor\u001b[0m \u001b[0mi\u001b[0m \u001b[1;32min\u001b[0m \u001b[0mrange\u001b[0m\u001b[1;33m(\u001b[0m\u001b[1;36m0\u001b[0m\u001b[1;33m,\u001b[0m \u001b[0mlen\u001b[0m\u001b[1;33m(\u001b[0m\u001b[0mentradas\u001b[0m\u001b[1;33m)\u001b[0m\u001b[1;33m)\u001b[0m\u001b[1;33m:\u001b[0m\u001b[1;33m\u001b[0m\u001b[1;33m\u001b[0m\u001b[0m\n\u001b[0;32m      5\u001b[0m     \u001b[0mret\u001b[0m \u001b[1;33m=\u001b[0m \u001b[1;32mTrue\u001b[0m\u001b[1;33m\u001b[0m\u001b[1;33m\u001b[0m\u001b[0m\n\u001b[1;32m----> 6\u001b[1;33m     \u001b[1;32mif\u001b[0m \u001b[0mdecToBin\u001b[0m\u001b[1;33m(\u001b[0m\u001b[0mentradas\u001b[0m\u001b[1;33m[\u001b[0m\u001b[0mi\u001b[0m\u001b[1;33m]\u001b[0m\u001b[1;33m)\u001b[0m \u001b[1;33m!=\u001b[0m \u001b[0mresultados_esperados\u001b[0m\u001b[1;33m[\u001b[0m\u001b[0mi\u001b[0m\u001b[1;33m]\u001b[0m\u001b[1;33m:\u001b[0m\u001b[1;33m\u001b[0m\u001b[1;33m\u001b[0m\u001b[0m\n\u001b[0m\u001b[0;32m      7\u001b[0m         \u001b[0mret\u001b[0m \u001b[1;33m=\u001b[0m \u001b[1;32mFalse\u001b[0m\u001b[1;33m\u001b[0m\u001b[1;33m\u001b[0m\u001b[0m\n\u001b[0;32m      8\u001b[0m         \u001b[1;32mbreak\u001b[0m\u001b[1;33m\u001b[0m\u001b[1;33m\u001b[0m\u001b[0m\n",
      "\u001b[1;31mNameError\u001b[0m: name 'decToBin' is not defined"
     ]
    }
   ],
   "source": [
    "entradas = [13, 7, 16, 734]\n",
    "resultados_esperados = [1101, 111, 10000, 1011011110]\n",
    "\n",
    "for i in range(0, len(entradas)):\n",
    "    ret = True\n",
    "    if decToBin(entradas[i]) != resultados_esperados[i]:\n",
    "        ret = False\n",
    "        break\n",
    "        \n",
    "if(ret==True):\n",
    "    print('Implementação da função está correta!')\n",
    "else:\n",
    "    print('Implementação da função NÃO está correta!')"
   ]
  },
  {
   "cell_type": "markdown",
   "metadata": {},
   "source": [
    "#### 3) Exercício sobre listas e funções. \n",
    "\n",
    "Escreva uma função chamada `imprimirMaioresPrecos` que receba uma lista contendo informações sobre preços de produtos em diferentes datas e que mostre como resultado a **data** e o **maior** preço que cada produto já teve. Utilize os valores abaixo como entrada da função. Veja que a lista com os valores já está disponibilizada, portanto, apenas implemente a função e execute a célula com o trecho de código de teste.\n",
    "\n",
    "**OBS.**: Escreva sua função de forma mais genérica possível, ou seja, de forma que ela aceite listas com itens que não estejam na tabela abaixo, por exemplo, se você recebesse uma nova lista, agora com morangos, sua implementação funcionaria?\n",
    "\n",
    "|    Data    |  Produto  | Preço |\n",
    "|:----------:|:---------:|:-----:|\n",
    "| 29/06/2020 |   cebola  |  2.19 |\n",
    "| 29/06/2020 |   batata  |  1.98 |\n",
    "| 29/06/2020 |   alface  |  1.88 |\n",
    "| 22/06/2020 | beterraba |  2.48 |\n",
    "| 22/06/2020 |   alface  |  2.00 |\n",
    "| 22/06/2020 |   cebola  |  2.03 |\n",
    "| 15/06/2020 | beterraba |  2.44 |\n",
    "| 15/06/2020 |   alface  |  1.75 |\n",
    "| 15/06/2020 |   batata  |  2.11 |\n",
    "\n",
    "```python\n",
    "lista = ['29/06/2020', 'cebola', 2.19, '29/06/2020', 'batata', 1.98, '29/06/2020', 'alface', 1.88, '22/06/2020', 'beterraba', 2.48, '22/06/2020', 'alface', 2.00, '22/06/2020', 'cebola', 2.03, '15/06/2020', 'beterraba', 2.44, '15/06/2020', 'alface', 1.75, '15/06/2020', 'batata', 2.11]\n",
    "```"
   ]
  },
  {
   "cell_type": "code",
   "execution_count": 11,
   "metadata": {},
   "outputs": [],
   "source": [
    "# Implemente o código do exercício aqui."
   ]
  },
  {
   "cell_type": "markdown",
   "metadata": {},
   "source": [
    "Teste sua função com o código abaixo, o qual deve resultar na seguinte saída esperada:\n",
    "\n",
    "```python\n",
    "Produto: cebola - data: 29/06/2020 - preço: 2.19\n",
    "Produto: batata - data: 15/06/2020 - preço: 2.11\n",
    "Produto: alface - data: 22/06/2020 - preço: 2.00\n",
    "Produto: beterraba - data: 22/06/2020 - preço: 2.48\n",
    "```\n",
    "\n",
    "**NÃO ALTERE O CÓDIGO ABAIXO EM HIPÓTESE ALGUMA. SUA IMPLEMENTAÇÃO DEVE FUNCIONAR COM O TRECHO DE CÓDIGO ABAIXO SEM NENHUMA ALTERAÇÃO.**"
   ]
  },
  {
   "cell_type": "code",
   "execution_count": 12,
   "metadata": {},
   "outputs": [
    {
     "ename": "NameError",
     "evalue": "name 'imprimeMaioresPrecos' is not defined",
     "output_type": "error",
     "traceback": [
      "\u001b[1;31m---------------------------------------------------------------------------\u001b[0m",
      "\u001b[1;31mNameError\u001b[0m                                 Traceback (most recent call last)",
      "\u001b[1;32m<ipython-input-12-4c75be1bc211>\u001b[0m in \u001b[0;36m<module>\u001b[1;34m\u001b[0m\n\u001b[0;32m      1\u001b[0m \u001b[0mlista\u001b[0m \u001b[1;33m=\u001b[0m \u001b[1;33m[\u001b[0m\u001b[1;34m'29/06/2020'\u001b[0m\u001b[1;33m,\u001b[0m \u001b[1;34m'cebola'\u001b[0m\u001b[1;33m,\u001b[0m \u001b[1;36m2.19\u001b[0m\u001b[1;33m,\u001b[0m \u001b[1;34m'29/06/2020'\u001b[0m\u001b[1;33m,\u001b[0m \u001b[1;34m'batata'\u001b[0m\u001b[1;33m,\u001b[0m \u001b[1;36m1.98\u001b[0m\u001b[1;33m,\u001b[0m \u001b[1;34m'29/06/2020'\u001b[0m\u001b[1;33m,\u001b[0m \u001b[1;34m'alface'\u001b[0m\u001b[1;33m,\u001b[0m \u001b[1;36m1.88\u001b[0m\u001b[1;33m,\u001b[0m \u001b[1;34m'22/06/2020'\u001b[0m\u001b[1;33m,\u001b[0m \u001b[1;34m'beterraba'\u001b[0m\u001b[1;33m,\u001b[0m \u001b[1;36m2.48\u001b[0m\u001b[1;33m,\u001b[0m \u001b[1;34m'22/06/2020'\u001b[0m\u001b[1;33m,\u001b[0m \u001b[1;34m'alface'\u001b[0m\u001b[1;33m,\u001b[0m \u001b[1;36m2.00\u001b[0m\u001b[1;33m,\u001b[0m \u001b[1;34m'22/06/2020'\u001b[0m\u001b[1;33m,\u001b[0m \u001b[1;34m'cebola'\u001b[0m\u001b[1;33m,\u001b[0m \u001b[1;36m2.03\u001b[0m\u001b[1;33m,\u001b[0m \u001b[1;34m'15/06/2020'\u001b[0m\u001b[1;33m,\u001b[0m \u001b[1;34m'beterraba'\u001b[0m\u001b[1;33m,\u001b[0m \u001b[1;36m2.44\u001b[0m\u001b[1;33m,\u001b[0m \u001b[1;34m'15/06/2020'\u001b[0m\u001b[1;33m,\u001b[0m \u001b[1;34m'alface'\u001b[0m\u001b[1;33m,\u001b[0m \u001b[1;36m1.75\u001b[0m\u001b[1;33m,\u001b[0m \u001b[1;34m'15/06/2020'\u001b[0m\u001b[1;33m,\u001b[0m \u001b[1;34m'batata'\u001b[0m\u001b[1;33m,\u001b[0m \u001b[1;36m2.11\u001b[0m\u001b[1;33m]\u001b[0m\u001b[1;33m\u001b[0m\u001b[1;33m\u001b[0m\u001b[0m\n\u001b[0;32m      2\u001b[0m \u001b[1;33m\u001b[0m\u001b[0m\n\u001b[1;32m----> 3\u001b[1;33m \u001b[0mimprimeMaioresPrecos\u001b[0m\u001b[1;33m(\u001b[0m\u001b[0mlista\u001b[0m\u001b[1;33m)\u001b[0m\u001b[1;33m\u001b[0m\u001b[1;33m\u001b[0m\u001b[0m\n\u001b[0m",
      "\u001b[1;31mNameError\u001b[0m: name 'imprimeMaioresPrecos' is not defined"
     ]
    }
   ],
   "source": [
    "lista = ['29/06/2020', 'cebola', 2.19, '29/06/2020', 'batata', 1.98, '29/06/2020', 'alface', 1.88, '22/06/2020', 'beterraba', 2.48, '22/06/2020', 'alface', 2.00, '22/06/2020', 'cebola', 2.03, '15/06/2020', 'beterraba', 2.44, '15/06/2020', 'alface', 1.75, '15/06/2020', 'batata', 2.11]\n",
    "\n",
    "imprimeMaioresPrecos(lista)"
   ]
  },
  {
   "cell_type": "markdown",
   "metadata": {},
   "source": [
    "#### 4) Exercício sobre strings, dicionários e funções. \n",
    "\n",
    "Uma string, representando uma data no fomato (mês-dia-ano) `MAR-08-85` inclui o nome do mês, que deve ser traduzido para um **número** que represente o mês. Implemente uma função chamada `converteData` que use operações da classe **string** para dividir a data em 3 itens usando o caractere `-` como caracter de separação em seguida traduza o nome do mês em um número de 1 a 12 (use um **dicionário** para traduzir nomes de meses em números) e corrija o ano para incluir todos os dígitos. Considere que os valores de anos passados para a função estão no intervalo entre `1900` e `1999`.\n",
    "\n",
    "A função deve aceitar uma string, representando uma data no fomato `MMM-dd-aa` e deve **retornar** uma tupla de **strings** da seguinte forma `(dia, mês, ano)`.\n",
    "\n",
    "**Dicas**:\n",
    "\n",
    "1. Tabela de Abreviaturas dos Meses: http://metodologia.lilacs.bvsalud.org/docs/pt/tabela-abreviatura-meses.htm\n",
    "2. Utilize os seguintes métodos da classe `string`\n",
    "    + `split()` para dividir uma string em sub-strings utilizando um separador específico.\n",
    "    + `lower()` para transformar todas os carecteres em letras minúsculas.\n",
    "    + `+` para concatenar strings\n",
    "    \n",
    "3. A documentação dos métodos da classe string podem ser accessados através do seguinte link: https://www.w3schools.com/python/python_ref_string.asp"
   ]
  },
  {
   "cell_type": "code",
   "execution_count": 13,
   "metadata": {},
   "outputs": [],
   "source": [
    "# Implemente o código do exercício aqui."
   ]
  },
  {
   "cell_type": "markdown",
   "metadata": {},
   "source": [
    "Execute o trecho de código abaixo para testar sua função. Se a sua função estiver correta, então a seguinte frase será impressa: `Implementação da função está correta!`, caso contrário, a seguinte frase será impressa: `Implementação da função NÃO está correta!`\n",
    "\n",
    "**NÃO ALTERE O CÓDIGO ABAIXO EM HIPÓTESE ALGUMA. SUA IMPLEMENTAÇÃO DEVE FUNCIONAR COM O TRECHO DE CÓDIGO ABAIXO SEM NENHUMA ALTERAÇÃO.**"
   ]
  },
  {
   "cell_type": "code",
   "execution_count": 14,
   "metadata": {},
   "outputs": [
    {
     "ename": "NameError",
     "evalue": "name 'converteData' is not defined",
     "output_type": "error",
     "traceback": [
      "\u001b[1;31m---------------------------------------------------------------------------\u001b[0m",
      "\u001b[1;31mNameError\u001b[0m                                 Traceback (most recent call last)",
      "\u001b[1;32m<ipython-input-14-6076e4cc8382>\u001b[0m in \u001b[0;36m<module>\u001b[1;34m\u001b[0m\n\u001b[0;32m      4\u001b[0m \u001b[1;32mfor\u001b[0m \u001b[0mi\u001b[0m \u001b[1;32min\u001b[0m \u001b[0mrange\u001b[0m\u001b[1;33m(\u001b[0m\u001b[1;36m0\u001b[0m\u001b[1;33m,\u001b[0m \u001b[0mlen\u001b[0m\u001b[1;33m(\u001b[0m\u001b[0mentradas\u001b[0m\u001b[1;33m)\u001b[0m\u001b[1;33m)\u001b[0m\u001b[1;33m:\u001b[0m\u001b[1;33m\u001b[0m\u001b[1;33m\u001b[0m\u001b[0m\n\u001b[0;32m      5\u001b[0m     \u001b[0mret\u001b[0m \u001b[1;33m=\u001b[0m \u001b[1;32mTrue\u001b[0m\u001b[1;33m\u001b[0m\u001b[1;33m\u001b[0m\u001b[0m\n\u001b[1;32m----> 6\u001b[1;33m     \u001b[1;32mif\u001b[0m \u001b[0mconverteData\u001b[0m\u001b[1;33m(\u001b[0m\u001b[0mentradas\u001b[0m\u001b[1;33m[\u001b[0m\u001b[0mi\u001b[0m\u001b[1;33m]\u001b[0m\u001b[1;33m)\u001b[0m \u001b[1;33m!=\u001b[0m \u001b[0mresultados_esperados\u001b[0m\u001b[1;33m[\u001b[0m\u001b[0mi\u001b[0m\u001b[1;33m]\u001b[0m\u001b[1;33m:\u001b[0m\u001b[1;33m\u001b[0m\u001b[1;33m\u001b[0m\u001b[0m\n\u001b[0m\u001b[0;32m      7\u001b[0m         \u001b[0mret\u001b[0m \u001b[1;33m=\u001b[0m \u001b[1;32mFalse\u001b[0m\u001b[1;33m\u001b[0m\u001b[1;33m\u001b[0m\u001b[0m\n\u001b[0;32m      8\u001b[0m         \u001b[1;32mbreak\u001b[0m\u001b[1;33m\u001b[0m\u001b[1;33m\u001b[0m\u001b[0m\n",
      "\u001b[1;31mNameError\u001b[0m: name 'converteData' is not defined"
     ]
    }
   ],
   "source": [
    "entradas = ['MAR-01-00', 'abr-30-99', 'FeV-14-81']\n",
    "resultados_esperados = [('01', '3', '1900'), ('30', '4', '1999'), ('14', '2', '1981')]\n",
    "\n",
    "for i in range(0, len(entradas)):\n",
    "    ret = True\n",
    "    if converteData(entradas[i]) != resultados_esperados[i]:\n",
    "        ret = False\n",
    "        break\n",
    "        \n",
    "if(ret==True):\n",
    "    print('Implementação da função está correta!')\n",
    "else:\n",
    "    print('Implementação da função NÃO está correta!')"
   ]
  },
  {
   "cell_type": "markdown",
   "metadata": {},
   "source": [
    "#### 5) Exercício sobre módulos e pacotes.\n",
    "\n",
    "Implemente o pacote, sub-pacotes e módulos mostrados na figura abaixo. \n",
    "\n",
    "<img src=\"../figures/pacotes_e_modulos.png\" width=\"500\" height=\"500\">\n",
    "\n",
    "1. O módulo `Processamento.py` do sub-pacote `Som` deve conter:\n",
    "    + uma função chamada `carregar()` que retorne a string `Carregando som`\n",
    "    + uma função chamada `tocar()` que retorne a string `Tocando som`\n",
    "    + uma função chamada `pausar()` que retorne a string `Pausando som`\n",
    "2. O módulo `Processamento.py` do sub-pacote `Imagem` deve conter:\n",
    "    + uma função chamada `abrir()` que retorne a string `Abrindo imagem`\n",
    "    + uma função chamada `trocar()` que retorne a string `Trocando imagem`\n",
    "    + uma função chamada `fechar()` que retorne a string `Fechando imagem`\n",
    "\n",
    "**DICA**: Não se esqueça de re-iniciar o Kernel quando fizer qualquer modificação em um dos arquivos `.py`. Vá até a opção `Kernel`e selecione `Restart`.\n",
    "\n",
    "**NÃO ALTERE OS TRECHOS DE CÓDIGO ABAIXO, EXCETO QUANDO DITO O CONTRÁRIO. SUA IMPLEMENTAÇÃO DEVE FUNCIONAR COM OS TRECHOS DE CÓDIGO ABAIXO SEM NENHUMA ALTERAÇÃO.**\n",
    "\n",
    "Após a implementação, execute o trecho de código da célula abaixo, **não o altere**. Se sua implementação do pacote, sub-pacotes e módulos estiver correta, então o resultado da execução da célula abaixo será bem sucedida."
   ]
  },
  {
   "cell_type": "code",
   "execution_count": 15,
   "metadata": {},
   "outputs": [
    {
     "ename": "ModuleNotFoundError",
     "evalue": "No module named 'Game'",
     "output_type": "error",
     "traceback": [
      "\u001b[1;31m---------------------------------------------------------------------------\u001b[0m",
      "\u001b[1;31mModuleNotFoundError\u001b[0m                       Traceback (most recent call last)",
      "\u001b[1;32m<ipython-input-15-44ee137af4d5>\u001b[0m in \u001b[0;36m<module>\u001b[1;34m\u001b[0m\n\u001b[1;32m----> 1\u001b[1;33m \u001b[1;32mimport\u001b[0m \u001b[0mGame\u001b[0m\u001b[1;33m.\u001b[0m\u001b[0mSom\u001b[0m\u001b[1;33m.\u001b[0m\u001b[0mProcessamento\u001b[0m\u001b[1;33m\u001b[0m\u001b[1;33m\u001b[0m\u001b[0m\n\u001b[0m\u001b[0;32m      2\u001b[0m \u001b[1;32mimport\u001b[0m \u001b[0mGame\u001b[0m\u001b[1;33m.\u001b[0m\u001b[0mImagem\u001b[0m\u001b[1;33m.\u001b[0m\u001b[0mProcessamento\u001b[0m\u001b[1;33m\u001b[0m\u001b[1;33m\u001b[0m\u001b[0m\n\u001b[0;32m      3\u001b[0m \u001b[1;33m\u001b[0m\u001b[0m\n\u001b[0;32m      4\u001b[0m \u001b[0mret\u001b[0m \u001b[1;33m=\u001b[0m \u001b[1;32mTrue\u001b[0m\u001b[1;33m\u001b[0m\u001b[1;33m\u001b[0m\u001b[0m\n\u001b[0;32m      5\u001b[0m \u001b[1;32mif\u001b[0m\u001b[1;33m(\u001b[0m\u001b[0mGame\u001b[0m\u001b[1;33m.\u001b[0m\u001b[0mSom\u001b[0m\u001b[1;33m.\u001b[0m\u001b[0mProcessamento\u001b[0m\u001b[1;33m.\u001b[0m\u001b[0mpausar\u001b[0m\u001b[1;33m(\u001b[0m\u001b[1;33m)\u001b[0m \u001b[1;33m!=\u001b[0m \u001b[1;34m'Pausando som'\u001b[0m\u001b[1;33m)\u001b[0m\u001b[1;33m:\u001b[0m\u001b[1;33m\u001b[0m\u001b[1;33m\u001b[0m\u001b[0m\n",
      "\u001b[1;31mModuleNotFoundError\u001b[0m: No module named 'Game'"
     ]
    }
   ],
   "source": [
    "import Game.Som.Processamento\n",
    "import Game.Imagem.Processamento\n",
    "\n",
    "ret = True\n",
    "if(Game.Som.Processamento.pausar() != 'Pausando som'):\n",
    "    ret = False\n",
    "\n",
    "if(Game.Imagem.Processamento.trocar() != 'Trocando imagem'):\n",
    "    ret = False\n",
    "    \n",
    "if(ret == True):\n",
    "    print('Teste 1 - Pacote Game foi importando corretamente')\n",
    "else:\n",
    "    print('Teste 1 - Pacote Game NÃO foi importando corretamente')"
   ]
  },
  {
   "cell_type": "markdown",
   "metadata": {},
   "source": [
    "A execução do trecho de código abaixo deve retornar um erro. Resolva os  problemas até que o código da célula execute corretamente."
   ]
  },
  {
   "cell_type": "code",
   "execution_count": 16,
   "metadata": {},
   "outputs": [
    {
     "ename": "ModuleNotFoundError",
     "evalue": "No module named 'Game'",
     "output_type": "error",
     "traceback": [
      "\u001b[1;31m---------------------------------------------------------------------------\u001b[0m",
      "\u001b[1;31mModuleNotFoundError\u001b[0m                       Traceback (most recent call last)",
      "\u001b[1;32m<ipython-input-16-a89184d8e2c3>\u001b[0m in \u001b[0;36m<module>\u001b[1;34m\u001b[0m\n\u001b[0;32m      7\u001b[0m         \u001b[0mprint\u001b[0m\u001b[1;33m(\u001b[0m\u001b[1;34m'O pacote %s foi deletado.'\u001b[0m \u001b[1;33m%\u001b[0m \u001b[1;33m(\u001b[0m\u001b[0mmod\u001b[0m\u001b[1;33m)\u001b[0m\u001b[1;33m)\u001b[0m\u001b[1;33m\u001b[0m\u001b[1;33m\u001b[0m\u001b[0m\n\u001b[0;32m      8\u001b[0m \u001b[1;33m\u001b[0m\u001b[0m\n\u001b[1;32m----> 9\u001b[1;33m \u001b[1;32mfrom\u001b[0m \u001b[0mGame\u001b[0m\u001b[1;33m.\u001b[0m\u001b[0mSom\u001b[0m \u001b[1;32mimport\u001b[0m \u001b[1;33m*\u001b[0m\u001b[1;33m\u001b[0m\u001b[1;33m\u001b[0m\u001b[0m\n\u001b[0m\u001b[0;32m     10\u001b[0m \u001b[1;33m\u001b[0m\u001b[0m\n\u001b[0;32m     11\u001b[0m \u001b[1;32mif\u001b[0m \u001b[0mProcessamento\u001b[0m\u001b[1;33m.\u001b[0m\u001b[0mcarregar\u001b[0m\u001b[1;33m(\u001b[0m\u001b[1;33m)\u001b[0m \u001b[1;33m==\u001b[0m \u001b[1;34m'Carregando som'\u001b[0m\u001b[1;33m:\u001b[0m\u001b[1;33m\u001b[0m\u001b[1;33m\u001b[0m\u001b[0m\n",
      "\u001b[1;31mModuleNotFoundError\u001b[0m: No module named 'Game'"
     ]
    }
   ],
   "source": [
    "import sys\n",
    "\n",
    "mods = ['Game', 'Game.Som', 'Game.Som.Processamento', 'Game.Imagem', 'Game.Imagem.Processamento']\n",
    "for mod in mods:\n",
    "    if mod in sys.modules:\n",
    "        del sys.modules[mod]\n",
    "        print('O pacote %s foi deletado.' % (mod))\n",
    "\n",
    "from Game.Som import *\n",
    "\n",
    "if Processamento.carregar() == 'Carregando som':\n",
    "    print('Teste 2 - Sub-Pacote Som foi importando corretamente')\n",
    "else:\n",
    "    print('Teste 2 - Sub-Pacote Som NÃO foi importando corretamente')\n",
    "\n",
    "from Game.Imagem import *\n",
    "\n",
    "if Processamento.abrir() == 'Abrindo imagem':\n",
    "    print('Teste 3 - Sub-Pacote Imagem foi importando corretamente')\n",
    "else:\n",
    "    print('Teste 3 - Sub-Pacote Imagem NÃO foi importando corretamente')"
   ]
  },
  {
   "cell_type": "markdown",
   "metadata": {},
   "source": [
    "Na célula abaixo, importe apenas a função `fechar()`, de forma que não ocorra nenhum erro na célula. \n",
    "\n",
    "**OBS**.: Não mude a chamada da função `fechar()`, resolva o erro apenas importando a função corretamente."
   ]
  },
  {
   "cell_type": "code",
   "execution_count": 17,
   "metadata": {},
   "outputs": [
    {
     "ename": "NameError",
     "evalue": "name 'fechar' is not defined",
     "output_type": "error",
     "traceback": [
      "\u001b[1;31m---------------------------------------------------------------------------\u001b[0m",
      "\u001b[1;31mNameError\u001b[0m                                 Traceback (most recent call last)",
      "\u001b[1;32m<ipython-input-17-458c67c81095>\u001b[0m in \u001b[0;36m<module>\u001b[1;34m\u001b[0m\n\u001b[0;32m      1\u001b[0m \u001b[1;31m# Adicione aqui a linha de códique que importa apenas a função desejada.\u001b[0m\u001b[1;33m\u001b[0m\u001b[1;33m\u001b[0m\u001b[1;33m\u001b[0m\u001b[0m\n\u001b[0;32m      2\u001b[0m \u001b[1;33m\u001b[0m\u001b[0m\n\u001b[1;32m----> 3\u001b[1;33m \u001b[1;32mif\u001b[0m \u001b[0mfechar\u001b[0m\u001b[1;33m(\u001b[0m\u001b[1;33m)\u001b[0m \u001b[1;33m==\u001b[0m \u001b[1;34m'Fechando imagem'\u001b[0m\u001b[1;33m:\u001b[0m\u001b[1;33m\u001b[0m\u001b[1;33m\u001b[0m\u001b[0m\n\u001b[0m\u001b[0;32m      4\u001b[0m     \u001b[0mprint\u001b[0m\u001b[1;33m(\u001b[0m\u001b[1;34m'Teste 4 - Função do módulo Game.Imagem.Processamento foi importanda corretamente'\u001b[0m\u001b[1;33m)\u001b[0m\u001b[1;33m\u001b[0m\u001b[1;33m\u001b[0m\u001b[0m\n\u001b[0;32m      5\u001b[0m \u001b[1;32melse\u001b[0m\u001b[1;33m:\u001b[0m\u001b[1;33m\u001b[0m\u001b[1;33m\u001b[0m\u001b[0m\n",
      "\u001b[1;31mNameError\u001b[0m: name 'fechar' is not defined"
     ]
    }
   ],
   "source": [
    "# Adicione aqui a linha de códique que importa apenas a função desejada.\n",
    "\n",
    "if fechar() == 'Fechando imagem':\n",
    "    print('Teste 4 - Função do módulo Game.Imagem.Processamento foi importanda corretamente')\n",
    "else:\n",
    "    print('Teste 4 - Função do módulo Game.Imagem.Processamento NÃO foi importanda corretamente')"
   ]
  },
  {
   "cell_type": "markdown",
   "metadata": {},
   "source": [
    "#### 6) Exercício sobre programação orientada a objetos.\n",
    "\n",
    "Implemente todas as classes do diagrama de classes abaixo e seus respectivos relacionamentos.\n",
    "\n",
    "<img src=\"../figures/zoológico.png\" width=\"600\" height=\"600\">\n",
    "\n",
    "Seguem algumas dicas para a implementação das classes:\n",
    "\n",
    "1. Prestem bastante atenção ao tipo de acesso (i.e., privado, protegido ou público) de cada **atributo** e **método** de cada classe.\n",
    "2. Não é necessário criar nenhum **atribuito** ou **método** novo para nenhuma das classes mostradas no diagrama acima. Usem apenas os **atribuitos** e **métodos** que aparecem no diagrama de classes.\n",
    "3. O método `getRegistro` da classe `Animal` deve retornar um valor inteiro correspondente ao registro do animal dentro do zoológico.\n",
    "4. O método `imprimirInfo` da classe `Animal` deve imprimir as seguintes informações de um objeto (**atributos**) `nome`, `pernas`, `idade`, `peso` e `registro`.\n",
    "5. Os métodos `andar()`, `comer()`, `movimentarPernas()` e `movimentarMaxilar()` da classe `Animal` não tem nenhum valor de retorno, elas devem apenas imprimir uma mensagem dizendo o que elas fazem.\n",
    "6. O atributo `animais` da classe `Zoológico` é um dicinário que irá armazenar os animais do zoológico com o número de registro do animal sendo a chave de cada um dos elementos do dicionário.\n",
    "7. O atributo `nome` da classe `Zoológico` é o nome do zoológico.\n",
    "8. O método `adicionarAnimal(registro, animal)` da classe `Zoológico` deve adicionar um novo animal ao dicionário `animais` apenas se a `capacidade` do zoológico não tiver sido atingida, nesse caso, o método deve retornar `True`. Caso contrário, se o zoológico estiver cheio, o método deve retornar `False`.\n",
    "9. O método `removerAnimal(registro)` da classe `Zoológico` deve remover um animal do dicionário `animais` e retornar `True` após a remoção bem sucedida do animal. Caso contrário, se o animal não existir no dicionário `animais`, então o método deve retornar `False`. (**DICA**: antes de remover o animal, verifique se o animal está presente no dicionário `animais` utilizando o operador de associação `in`).\n",
    "10. O método `listarAnimais()` da classe `Zoológico` deve imprimir as informações de todos os animais do zoológico. Use o método `imprimirInfo()` da classe `Animal` para imprimir as informações de cada animal. O método `listarAnimais()` deve retornar `True` caso a ocupação atual do zoológico seja maior do que 0. Caso contrário, se o zoológico estiver vazio e nehuma informação for impressa, o método deve retornar `False`.\n",
    "11. O método `getOcupaçãoAtual()` da classe `Zoológico` deve retornar o número de animais do zoológico."
   ]
  },
  {
   "cell_type": "code",
   "execution_count": 18,
   "metadata": {},
   "outputs": [],
   "source": [
    "# Implemente o código do exercício aqui."
   ]
  },
  {
   "cell_type": "markdown",
   "metadata": {},
   "source": [
    "Teste sua implementação com o código abaixo. Execute o código abaixo o qual deve resultar em todos os testes tendo o status OK.\n",
    "\n",
    "**NÃO ALTERE O CÓDIGO ABAIXO EM HIPÓTESE ALGUMA. SUA IMPLEMENTAÇÃO DEVE FUNCIONAR COM O TRECHO DE CÓDIGO ABAIXO SEM NENHUMA ALTERAÇÃO.**"
   ]
  },
  {
   "cell_type": "code",
   "execution_count": 19,
   "metadata": {},
   "outputs": [
    {
     "ename": "NameError",
     "evalue": "name 'Pássaro' is not defined",
     "output_type": "error",
     "traceback": [
      "\u001b[1;31m---------------------------------------------------------------------------\u001b[0m",
      "\u001b[1;31mNameError\u001b[0m                                 Traceback (most recent call last)",
      "\u001b[1;32m<ipython-input-19-6bbf0483ba49>\u001b[0m in \u001b[0;36m<module>\u001b[1;34m\u001b[0m\n\u001b[0;32m      1\u001b[0m \u001b[1;31m# Instanciando alguns animais.\u001b[0m\u001b[1;33m\u001b[0m\u001b[1;33m\u001b[0m\u001b[1;33m\u001b[0m\u001b[0m\n\u001b[1;32m----> 2\u001b[1;33m \u001b[0manimal1\u001b[0m \u001b[1;33m=\u001b[0m \u001b[0mPássaro\u001b[0m\u001b[1;33m(\u001b[0m\u001b[1;34m'Arara Azul'\u001b[0m\u001b[1;33m,\u001b[0m \u001b[1;36m700\u001b[0m\u001b[1;33m,\u001b[0m \u001b[1;36m2\u001b[0m\u001b[1;33m,\u001b[0m \u001b[1;36m95\u001b[0m\u001b[1;33m,\u001b[0m \u001b[1;36m2.0\u001b[0m\u001b[1;33m)\u001b[0m\u001b[1;33m\u001b[0m\u001b[1;33m\u001b[0m\u001b[0m\n\u001b[0m\u001b[0;32m      3\u001b[0m \u001b[0manimal2\u001b[0m \u001b[1;33m=\u001b[0m \u001b[0mMamífero\u001b[0m\u001b[1;33m(\u001b[0m\u001b[1;34m'Elefante'\u001b[0m\u001b[1;33m,\u001b[0m \u001b[1;36m666\u001b[0m\u001b[1;33m,\u001b[0m \u001b[1;36m4\u001b[0m\u001b[1;33m,\u001b[0m \u001b[1;36m54\u001b[0m\u001b[1;33m,\u001b[0m \u001b[1;36m500.31\u001b[0m\u001b[1;33m)\u001b[0m\u001b[1;33m\u001b[0m\u001b[1;33m\u001b[0m\u001b[0m\n\u001b[0;32m      4\u001b[0m \u001b[0manimal3\u001b[0m \u001b[1;33m=\u001b[0m \u001b[0mRéptil\u001b[0m\u001b[1;33m(\u001b[0m\u001b[1;34m'Jararaca'\u001b[0m\u001b[1;33m,\u001b[0m \u001b[1;36m123\u001b[0m\u001b[1;33m,\u001b[0m \u001b[1;36m0\u001b[0m\u001b[1;33m,\u001b[0m \u001b[1;36m1\u001b[0m\u001b[1;33m,\u001b[0m \u001b[1;36m0.1\u001b[0m\u001b[1;33m)\u001b[0m\u001b[1;33m\u001b[0m\u001b[1;33m\u001b[0m\u001b[0m\n\u001b[0;32m      5\u001b[0m \u001b[0manimal4\u001b[0m \u001b[1;33m=\u001b[0m \u001b[0mRéptil\u001b[0m\u001b[1;33m(\u001b[0m\u001b[1;34m'Crocodilo'\u001b[0m\u001b[1;33m,\u001b[0m \u001b[1;36m12\u001b[0m\u001b[1;33m,\u001b[0m \u001b[1;36m0\u001b[0m\u001b[1;33m,\u001b[0m \u001b[1;36m3\u001b[0m\u001b[1;33m,\u001b[0m \u001b[1;36m30.67\u001b[0m\u001b[1;33m)\u001b[0m\u001b[1;33m\u001b[0m\u001b[1;33m\u001b[0m\u001b[0m\n",
      "\u001b[1;31mNameError\u001b[0m: name 'Pássaro' is not defined"
     ]
    }
   ],
   "source": [
    "# Instanciando alguns animais.\n",
    "animal1 = Pássaro('Arara Azul', 700, 2, 95, 2.0)\n",
    "animal2 = Mamífero('Elefante', 666, 4, 54, 500.31)\n",
    "animal3 = Réptil('Jararaca', 123, 0, 1, 0.1)\n",
    "animal4 = Réptil('Crocodilo', 12, 0, 3, 30.67)\n",
    "\n",
    "# Contador de casos de sucesso.\n",
    "sucesso = 0 \n",
    "falha = 0\n",
    "\n",
    "# Verificando suas respecitvas idades.\n",
    "def verificarIdade(animais, valores_esperados):\n",
    "    ret = True\n",
    "    for i in range(0, len(animais)):\n",
    "        if animais[i].idade != valores_esperados[i]:\n",
    "            ret = False\n",
    "            break\n",
    "    return ret\n",
    "\n",
    "valores_esperados = [95, 54, 1, 3]\n",
    "animais = [animal1, animal2, animal3]\n",
    "if(verificarIdade(animais, valores_esperados) == True):\n",
    "    print('Teste 1 - Idade está OK.')\n",
    "    sucesso += 1\n",
    "else:\n",
    "    print('Teste 1 - Idade NÃO está OK.')\n",
    "    falha += 1\n",
    "\n",
    "# Instanciando um estacionamento.\n",
    "zoo = Zoológico('Central', 3)\n",
    "\n",
    "if zoo.getOcupaçãoAtual() == 0:\n",
    "    print('Teste 2 - Ocupação inicial está OK.')\n",
    "    sucesso += 1\n",
    "else:\n",
    "    print('Teste 2 - Ocupação inicial NÃO está OK.')\n",
    "    falha += 1\n",
    "    \n",
    "# Testando o acesso a um atributo privado.\n",
    "try:\n",
    "    animal1.__peso\n",
    "    ret = False\n",
    "except AttributeError:\n",
    "    ret = True\n",
    "    \n",
    "if ret == True:\n",
    "    print('Teste 3 - Acesso a atributo privado está OK.')\n",
    "    sucesso += 1\n",
    "else:\n",
    "    print('Teste 3 - Acesso a atributo privado NÃO está OK.')\n",
    "    falha += 1\n",
    "\n",
    "try:\n",
    "    marca = animal2.registro\n",
    "    ret = False\n",
    "except AttributeError:\n",
    "    ret = True\n",
    "\n",
    "if ret == True:\n",
    "    print('Teste 4 - Acesso a atributo inexistente está OK.')\n",
    "    sucesso += 1\n",
    "else:\n",
    "    print('Teste 4 - Acesso a atributo inexistente NÃO está OK.')\n",
    "    falha += 1\n",
    "    \n",
    "try:\n",
    "    registro = animal3._registro\n",
    "    ret = False\n",
    "except AttributeError:\n",
    "    ret = True\n",
    "\n",
    "if ret == True:\n",
    "    print('Teste 5 - Acesso a atributo inexistente está OK.')\n",
    "    sucesso += 1\n",
    "else:\n",
    "    print('Teste 5 - Acesso a atributo inexistente NÃO está OK.')\n",
    "    falha += 1\n",
    "    \n",
    "# Listando os animais do zoológico.\n",
    "if zoo.listarAnimais() == False:\n",
    "    print('Teste 6 - Listagem de animais está OK.')\n",
    "    sucesso += 1\n",
    "else:\n",
    "    print('Teste 6 - Listagem de animais NÃO está OK.')\n",
    "    falha += 1\n",
    "    \n",
    "# Adicionando animal.\n",
    "if zoo.adicionarAnimal(700, animal1) == True:\n",
    "    print('Teste 7 - Adiçao de animal está OK.')\n",
    "    sucesso += 1\n",
    "else:\n",
    "    print('Teste 7 - Adiçao de animal NÃO está OK.')\n",
    "    falha += 1\n",
    "\n",
    "# Verificando a ocupação atual.\n",
    "if zoo.getOcupaçãoAtual() == 1:\n",
    "    print('Teste 8 - Ocupação atual está OK.')\n",
    "    sucesso += 1\n",
    "else:\n",
    "    print('Teste 8 - Ocupação atual NÃO está OK.')\n",
    "    falha += 1\n",
    "\n",
    "# Listando os animais do zoológico.\n",
    "if zoo.listarAnimais() == True:\n",
    "    print('Teste 9 - Listagem de animais está OK.')\n",
    "    sucesso += 1\n",
    "else:\n",
    "    print('Teste 9 - Listagem de animais NÃO está OK.')\n",
    "    falha += 1\n",
    "    \n",
    "if zoo.adicionarAnimal(666, animal2) == True:\n",
    "    print('Teste 10 - Adiçao de animal está OK.')\n",
    "    sucesso += 1\n",
    "else:\n",
    "    print('Teste 10 - Adiçao de animal NÃO está OK.')\n",
    "    falha += 1\n",
    "    \n",
    "# Verificando a ocupação atual.\n",
    "if zoo.getOcupaçãoAtual() == 2:\n",
    "    print('Teste 11 - Ocupação atual está OK.')\n",
    "    sucesso += 1\n",
    "else:\n",
    "    print('Teste 11 - Ocupação atual NÃO está OK.')\n",
    "    falha += 1\n",
    "\n",
    "# Adicionando animal.\n",
    "if zoo.adicionarAnimal(123, animal3) == True:\n",
    "    print('Teste 12 - Adiçao de animal está OK.')\n",
    "    sucesso += 1\n",
    "else:\n",
    "    print('Teste 12 - Adiçao de animal NÃO está OK.')\n",
    "    falha += 1\n",
    "\n",
    "# Verificando a ocupação atual.\n",
    "if zoo.getOcupaçãoAtual() == 3:\n",
    "    print('Teste 13 - Ocupação atual está OK.')\n",
    "    sucesso += 1\n",
    "else:\n",
    "    print('Teste 13 - Ocupação atual NÃO está OK.')\n",
    "    falha += 1\n",
    "\n",
    "# Adicionando animal.\n",
    "if zoo.adicionarAnimal(12, animal4) == False:\n",
    "    print('Teste 14 - Adiçao de animal está OK.')\n",
    "    sucesso += 1\n",
    "else:\n",
    "    print('Teste 14 - Adiçao de animal NÃO está OK.')\n",
    "    falha += 1\n",
    "    \n",
    "# Listando os animais.\n",
    "if zoo.listarAnimais() == True:\n",
    "    print('Teste 15 - Listagem de animais está OK.')\n",
    "    sucesso += 1\n",
    "else:\n",
    "    print('Teste 15 - Listagem de animais NÃO está OK.')\n",
    "    falha += 1\n",
    "\n",
    "# Removendo um animal.\n",
    "if zoo.removerAnimal(200) == False:\n",
    "    print('Teste 16 - Remoção de animal está OK.')\n",
    "    sucesso += 1\n",
    "else:\n",
    "    print('Teste 16 - Remoção de animal NÃO está OK.')\n",
    "    falha += 1\n",
    "    \n",
    "# Removendo um animal.\n",
    "if zoo.removerAnimal(789) == False:\n",
    "    print('Teste 17 - Remoção de animal está OK.')\n",
    "    sucesso += 1\n",
    "else:\n",
    "    print('Teste 17 - Remoção de animal NÃO está OK.')\n",
    "    falha += 1\n",
    "    \n",
    "# Verificando a ocupação atual.\n",
    "if zoo.getOcupaçãoAtual() == 3:\n",
    "    print('Teste 18 - Ocupação atual está OK.')\n",
    "    sucesso += 1\n",
    "else:\n",
    "    print('Teste 18 - Ocupação atual NÃO está OK.')\n",
    "    falha += 1\n",
    "    \n",
    "# Removendo veiculo.\n",
    "if zoo.removerAnimal(700) == True:\n",
    "    print('Teste 19 - Remoção de animal está OK.')\n",
    "    sucesso += 1\n",
    "else:\n",
    "    print('Teste 19 - Remoção de animal NÃO está OK.')\n",
    "    falha += 1\n",
    "    \n",
    "# Verificando a ocupação atual.\n",
    "if zoo.getOcupaçãoAtual() == 2:\n",
    "    print('Teste 20 - Ocupação atual está OK.')\n",
    "    sucesso += 1\n",
    "else:\n",
    "    print('Teste 20 - Ocupação atual NÃO está OK.')\n",
    "    falha += 1\n",
    "    \n",
    "# Removendo animal.\n",
    "if zoo.removerAnimal(666) == True:\n",
    "    print('Teste 21 - Remoção de animal está OK.')\n",
    "    sucesso += 1\n",
    "else:\n",
    "    print('Teste 21 - Remoção de animal NÃO está OK.')\n",
    "    falha += 1\n",
    "    \n",
    "# Verificando a ocupação atual.\n",
    "if zoo.getOcupaçãoAtual() == 1:\n",
    "    print('Teste 22 - Ocupação atual está OK.')\n",
    "    sucesso += 1\n",
    "else:\n",
    "    print('Teste 22 - Ocupação atual NÃO está OK.')\n",
    "    falha += 1\n",
    "\n",
    "# Removendo animal.\n",
    "if zoo.removerAnimal(123) == True:\n",
    "    print('Teste 23 - Remoção de animal está OK.')\n",
    "    sucesso += 1\n",
    "else:\n",
    "    print('Teste 23 - Remoção de animal NÃO está OK.')\n",
    "    falha += 1\n",
    "    \n",
    "# Verificando a ocupação atual.\n",
    "if zoo.getOcupaçãoAtual() == 0:\n",
    "    print('Teste 24 - Ocupação atual está OK.')\n",
    "    sucesso += 1\n",
    "else:\n",
    "    print('Teste 24 - Ocupação atual NÃO está OK.')\n",
    "    falha += 1\n",
    "\n",
    "# Removendo animal.\n",
    "if zoo.removerAnimal(12) == False:\n",
    "    print('Teste 25 - Remoção de animal está OK.')\n",
    "    sucesso += 1\n",
    "else:\n",
    "    print('Teste 25 - Remoção de animal NÃO está OK.')\n",
    "    falha += 1\n",
    "    \n",
    "# Verificando a ocupação atual.\n",
    "if zoo.getOcupaçãoAtual() == 0:\n",
    "    print('Teste 26 - Ocupação atual está OK.')\n",
    "    sucesso += 1\n",
    "else:\n",
    "    print('Teste 26 - Ocupação atual NÃO está OK.')\n",
    "    falha += 1\n",
    "    \n",
    "# Listando os animais.\n",
    "if zoo.listarAnimais() == False:\n",
    "    print('Teste 27 - Listagem de animais está OK.')\n",
    "    sucesso += 1\n",
    "else:\n",
    "    print('Teste 27 - Listagem de animais NÃO está OK.')\n",
    "    falha += 1\n",
    "    \n",
    "# Verificando os registros dos animais.\n",
    "valores_esperados = [700, 666, 123, 12]\n",
    "animais = [animal1, animal2, animal3, animal4]\n",
    "\n",
    "ret = True\n",
    "for i in range(0, len(animais)):\n",
    "    if animais[i].getRegistro() != valores_esperados[i]:\n",
    "        ret = False\n",
    "        break\n",
    "\n",
    "if ret == True:\n",
    "    print('Teste 28 - Os registros dos animais estão OK.')\n",
    "    sucesso += 1\n",
    "else:\n",
    "    print('Teste 28 - Os registros dos animais NÃO estão OK.')\n",
    "    falha += 1\n",
    "\n",
    "print('\\n\\n******* Resultado final dos testes *******')\n",
    "if sucesso == 28 and falha == 0:\n",
    "    print('Sucessos: %d - Falhas: %d' % (sucesso, falha))\n",
    "    print('Todos os testes foram bem sucedidos, sua implementação está OK!')\n",
    "else:\n",
    "    print('Sucessos: %d - Falhas: %d' % (sucesso, falha))\n",
    "    print('Alguns testes falharam, sua implementação NÃO está OK... verifique seu código.')\n",
    "print('******************************************')"
   ]
  }
 ],
 "metadata": {
  "kernelspec": {
   "display_name": "Python 3",
   "language": "python",
   "name": "python3"
  },
  "language_info": {
   "codemirror_mode": {
    "name": "ipython",
    "version": 3
   },
   "file_extension": ".py",
   "mimetype": "text/x-python",
   "name": "python",
   "nbconvert_exporter": "python",
   "pygments_lexer": "ipython3",
   "version": "3.7.7"
  }
 },
 "nbformat": 4,
 "nbformat_minor": 4
}
