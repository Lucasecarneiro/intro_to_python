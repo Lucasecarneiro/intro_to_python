{
 "cells": [
  {
   "cell_type": "markdown",
   "metadata": {},
   "source": [
    "# Exercícios de revisão para a prova #1"
   ]
  },
  {
   "cell_type": "markdown",
   "metadata": {},
   "source": [
    "#### 1)  Dizemos que um número inteiro positivo é triangular se ele é o produto de três numeros inteiros consecutivos. Por exemplo, 120 é triangular, pois 4 * 5 * 6 = 120. Crie uma função chamada de `isTringularNumber` que dado um número inteiro positivo `n`, verifique se `n` é triangular ou não. Sua função deve imprimir `120 é é o produto de 4*5*6` e caso não `n` não seja triangular, como por exemplo  o numero `73`, então sua função deve imprimir `73 nao é triangular`. Teste a função com os seguntes exemplos:\n",
    "\n",
    "```python\n",
    "isTringularNumber(73)\n",
    "isTringularNumber(120)\n",
    "isTringularNumber(1024)\n",
    "isTringularNumber(720)\n",
    "```\n",
    "\n",
    "O resultado esperado para a execução dos comandos acima é\n",
    "\n",
    "```python\n",
    "73 nao é triangular\n",
    "120 é o produto 4*5*6\n",
    "1024 nao é triangular\n",
    "720 é o produto 8*9*10\n",
    "```"
   ]
  },
  {
   "cell_type": "code",
   "execution_count": 1,
   "metadata": {},
   "outputs": [],
   "source": [
    "# Implemente aqui o código da função."
   ]
  },
  {
   "cell_type": "markdown",
   "metadata": {},
   "source": [
    "Após executar o código abaixo, você deve ter o resultado esperado mostrado acima."
   ]
  },
  {
   "cell_type": "code",
   "execution_count": null,
   "metadata": {},
   "outputs": [],
   "source": [
    "isTringularNumber(73)\n",
    "isTringularNumber(120)\n",
    "isTringularNumber(1024)\n",
    "isTringularNumber(720)"
   ]
  },
  {
   "cell_type": "markdown",
   "metadata": {},
   "source": [
    "#### 2)  Implemente uma função chamada `primo` que recebe um número inteiro `n` maior do que 0 e devolve `True` se `n` é um número primo e devolve `False` em caso contrário. \n",
    "\n",
    "**OBS.**: É importante lembrar que um número inteiro é primo se ele é maior do que 1 e seus únicos divisores são ele mesmo e 1. Assim, 1 não é primo.\n",
    "\n",
    "Teste a função com os seguntes exemplos:\n",
    "\n",
    "```python\n",
    "print('1 é primo?', primo(1))\n",
    "print('2 é primo?', primo(2))\n",
    "print('3 é primo?', primo(3))\n",
    "print('4 é primo?', primo(4))\n",
    "```\n",
    "\n",
    "O resultado esperado para a execução dos comandos acima é\n",
    "\n",
    "```python\n",
    "1 é primo? False\n",
    "2 é primo? True\n",
    "3 é primo? True\n",
    "4 é primo? False\n",
    "```"
   ]
  },
  {
   "cell_type": "code",
   "execution_count": null,
   "metadata": {},
   "outputs": [],
   "source": [
    "# Implemente aqui o código da função."
   ]
  },
  {
   "cell_type": "markdown",
   "metadata": {},
   "source": [
    "Após executar o código abaixo, você deve ter o resultado esperado mostrado acima."
   ]
  },
  {
   "cell_type": "code",
   "execution_count": null,
   "metadata": {},
   "outputs": [],
   "source": [
    "print('1 é primo?', primo(1))\n",
    "print('2 é primo?', primo(2))\n",
    "print('3 é primo?', primo(3))\n",
    "print('4 é primo?', primo(4))"
   ]
  },
  {
   "cell_type": "markdown",
   "metadata": {},
   "source": [
    "#### 3)  Dado um número natural na base binária, cire uma função chamada `convBinToDec` para transformá-lo para a base decimal.\n",
    "\n",
    "**Exemplo de como realizar a conversão**:\n",
    "\n",
    "Dado o valor bináio `10010`, a saída será `18`, pois 1 × 2^4 + 0 × 2^3 + 0 × 2^2 + 1 × 2^1 + 0 × 2^0 = 18."
   ]
  },
  {
   "cell_type": "code",
   "execution_count": 22,
   "metadata": {},
   "outputs": [],
   "source": [
    "# Implemente aqui o código da função."
   ]
  },
  {
   "cell_type": "markdown",
   "metadata": {},
   "source": [
    "Teste sua função com os exemplos abaixo."
   ]
  },
  {
   "cell_type": "code",
   "execution_count": 23,
   "metadata": {},
   "outputs": [
    {
     "name": "stdout",
     "output_type": "stream",
     "text": [
      "O número decimal correspondente ao número binário 10010 é 18\n",
      "O número decimal correspondente ao número binário 111010 é 58\n",
      "O número decimal correspondente ao número binário 111 é 7\n"
     ]
    }
   ],
   "source": [
    "binVal = 10010\n",
    "print(\"O número decimal correspondente ao número binário\", binVal, \"é\", convBinToDec(binVal))\n",
    "\n",
    "binVal = 111010\n",
    "print(\"O número decimal correspondente ao número binário\", binVal, \"é\", convBinToDec(binVal))\n",
    "\n",
    "binVal = 111\n",
    "print(\"O número decimal correspondente ao número binário\", binVal, \"é\", convBinToDec(binVal))"
   ]
  },
  {
   "cell_type": "markdown",
   "metadata": {},
   "source": [
    "#### 4) Escreva uma função que receba uma lista contendo informações sobre preços de produtos em diferentes datas e que mostre como resultado o menor preço que cada produto já teve. Utilize os valores abaixo como entrada da função. Veja que a lista com os valores já está disponibilizada, apenas a copie e use como entradada de sua função.\n",
    "\n",
    "|    Data    |  Produto  | Preço |\n",
    "|:----------:|:---------:|:-----:|\n",
    "| 29/06/2017 |   cebola  |  2.19 |\n",
    "| 29/06/2017 |   batata  |  1.98 |\n",
    "| 29/06/2017 |   alface  |  1.88 |\n",
    "| 22/06/2017 | beterraba |  2.48 |\n",
    "| 22/06/2017 |   alface  |  2.00 |\n",
    "| 22/06/2017 |   cebola  |  2.03 |\n",
    "| 15/06/2017 | beterraba |  2.44 |\n",
    "| 15/06/2017 |   alface  |  1.75 |\n",
    "| 15/06/2017 |   batata  |  2.11 |\n",
    "\n",
    "```python\n",
    "lista = ['29/06/2020', 'cebola', 2.19, '29/06/2020', 'batata', 1.98, '29/06/2020', 'alface', 1.88, '22/06/2020', 'beterraba', 2.48, '22/06/2020', 'alface', 2.00, '22/06/2020', 'cebola', 2.03, '15/06/2020', 'beterraba', 2.44, '15/06/2020', 'alface', 1.75, '15/06/2020', 'batata', 2.11]\n",
    "```"
   ]
  },
  {
   "cell_type": "code",
   "execution_count": 26,
   "metadata": {},
   "outputs": [],
   "source": [
    "# Implemente aqui o código da função."
   ]
  },
  {
   "cell_type": "markdown",
   "metadata": {},
   "source": [
    "Teste sua função com o código abaixo, o qual deve resultar na seguinte saída esperada:\n",
    "\n",
    "```python\n",
    "Produto: cebola - preço: 2.03\n",
    "Produto: batata - preço: 1.98\n",
    "Produto: alface - preço: 1.75\n",
    "Produto: beterraba - preço: 2.44\n",
    "```"
   ]
  },
  {
   "cell_type": "code",
   "execution_count": 70,
   "metadata": {},
   "outputs": [
    {
     "name": "stdout",
     "output_type": "stream",
     "text": [
      "Produto: cebola - preço: 2.03\n",
      "Produto: batata - preço: 1.98\n",
      "Produto: alface - preço: 1.75\n",
      "Produto: beterraba - preço: 2.44\n"
     ]
    }
   ],
   "source": [
    "lista = ['29/06/2020', 'cebola', 2.19, '29/06/2020', 'batata', 1.98, '29/06/2020', 'alface', 1.88, '22/06/2020', 'beterraba', 2.48, '22/06/2020', 'alface', 2.00, '22/06/2020', 'cebola', 2.03, '15/06/2020', 'beterraba', 2.44, '15/06/2020', 'alface', 1.75, '15/06/2020', 'batata', 2.11]\n",
    "\n",
    "imprimeMenorPreco(lista)"
   ]
  },
  {
   "cell_type": "markdown",
   "metadata": {},
   "source": [
    "#### 5) Neste exercício vamos revisar listas, dicionários e classes. O objetivo do exercício é criar uma classe `DiarioDeClase` para os alunos de um dado professor. Siga os passos abaixo para criar a classe e testá-la.\n",
    "\n",
    "1. Use os três dicionários: `jose`, `alice` e `antonio`, dados abaixo.\n",
    "2. Cada dicionário, inicialmente, contém as chaves `nome`, `laboratorio`, `quizzes` e `provas`. \n",
    "```python\n",
    "jose = {\n",
    "  \"nome\": \"José\",\n",
    "  \"laboratorios\": [90.0,97.0,75.0,92.0],\n",
    "  \"quizzes\": [88.0,40.0,94.0],\n",
    "  \"provas\": [75.0,90.0]\n",
    "}\n",
    "alice = {\n",
    "  \"nome\": \"Alice\",\n",
    "  \"laboratorios\": [100.0, 92.0, 98.0, 100.0],\n",
    "  \"quizzes\": [82.0, 83.0, 91.0],\n",
    "  \"provas\": [89.0, 97.0]\n",
    "}\n",
    "antonio = {\n",
    "  \"nome\": \"Antônio\",\n",
    "  \"laboratorios\": [0.0, 87.0, 75.0, 22.0],\n",
    "  \"quizzes\": [0.0, 75.0, 78.0],\n",
    "  \"provas\": [100.0, 100.0]\n",
    "}\n",
    "```\n",
    "3. Crie uma lista chamada `alunos` que contém jose, alice e antonio.\n",
    "4. Crie a classe `DiarioDeClase`:\n",
    "    1. Crie um método **privado** `media` que receba uma lista de números como argumento de entrada e retorne a média destes valores.\n",
    "    2. Crie um método **privado** chamado `calcularMediaGeralAluno` que recebe o dicionário de um aluno (e.g., jose, alice ou antonio) como argumento de entrada, calcula a média geral dele em todas as avaliações (i.e., laboratorios, quizzes e provas), adiciona a chave `mediaGeral` ao dicionário do aluno com o valor da média geral calculada e retorna sua média geral.    \n",
    "    3. Crie um método **privado** chamado `obterConceito` que recebe o argumento de entrada `mediaGeral`. Dentro do método, teste a média geral e retorne um dos conceitos:\n",
    "        + Se a média geral for igual 90 ou maior: retorne \"A\"\n",
    "        + Caso contrário, se a média geral for igual a 80 ou maior: retorne \"B\"\n",
    "        + Caso contrário, se a média geral for igual a 70 ou maior: retorne \"C\"\n",
    "        + Caso contrário, se a média geral for igual a 60 ou maior: retorne \"D\"\n",
    "        + Caso contrário: retorne \"F\"\n",
    "    4. Crie um método **privado** chamado `obterConceitoAluno`, que recebe o dicionário de um aluno como argumento de entrada. Dentro desse método, invoque o método `obterConceito` passando como argumento de entrada o valor associado com a chave `mediaGeral` do dicionário do aluno, adicione a chave `conceito` ao dicionário do aluno com o conceito obtido por ele e retorna seu conceito.\n",
    "    5. Crie um método chamado **público** `calcularMediaGeralClasse` que recebe a lista de `alunos` como argumento de entrada. Dentro desse método,\n",
    "        1. Crie uma lista vazia para adicionar a média geral de cada aluno,\n",
    "        2. Para cada aluno na lista, faça:\n",
    "            1. Calcule a média geral do aluno, \n",
    "            2. Adicione a média geral do aluno à lista de resultados, \n",
    "            3. Obtenha o conceito do aluno.\n",
    "        3. Calcule a média geral da classe (i.e., da turma) utilizando a lista criada no início do método.\n",
    "        4. Obtenha o conceito da classe utilizando a média geral calculada anteriormente.\n",
    "        5. Retorne a média geral e o conceito da classe.\n",
    "    6. Crie um método **público** chamado `imprimirDadosAluno` que receba a lista de `alunos` como argumento de entrada e imprima todos os dados de cada aluno (i.e., nome, laboratorio, quizzes, provas, media geral, conceito)."
   ]
  },
  {
   "cell_type": "code",
   "execution_count": 71,
   "metadata": {},
   "outputs": [],
   "source": [
    "# Implemente aqui o código da classe."
   ]
  },
  {
   "cell_type": "markdown",
   "metadata": {},
   "source": [
    "Teste sua classe com o código abaixo, o qual deve resultar na seguinte saída esperada:\n",
    "\n",
    "```python\n",
    "media geral da classe: 79.76 - conceito da classe: C\n",
    "\n",
    "Informações de cada aluno\n",
    "-----------------------------------\n",
    "nome: José\n",
    "laboratorio: [90.0, 97.0, 75.0, 92.0]\n",
    "quizzes: [88.0, 40.0, 94.0]\n",
    "provas: [75.0, 90.0]\n",
    "media geral: 81.66666666666667\n",
    "conceito: B\n",
    "-----------------------------------\n",
    "\n",
    "-----------------------------------\n",
    "nome: Alice\n",
    "laboratorio: [100.0, 92.0, 98.0, 100.0]\n",
    "quizzes: [82.0, 83.0, 91.0]\n",
    "provas: [89.0, 97.0]\n",
    "media geral: 91.94444444444444\n",
    "conceito: A\n",
    "-----------------------------------\n",
    "\n",
    "-----------------------------------\n",
    "nome: Antônio\n",
    "laboratorio: [0.0, 87.0, 75.0, 22.0]\n",
    "quizzes: [0.0, 75.0, 78.0]\n",
    "provas: [100.0, 100.0]\n",
    "media geral: 65.66666666666667\n",
    "conceito: D\n",
    "-----------------------------------\n",
    "```"
   ]
  },
  {
   "cell_type": "code",
   "execution_count": 72,
   "metadata": {},
   "outputs": [
    {
     "name": "stdout",
     "output_type": "stream",
     "text": [
      "media geral da classe: 79.76 - conceito da classe: C\n",
      "\n",
      "\n",
      "Informações de cada aluno\n",
      "-----------------------------------\n",
      "nome: José\n",
      "laboratorio: [90.0, 97.0, 75.0, 92.0]\n",
      "quizzes: [88.0, 40.0, 94.0]\n",
      "provas: [75.0, 90.0]\n",
      "media geral: 81.66666666666667\n",
      "conceito: B\n",
      "-----------------------------------\n",
      "\n",
      "-----------------------------------\n",
      "nome: Alice\n",
      "laboratorio: [100.0, 92.0, 98.0, 100.0]\n",
      "quizzes: [82.0, 83.0, 91.0]\n",
      "provas: [89.0, 97.0]\n",
      "media geral: 91.94444444444444\n",
      "conceito: A\n",
      "-----------------------------------\n",
      "\n",
      "-----------------------------------\n",
      "nome: Antônio\n",
      "laboratorio: [0.0, 87.0, 75.0, 22.0]\n",
      "quizzes: [0.0, 75.0, 78.0]\n",
      "provas: [100.0, 100.0]\n",
      "media geral: 65.66666666666667\n",
      "conceito: D\n",
      "-----------------------------------\n",
      "\n"
     ]
    }
   ],
   "source": [
    "jose = {\n",
    "  \"nome\": \"José\",\n",
    "  \"laboratorio\": [90.0,97.0,75.0,92.0],\n",
    "  \"quizzes\": [88.0,40.0,94.0],\n",
    "  \"provas\": [75.0,90.0]\n",
    "}\n",
    "\n",
    "alice = {\n",
    "  \"nome\": \"Alice\",\n",
    "  \"laboratorio\": [100.0, 92.0, 98.0, 100.0],\n",
    "  \"quizzes\": [82.0, 83.0, 91.0],\n",
    "  \"provas\": [89.0, 97.0]\n",
    "}\n",
    "\n",
    "antonio = {\n",
    "  \"nome\": \"Antônio\",\n",
    "  \"laboratorio\": [0.0, 87.0, 75.0, 22.0],\n",
    "  \"quizzes\": [0.0, 75.0, 78.0],\n",
    "  \"provas\": [100.0, 100.0]\n",
    "}\n",
    "\n",
    "alunos = [jose, alice, antonio]\n",
    "\n",
    "diario = DiarioDeClase()\n",
    "\n",
    "print('media geral da classe: %1.2f - conceito da classe: %s\\n\\n' % diario.calcularMediaGeralClasse(alunos))\n",
    "\n",
    "print('Informações de cada aluno')\n",
    "diario.imprimirDadosAluno(alunos)"
   ]
  },
  {
   "cell_type": "markdown",
   "metadata": {},
   "source": [
    "#### 6) Implemente uma função chamada `frequenciaDeCaracteres(mylist)` que recebe uma lista de strings chamada `mylist` e retorna um dicionário onde as chaves são os caracteres de `mylist` e os valores são o número de vezes que o caracter aparece em `mylist`."
   ]
  },
  {
   "cell_type": "code",
   "execution_count": 2,
   "metadata": {},
   "outputs": [],
   "source": [
    "# Implemente aqui o código da função."
   ]
  },
  {
   "cell_type": "markdown",
   "metadata": {},
   "source": [
    "Teste sua função com o código abaixo."
   ]
  },
  {
   "cell_type": "code",
   "execution_count": 1,
   "metadata": {},
   "outputs": [
    {
     "ename": "NameError",
     "evalue": "name 'frequenciaDeCaracteres' is not defined",
     "output_type": "error",
     "traceback": [
      "\u001b[1;31m---------------------------------------------------------------------------\u001b[0m",
      "\u001b[1;31mNameError\u001b[0m                                 Traceback (most recent call last)",
      "\u001b[1;32m<ipython-input-1-3e93ee0a1882>\u001b[0m in \u001b[0;36m<module>\u001b[1;34m\u001b[0m\n\u001b[0;32m      2\u001b[0m \u001b[0mword_freq\u001b[0m \u001b[1;33m=\u001b[0m \u001b[1;33m{\u001b[0m\u001b[1;34m'a'\u001b[0m \u001b[1;33m:\u001b[0m \u001b[1;36m5\u001b[0m\u001b[1;33m,\u001b[0m \u001b[1;34m'b'\u001b[0m \u001b[1;33m:\u001b[0m \u001b[1;36m4\u001b[0m\u001b[1;33m,\u001b[0m \u001b[1;34m'c'\u001b[0m \u001b[1;33m:\u001b[0m \u001b[1;36m3\u001b[0m\u001b[1;33m,\u001b[0m \u001b[1;34m'd'\u001b[0m \u001b[1;33m:\u001b[0m \u001b[1;36m2\u001b[0m\u001b[1;33m,\u001b[0m \u001b[1;34m'e'\u001b[0m \u001b[1;33m:\u001b[0m \u001b[1;36m1\u001b[0m\u001b[1;33m,\u001b[0m \u001b[1;34m'f'\u001b[0m \u001b[1;33m:\u001b[0m \u001b[1;36m2\u001b[0m\u001b[1;33m,\u001b[0m \u001b[1;34m'g'\u001b[0m \u001b[1;33m:\u001b[0m \u001b[1;36m10\u001b[0m\u001b[1;33m,\u001b[0m \u001b[1;34m'h'\u001b[0m \u001b[1;33m:\u001b[0m \u001b[1;36m3\u001b[0m\u001b[1;33m}\u001b[0m\u001b[1;33m\u001b[0m\u001b[1;33m\u001b[0m\u001b[0m\n\u001b[0;32m      3\u001b[0m \u001b[1;33m\u001b[0m\u001b[0m\n\u001b[1;32m----> 4\u001b[1;33m \u001b[1;32mif\u001b[0m \u001b[0mfrequenciaDeCaracteres\u001b[0m\u001b[1;33m(\u001b[0m\u001b[0mword_list\u001b[0m\u001b[1;33m)\u001b[0m \u001b[1;33m==\u001b[0m \u001b[0mword_freq\u001b[0m\u001b[1;33m:\u001b[0m\u001b[1;33m\u001b[0m\u001b[1;33m\u001b[0m\u001b[0m\n\u001b[0m\u001b[0;32m      5\u001b[0m     \u001b[0mprint\u001b[0m\u001b[1;33m(\u001b[0m\u001b[1;34m\"Implementação correta!\"\u001b[0m\u001b[1;33m)\u001b[0m\u001b[1;33m\u001b[0m\u001b[1;33m\u001b[0m\u001b[0m\n\u001b[0;32m      6\u001b[0m \u001b[1;32melse\u001b[0m\u001b[1;33m:\u001b[0m\u001b[1;33m\u001b[0m\u001b[1;33m\u001b[0m\u001b[0m\n",
      "\u001b[1;31mNameError\u001b[0m: name 'frequenciaDeCaracteres' is not defined"
     ]
    }
   ],
   "source": [
    "char_list = list(\"aaaaabbbbcccddeffgggggggggghhh\")\n",
    "char_freq = {'a' : 5, 'b' : 4, 'c' : 3, 'd' : 2, 'e' : 1, 'f' : 2, 'g' : 10, 'h' : 3}\n",
    "\n",
    "if frequenciaDeCaracteres(char_list) == char_freq:\n",
    "    print(\"Implementação correta!\")\n",
    "else:\n",
    "    print(\"Erro....\")"
   ]
  },
  {
   "cell_type": "markdown",
   "metadata": {},
   "source": [
    "#### 7) Implemente todas as classes do diagrama de classes abaixo.\n",
    "\n",
    "<img src=\"../figures/universidade.png\" width=\"500\" height=\"500\">\n",
    "\n",
    "Seguem algumas dicas para a implementação:\n",
    "\n",
    "1. Para criar um objeto contendo a data de nascimento de um membro, podemos usar a classe `datetime` do módulo `datetime`. A classe `datetime` requer três parâmetros para criar uma data: `ano`, `mês` e `dia`. Para mais informações, acesse a documentação da classe `datetime` em: https://docs.python.org/3/library/datetime.html\n",
    "2. Uma forma simples e não totalmente correta de se calcular a idade de um membro é mostrada no trecho de código abaixo:\n",
    "```python\n",
    "import datetime\n",
    "dataDeNascimento = datetime.datetime(1999, 1, 1)\n",
    "diff = datetime.datetime.now() - dataDeNascimento\n",
    "idade = int(diff.days / 365.0)\n",
    "```\n",
    "3. O relacionamento do membro com a universidade significa apenas se ele é um professor ou aluno da mesmo. Nós podemos obter o nome da classe a que uma instância (i.e., um objeto) pertence utilizando `__class__.__name__`, como mostrado no trecho de código abaixo.\n",
    "```python\n",
    "def obterRelacionamento(self):\n",
    "       return __class__.__name__\n",
    "```"
   ]
  },
  {
   "cell_type": "code",
   "execution_count": 4,
   "metadata": {},
   "outputs": [],
   "source": [
    "# Implemente aqui o código das classes."
   ]
  },
  {
   "cell_type": "markdown",
   "metadata": {},
   "source": [
    "Teste suas classes com o código abaixo, o qual deve resultar na seguinte saída esperada:\n",
    "\n",
    "```python\n",
    "----------------------\n",
    "Nome: João Afonso\n",
    "Relacionamento: Professor\n",
    "Data de nascimento: 1987-03-22\n",
    "Idade: 33\n",
    "----------------------\n",
    "----------------------\n",
    "Nome: Everton Bastos\n",
    "Relacionamento: Professor\n",
    "Data de nascimento: 1981-10-02\n",
    "Idade: 38\n",
    "----------------------\n",
    "----------------------\n",
    "Nome: Thiago Nascimento\n",
    "Relacionamento: Aluno\n",
    "Data de nascimento: 2000-07-13\n",
    "Idade: 20\n",
    "----------------------\n",
    "----------------------\n",
    "Nome: Ulisses Guimarães\n",
    "Relacionamento: Aluno\n",
    "Data de nascimento: 1999-01-01\n",
    "Idade: 21\n",
    "----------------------\n",
    "```"
   ]
  },
  {
   "cell_type": "code",
   "execution_count": 5,
   "metadata": {},
   "outputs": [
    {
     "name": "stdout",
     "output_type": "stream",
     "text": [
      "----------------------\n",
      "Nome: João Afonso\n",
      "Relacionamento: Professor\n",
      "Data de nascimento: 1987-03-22\n",
      "Idade: 33\n",
      "----------------------\n",
      "----------------------\n",
      "Nome: Everton Bastos\n",
      "Relacionamento: Professor\n",
      "Data de nascimento: 1981-10-02\n",
      "Idade: 38\n",
      "----------------------\n",
      "----------------------\n",
      "Nome: Thiago Nascimento\n",
      "Relacionamento: Aluno\n",
      "Data de nascimento: 2000-07-13\n",
      "Idade: 20\n",
      "----------------------\n",
      "----------------------\n",
      "Nome: Ulisses Guimarães\n",
      "Relacionamento: Aluno\n",
      "Data de nascimento: 1999-01-01\n",
      "Idade: 21\n",
      "----------------------\n"
     ]
    }
   ],
   "source": [
    "import datetime\n",
    "\n",
    "dataDeNascimentoProf1 = datetime.datetime(1987, 3, 22)\n",
    "joao = Professor('João Afonso', dataDeNascimentoProf1, 2000.00)\n",
    "\n",
    "dataDeNascimentoProf2 = datetime.datetime(1981, 10, 2)\n",
    "everton = Professor('Everton Bastos', dataDeNascimentoProf2, 2220.00)\n",
    "\n",
    "dataDeNascimentoAluno1 = datetime.datetime(2000, 7, 13)\n",
    "thiago = Aluno('Thiago Nascimento', dataDeNascimentoAluno1, 123)\n",
    "\n",
    "dataDeNascimentoAluno2 = datetime.datetime(1999, 1, 1)\n",
    "ulisses = Aluno('Ulisses Guimarães', dataDeNascimentoAluno2, 546)\n",
    "\n",
    "inatel = Universidade('INATEL')\n",
    "\n",
    "inatel.adicionarMembro(joao)\n",
    "inatel.adicionarMembro(everton)\n",
    "\n",
    "inatel.adicionarMembro(thiago)\n",
    "inatel.adicionarMembro(ulisses)\n",
    "\n",
    "inatel.listarMembros()"
   ]
  },
  {
   "cell_type": "code",
   "execution_count": null,
   "metadata": {},
   "outputs": [],
   "source": []
  }
 ],
 "metadata": {
  "kernelspec": {
   "display_name": "Python 3",
   "language": "python",
   "name": "python3"
  },
  "language_info": {
   "codemirror_mode": {
    "name": "ipython",
    "version": 3
   },
   "file_extension": ".py",
   "mimetype": "text/x-python",
   "name": "python",
   "nbconvert_exporter": "python",
   "pygments_lexer": "ipython3",
   "version": "3.7.9"
  }
 },
 "nbformat": 4,
 "nbformat_minor": 4
}
