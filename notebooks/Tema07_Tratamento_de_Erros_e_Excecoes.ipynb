{
 "cells": [
  {
   "cell_type": "markdown",
   "metadata": {},
   "source": [
    "# Tratamento de Erros e Exceções\n",
    "\n",
    "## Introdução\n",
    "\n",
    "**Erros** são problemas que ocorrem em um programa e que fazem com que ele tenha sua execução interrompida. Por outro lado, **exceções** são **lançadas** quando ocorrem alguns eventos internos ao programa que alteram seu fluxo normal de execução.\n",
    "\n",
    "Portanto, um **erro** indica um problema sério que um programa não deve tentar identificar. Já uma **exceção** indica uma condição que um programa possa querer capturar e tratar.\n",
    "\n",
    "Portanto, concluímos que em Python, existem dois tipos de erro:\n",
    "+ Erros de sintaxe.\n",
    "+ Erros lógicos, ou seja, as exceções."
   ]
  },
  {
   "cell_type": "markdown",
   "metadata": {},
   "source": [
    "## Erros de sintaxe\n",
    "\n",
    "Esses erros são também conhecidos como erros de análise, ou de parsing, pois são identificados durante a análise sintática do programa, antes que ele seja executado."
   ]
  },
  {
   "cell_type": "code",
   "execution_count": 3,
   "metadata": {},
   "outputs": [
    {
     "ename": "SyntaxError",
     "evalue": "invalid syntax (<ipython-input-3-2b688bc740d7>, line 1)",
     "output_type": "error",
     "traceback": [
      "\u001b[1;36m  File \u001b[1;32m\"<ipython-input-3-2b688bc740d7>\"\u001b[1;36m, line \u001b[1;32m1\u001b[0m\n\u001b[1;33m    while True print('Hello world')\u001b[0m\n\u001b[1;37m                   ^\u001b[0m\n\u001b[1;31mSyntaxError\u001b[0m\u001b[1;31m:\u001b[0m invalid syntax\n"
     ]
    }
   ],
   "source": [
    "while True print('Hello world')"
   ]
  },
  {
   "cell_type": "markdown",
   "metadata": {},
   "source": [
    "No exemplo acima, o **parser** (parte do interpretador da linguagem) repete a linha de código incorreta e exibe uma **seta** apontando para o primeiro ponto da linha onde o erro foi detectado. \n",
    "\n",
    "O erro é causado pelo (ou pelo menos detectado no) símbolo que precede a seta: no exemplo, o erro é detectado na função `print()`, pois os dois pontos (`:`) estão faltando antes do `print()`.\n",
    "\n",
    "O nome do arquivo e o número da linha são impressos para que você saiba onde procurar caso o erro tenha vindo de um arquivo `.py`.\n",
    "\n",
    "```python\n",
    "File \"<ipython-input-3-2b688bc740d7>\", line 1\n",
    "    while True print('Hello world')\n",
    "                   ^\n",
    "SyntaxError: invalid syntax\n",
    "```"
   ]
  },
  {
   "cell_type": "markdown",
   "metadata": {},
   "source": [
    "## Exceções\n",
    "\n",
    "Mesmo que uma instrução ou expressão esteja sintaticamente correta, ela pode causar um erro quando o programa tentar executá-la. \n",
    "\n",
    "Os erros detectados durante a execução são chamados de **exceções** e não são incondicionalmente fatais. Veremos em seguida como lidar com exceções em Python.\n",
    "\n",
    "A maioria das exceções não é tratada pelos programas, e portanto, resultam em mensagens de erro conforme as mostradas abaixo.\n",
    "\n",
    "#### Divisão por zero"
   ]
  },
  {
   "cell_type": "code",
   "execution_count": 1,
   "metadata": {},
   "outputs": [
    {
     "ename": "ZeroDivisionError",
     "evalue": "division by zero",
     "output_type": "error",
     "traceback": [
      "\u001b[1;31m---------------------------------------------------------------------------\u001b[0m",
      "\u001b[1;31mZeroDivisionError\u001b[0m                         Traceback (most recent call last)",
      "\u001b[1;32m<ipython-input-1-1a5adb9eb822>\u001b[0m in \u001b[0;36m<module>\u001b[1;34m\u001b[0m\n\u001b[1;32m----> 1\u001b[1;33m \u001b[1;36m2\u001b[0m \u001b[1;33m*\u001b[0m \u001b[1;33m(\u001b[0m\u001b[1;36m4\u001b[0m\u001b[1;33m/\u001b[0m\u001b[1;36m0\u001b[0m\u001b[1;33m)\u001b[0m\u001b[1;33m\u001b[0m\u001b[1;33m\u001b[0m\u001b[0m\n\u001b[0m",
      "\u001b[1;31mZeroDivisionError\u001b[0m: division by zero"
     ]
    }
   ],
   "source": [
    "2 * (4/0)"
   ]
  },
  {
   "cell_type": "markdown",
   "metadata": {},
   "source": [
    "#### Variável não definida"
   ]
  },
  {
   "cell_type": "code",
   "execution_count": 1,
   "metadata": {},
   "outputs": [
    {
     "ename": "NameError",
     "evalue": "name 'spam' is not defined",
     "output_type": "error",
     "traceback": [
      "\u001b[1;31m---------------------------------------------------------------------------\u001b[0m",
      "\u001b[1;31mNameError\u001b[0m                                 Traceback (most recent call last)",
      "\u001b[1;32m<ipython-input-1-504cf8db5a39>\u001b[0m in \u001b[0;36m<module>\u001b[1;34m\u001b[0m\n\u001b[1;32m----> 1\u001b[1;33m \u001b[1;36m2\u001b[0m \u001b[1;33m+\u001b[0m \u001b[0mspam\u001b[0m\u001b[1;33m*\u001b[0m\u001b[1;36m4\u001b[0m\u001b[1;33m\u001b[0m\u001b[1;33m\u001b[0m\u001b[0m\n\u001b[0m",
      "\u001b[1;31mNameError\u001b[0m: name 'spam' is not defined"
     ]
    }
   ],
   "source": [
    "2 + spam*4"
   ]
  },
  {
   "cell_type": "markdown",
   "metadata": {},
   "source": [
    "#### Operações com tipos diferentes"
   ]
  },
  {
   "cell_type": "code",
   "execution_count": 2,
   "metadata": {},
   "outputs": [
    {
     "ename": "TypeError",
     "evalue": "can only concatenate str (not \"int\") to str",
     "output_type": "error",
     "traceback": [
      "\u001b[1;31m---------------------------------------------------------------------------\u001b[0m",
      "\u001b[1;31mTypeError\u001b[0m                                 Traceback (most recent call last)",
      "\u001b[1;32m<ipython-input-2-c26d67650552>\u001b[0m in \u001b[0;36m<module>\u001b[1;34m\u001b[0m\n\u001b[1;32m----> 1\u001b[1;33m \u001b[1;34m'4'\u001b[0m \u001b[1;33m+\u001b[0m \u001b[1;36m2\u001b[0m\u001b[1;33m\u001b[0m\u001b[1;33m\u001b[0m\u001b[0m\n\u001b[0m",
      "\u001b[1;31mTypeError\u001b[0m: can only concatenate str (not \"int\") to str"
     ]
    }
   ],
   "source": [
    "'4' + 2"
   ]
  },
  {
   "cell_type": "markdown",
   "metadata": {},
   "source": [
    "A última linha da mensagem de erro sempre indica o que aconteceu. \n",
    "\n",
    "As exceções têm diferentes **tipos** (i.e., Classes) e o seu **tipo** é impresso como parte da mensagem. Os **tipos** de exceção nos exemplos acima são `ZeroDivisionError`, `NameError` e `TypeError`.\n",
    "\n",
    "Essas excessões que vimos acima são chamadas de exceções embutidas, pois são definidas pela linguagem Python.\n",
    "\n",
    "A string impressa como o tipo da exceção (i.e., string antes dos `:`) é o nome da exceção embutida que ocorreu. Isso é verdade para todas as exceções embutidas, mas não precisa ser verdade para exceções definidas pelo usuário (embora seja uma boa prática). O restante da linha fornece detalhes com base no tipo da exceção e o que a causou.\n",
    "\n",
    "```python\n",
    "ZeroDivisionError: division by zero\n",
    "NameError: name 'spam' is not defined\n",
    "TypeError: can only concatenate str (not \"int\") to str\n",
    "```\n",
    "\n",
    "A parte anterior da mensagem de erro mostra o contexto onde a exceção aconteceu, na forma de um rastreamento da pilha de execução, chamado de **stack traceback**.\n",
    "\n",
    "O **stack traceback** mostra a sequência de linhas de código que levaram ao lançamento da exceção, junto com os nomes de arquivo e números de linha em que as chamadas ocorreram.\n",
    "\n",
    "Vejam o exemplo abaixo."
   ]
  },
  {
   "cell_type": "code",
   "execution_count": 1,
   "metadata": {
    "scrolled": true
   },
   "outputs": [
    {
     "ename": "ZeroDivisionError",
     "evalue": "division by zero",
     "output_type": "error",
     "traceback": [
      "\u001b[1;31m---------------------------------------------------------------------------\u001b[0m",
      "\u001b[1;31mZeroDivisionError\u001b[0m                         Traceback (most recent call last)",
      "\u001b[1;32m<ipython-input-1-3cbc85e3ee0b>\u001b[0m in \u001b[0;36m<module>\u001b[1;34m\u001b[0m\n\u001b[0;32m      8\u001b[0m     \u001b[0mfun1\u001b[0m\u001b[1;33m(\u001b[0m\u001b[1;36m10\u001b[0m\u001b[1;33m)\u001b[0m\u001b[1;33m\u001b[0m\u001b[1;33m\u001b[0m\u001b[0m\n\u001b[0;32m      9\u001b[0m \u001b[1;33m\u001b[0m\u001b[0m\n\u001b[1;32m---> 10\u001b[1;33m \u001b[0mmain\u001b[0m\u001b[1;33m(\u001b[0m\u001b[1;33m)\u001b[0m\u001b[1;33m\u001b[0m\u001b[1;33m\u001b[0m\u001b[0m\n\u001b[0m",
      "\u001b[1;32m<ipython-input-1-3cbc85e3ee0b>\u001b[0m in \u001b[0;36mmain\u001b[1;34m()\u001b[0m\n\u001b[0;32m      6\u001b[0m \u001b[1;33m\u001b[0m\u001b[0m\n\u001b[0;32m      7\u001b[0m \u001b[1;32mdef\u001b[0m \u001b[0mmain\u001b[0m\u001b[1;33m(\u001b[0m\u001b[1;33m)\u001b[0m\u001b[1;33m:\u001b[0m\u001b[1;33m\u001b[0m\u001b[1;33m\u001b[0m\u001b[0m\n\u001b[1;32m----> 8\u001b[1;33m     \u001b[0mfun1\u001b[0m\u001b[1;33m(\u001b[0m\u001b[1;36m10\u001b[0m\u001b[1;33m)\u001b[0m\u001b[1;33m\u001b[0m\u001b[1;33m\u001b[0m\u001b[0m\n\u001b[0m\u001b[0;32m      9\u001b[0m \u001b[1;33m\u001b[0m\u001b[0m\n\u001b[0;32m     10\u001b[0m \u001b[0mmain\u001b[0m\u001b[1;33m(\u001b[0m\u001b[1;33m)\u001b[0m\u001b[1;33m\u001b[0m\u001b[1;33m\u001b[0m\u001b[0m\n",
      "\u001b[1;32m<ipython-input-1-3cbc85e3ee0b>\u001b[0m in \u001b[0;36mfun1\u001b[1;34m(var)\u001b[0m\n\u001b[0;32m      1\u001b[0m \u001b[1;32mdef\u001b[0m \u001b[0mfun1\u001b[0m\u001b[1;33m(\u001b[0m\u001b[0mvar\u001b[0m\u001b[1;33m)\u001b[0m\u001b[1;33m:\u001b[0m\u001b[1;33m\u001b[0m\u001b[1;33m\u001b[0m\u001b[0m\n\u001b[1;32m----> 2\u001b[1;33m     \u001b[0mfun2\u001b[0m\u001b[1;33m(\u001b[0m\u001b[0mvar\u001b[0m\u001b[1;33m)\u001b[0m\u001b[1;33m\u001b[0m\u001b[1;33m\u001b[0m\u001b[0m\n\u001b[0m\u001b[0;32m      3\u001b[0m \u001b[1;33m\u001b[0m\u001b[0m\n\u001b[0;32m      4\u001b[0m \u001b[1;32mdef\u001b[0m \u001b[0mfun2\u001b[0m\u001b[1;33m(\u001b[0m\u001b[0mvar\u001b[0m\u001b[1;33m)\u001b[0m\u001b[1;33m:\u001b[0m\u001b[1;33m\u001b[0m\u001b[1;33m\u001b[0m\u001b[0m\n\u001b[0;32m      5\u001b[0m     \u001b[1;32mreturn\u001b[0m \u001b[0mvar\u001b[0m \u001b[1;33m*\u001b[0m \u001b[1;33m(\u001b[0m\u001b[1;36m1\u001b[0m\u001b[1;33m/\u001b[0m\u001b[1;36m0\u001b[0m\u001b[1;33m)\u001b[0m\u001b[1;33m\u001b[0m\u001b[1;33m\u001b[0m\u001b[0m\n",
      "\u001b[1;32m<ipython-input-1-3cbc85e3ee0b>\u001b[0m in \u001b[0;36mfun2\u001b[1;34m(var)\u001b[0m\n\u001b[0;32m      3\u001b[0m \u001b[1;33m\u001b[0m\u001b[0m\n\u001b[0;32m      4\u001b[0m \u001b[1;32mdef\u001b[0m \u001b[0mfun2\u001b[0m\u001b[1;33m(\u001b[0m\u001b[0mvar\u001b[0m\u001b[1;33m)\u001b[0m\u001b[1;33m:\u001b[0m\u001b[1;33m\u001b[0m\u001b[1;33m\u001b[0m\u001b[0m\n\u001b[1;32m----> 5\u001b[1;33m     \u001b[1;32mreturn\u001b[0m \u001b[0mvar\u001b[0m \u001b[1;33m*\u001b[0m \u001b[1;33m(\u001b[0m\u001b[1;36m1\u001b[0m\u001b[1;33m/\u001b[0m\u001b[1;36m0\u001b[0m\u001b[1;33m)\u001b[0m\u001b[1;33m\u001b[0m\u001b[1;33m\u001b[0m\u001b[0m\n\u001b[0m\u001b[0;32m      6\u001b[0m \u001b[1;33m\u001b[0m\u001b[0m\n\u001b[0;32m      7\u001b[0m \u001b[1;32mdef\u001b[0m \u001b[0mmain\u001b[0m\u001b[1;33m(\u001b[0m\u001b[1;33m)\u001b[0m\u001b[1;33m:\u001b[0m\u001b[1;33m\u001b[0m\u001b[1;33m\u001b[0m\u001b[0m\n",
      "\u001b[1;31mZeroDivisionError\u001b[0m: division by zero"
     ]
    }
   ],
   "source": [
    "def fun1(var):\n",
    "    fun2(var)\n",
    "    \n",
    "def fun2(var):\n",
    "    return var * (1/0)\n",
    "    \n",
    "def main():\n",
    "    fun1(10)\n",
    "    \n",
    "main()"
   ]
  },
  {
   "cell_type": "markdown",
   "metadata": {},
   "source": [
    "Uma lista de exceções embutidas e seus respectivos significados podem ser acessados através do seguinte link: https://docs.python.org/3/library/exceptions.html#bltin-exceptions"
   ]
  },
  {
   "cell_type": "markdown",
   "metadata": {},
   "source": [
    "## Tratando exceções\n",
    "\n",
    "É possível escrever programas que tratam exceções específicas. Observe o exemplo seguinte, que pede dados ao usuário até que um inteiro válido seja fornecido."
   ]
  },
  {
   "cell_type": "code",
   "execution_count": 3,
   "metadata": {},
   "outputs": [
    {
     "name": "stdout",
     "output_type": "stream",
     "text": [
      "Por favor, digite um número: 1234\n"
     ]
    }
   ],
   "source": [
    "while True:\n",
    "    try:\n",
    "        x = int(input(\"Por favor, digite um número: \"))\n",
    "        break\n",
    "    except ValueError:\n",
    "        print(\"Este não é um número válido, por favor, tente novamente...\")"
   ]
  },
  {
   "cell_type": "markdown",
   "metadata": {},
   "source": [
    "A instrução `try` funciona da seguinte maneira:\n",
    "\n",
    "1. Inicialmente, a cláusula `try` (o bloco de código entre as palavras reservadas `try` e `except`) é executada.\n",
    "2. Se nenhuma exceção ocorrer, a cláusula `except` é ignorada e a execução da instrução `try` é finalizada.\n",
    "3. Se ocorrer uma exceção durante a execução da cláusula `try`, as instruções restantes na cláusula são ignoradas. Se o tipo da exceção lançada estiver na lista de exceções da cláusula `except`, então essa cláusula será executada. Depois disso, a execução continua após a cláusula `try`.\n",
    "4. Se a exceção levantada não corresponder a nenhuma exceção presente na lista de exceções tratadas, então ela é entregue a uma instrução `try` mais externa. Caso não exista nenhum tratamento para tal exceção em parte alguma do programa, então sua execução termina com uma mensagem de erro.\n",
    "\n",
    "A instrução `try` pode ter uma ou mais cláusulas `except`, as quais são usadas para especificar diferentes tratamentos para diferentes exceções. Neste caso, no máximo uma única cláusula `except` será executada.\n",
    "\n",
    "```python\n",
    "try:\n",
    "    ret = '4' + 2\n",
    "except TypeError:\n",
    "    print('Bloco de código para tratamento da exceção do tipo TypeError')\n",
    "except ZeroDivisionError:\n",
    "    print('Bloco de código para tratamento da exceção do tipo ZeroDivisionError')\n",
    "except NameError:\n",
    "    print('Bloco de código para tratamento da exceção do tipo NameError')\n",
    "```\n",
    "\n",
    "Cláusulas `except` só são sensíveis às exceções lançadas no interior da cláusula `try` correspondente, e não às que tenham ocorrido no interior de outras cláusulas `except` de uma mesma cláusula `try`, conforme mostrdo no exemplo abaixo.\n",
    "\n",
    "```python\n",
    "try:\n",
    "    ret = '4' + 2\n",
    "except TypeError:\n",
    "    ret = 2 * (4/0)\n",
    "```\n",
    "\n",
    "Uma mesma cláusula `except` pode ser sensível a múltiplas exceções, desde que elas sejam especificadas em uma tupla, conforme mostrado no exemplo abaixo.\n",
    "\n",
    "```python\n",
    "except(RuntimeError, TypeError, NameError):\n",
    "    pass\n",
    "```"
   ]
  },
  {
   "cell_type": "markdown",
   "metadata": {},
   "source": [
    "Uma cláusula `except` pode omitir o nome da exceção, funcionando como um **curinga**, ou seja, essa cláusula `except` vai tratar qualquer tipo de exceção que ocorra dentro da cláusula `try`.\n",
    "\n",
    "**IMPORTANTE**: Utilize esse recurso com extrema cautela, pois é muito fácil mascarar um erro de programação dessa maneira. Capture apenas exceções que você pode tratar."
   ]
  },
  {
   "cell_type": "code",
   "execution_count": 4,
   "metadata": {},
   "outputs": [
    {
     "name": "stdout",
     "output_type": "stream",
     "text": [
      "Erro inesperado do tipo: <class 'TypeError'>\n",
      "Erro inesperado do tipo: <class 'ZeroDivisionError'>\n",
      "Erro inesperado do tipo: <class 'NameError'>\n"
     ]
    }
   ],
   "source": [
    "import sys\n",
    "\n",
    "def fun(a, b):\n",
    "    try:\n",
    "        res1 = 'a' + a\n",
    "        res2 = 2/b\n",
    "        res3 = 2 + spam*4\n",
    "    except:\n",
    "        print(\"Erro inesperado do tipo:\", sys.exc_info()[0])\n",
    "    \n",
    "fun(1, 0)\n",
    "fun('b', 0)\n",
    "fun('b', 1)"
   ]
  },
  {
   "cell_type": "markdown",
   "metadata": {},
   "source": [
    "Normalmente, se utiliza a cláusula `except` **curinga** como sendo a última cláusula `except` de um bloco `try`."
   ]
  },
  {
   "cell_type": "code",
   "execution_count": 5,
   "metadata": {},
   "outputs": [
    {
     "name": "stdout",
     "output_type": "stream",
     "text": [
      "Erro do sistema operacional: [Errno 2] No such file or directory: 'myfile.txt'\n"
     ]
    }
   ],
   "source": [
    "import sys\n",
    "\n",
    "try:\n",
    "    # Operação que pode lançar uma OSError.\n",
    "    f = open('myfile.txt')\n",
    "    s = f.readline()\n",
    "    # Operação que pode lançar uma ValueError.\n",
    "    i = int(s.strip())\n",
    "except OSError:\n",
    "    print(\"Erro do sistema operacional:\", sys.exc_info()[1])\n",
    "except ValueError:\n",
    "    print(\"Não foi possível converter o valor para um inteiro.\")\n",
    "except:\n",
    "    print(\"Erro inesperado do tipo:\", sys.exc_info()[0])"
   ]
  },
  {
   "cell_type": "markdown",
   "metadata": {},
   "source": [
    "**IMPORTANTE**: A função `exc_info ()` do módulo `sys` retorna uma tupla com três valores, `(tipo, valor, traceback)`,  que fornecem informações sobre a exceção que está sendo tratada no momento."
   ]
  },
  {
   "cell_type": "markdown",
   "metadata": {},
   "source": [
    "### A cláusula `finally`\n",
    "\n",
    "A cláusula `try` pode ter uma cláusula **opcional** chamada de `finally`. Esta cláusula é executada independentemente do que aconteça e geralmente é usada para **liberar** recursos externos.\n",
    "\n",
    "Por exemplo, podemos estar conectados a um data center remoto por meio de uma rede ou trabalhando com um arquivo ou interface gráfica do usuário (GUI).\n",
    "\n",
    "Em todas esses casos, nós devemos **liberar** os recursos antes que o programa seja interrompido, tenha ele sido executado com êxito ou não. Essas ações (fechar um arquivo, GUI ou desconectar da rede) são realizadas na cláusula `finally` para garantir a execução do código de liberação dos recursos.\n",
    "\n",
    "Vejam o exemplo abaixo onde realizamos algumas de operações com um arquivo para ilustrar o uso da cláusula `finally`."
   ]
  },
  {
   "cell_type": "code",
   "execution_count": 4,
   "metadata": {},
   "outputs": [
    {
     "name": "stdout",
     "output_type": "stream",
     "text": [
      "Erro inesperado do tipo: <class 'io.UnsupportedOperation'>\n",
      "Liberando o recurso.\n"
     ]
    }
   ],
   "source": [
    "import sys\n",
    "import io\n",
    "\n",
    "try:\n",
    "    # Abrindo arquivo para leitura.\n",
    "    f = open('teste.txt')\n",
    "    # Como o arquivo foi aberto para leitura, caso tentemos escrever algo nele, \n",
    "    # uma exceção será lançada.\n",
    "    f.write('C126-L1 teste')\n",
    "except io.UnsupportedOperation:\n",
    "    print(\"Erro inesperado do tipo:\", sys.exc_info()[0])\n",
    "finally:\n",
    "    print('Liberando o recurso.')\n",
    "    f.close()"
   ]
  },
  {
   "cell_type": "code",
   "execution_count": 5,
   "metadata": {},
   "outputs": [
    {
     "name": "stdout",
     "output_type": "stream",
     "text": [
      "Liberando o recurso.\n"
     ]
    }
   ],
   "source": [
    "import sys\n",
    "\n",
    "try:\n",
    "    # Abrindo arquivo para escrita.\n",
    "    f = open('teste.txt', 'w')\n",
    "    # Nenhuma exceção é lançada, dado que o arquivo foi aberto para escrita.\n",
    "    f.write('C126-L1 teste')\n",
    "except FileNotFoundError:\n",
    "    print(\"Erro inesperado do tipo:\", sys.exc_info()[0])\n",
    "finally:\n",
    "    print('Liberando o recurso.')\n",
    "    f.close()"
   ]
  },
  {
   "cell_type": "markdown",
   "metadata": {},
   "source": [
    "A cláusula `finally` garante que o arquivo seja fechado mesmo se ocorrer uma exceção durante a execução do programa."
   ]
  },
  {
   "cell_type": "markdown",
   "metadata": {},
   "source": [
    "### A cláusula `else`\n",
    "\n",
    "Outra cláusula **opcional** que a cláusula `try` pode ter é a cláusula `else`. Quando ela está presente, ela deve ser colocada depois de todas as cláusulas `except`, mas antes da cláusula `finally`. \n",
    "\n",
    "Ela é útil em um código que precisa ser executado **se nenhuma** exceção foi lançada. Por exemplo:"
   ]
  },
  {
   "cell_type": "code",
   "execution_count": 8,
   "metadata": {},
   "outputs": [
    {
     "name": "stdout",
     "output_type": "stream",
     "text": [
      "Bloco de código executado caso nenhuma exceção tenha sido lançada.\n"
     ]
    }
   ],
   "source": [
    "import sys\n",
    "\n",
    "try:\n",
    "    a = 1 + 2\n",
    "except:\n",
    "    print(\"Erro inesperado do tipo:\", sys.exc_info()[0])\n",
    "else:\n",
    "    print('Bloco de código executado caso nenhuma exceção tenha sido lançada.')"
   ]
  },
  {
   "cell_type": "markdown",
   "metadata": {},
   "source": [
    "É melhor usar a cláusula `else` do que adicionar código à cláusula `try`, pois isto evita capturar acidentalmente uma exceção que não foi gerada pelo código sendo realmente protegido pelas cláusulas `try ... except`.\n",
    "\n",
    "\n",
    "Por exemplo, caso tivéssemos 2 operações sequenciais A e B (i.e., primeiro se executa A e depois B) que podem lançar a exceção `IOError`, mas quiséssemos tratar apenas a exceção da operação A e caso ela não lance a exceção, executar a operação B sem tratar sua exceção, então devemos colocar a operação B na cláusula `else`. Desta forma, a cláusula `except` irá tratar apenas a exceção lançada pela operação A e a operação B será executa sempre que A não lance a exceção, porém, sem que sua exceção seja tratada.\n",
    "\n",
    "Podemos escrever isso em Python da seguinte forma:\n",
    "\n",
    "```python\n",
    "try:\n",
    "    # Código que gera IOError e que queremos tratar.\n",
    "    operaçao_A_que_pode_lançar_uma_exceção_ioerror()\n",
    "except IOError:\n",
    "    # Código que trata a exceção IOError.\n",
    "    tratamento_da_exceção_ioerror()\n",
    "else:\n",
    "    # Queremos executar a operação B se a operação A não lançou \n",
    "    # a exceção, porém, não queremos capturar outro IOError se \n",
    "    # ele for gerado pela operação B.\n",
    "    operaçao_B_que_tambem_pode_lançar_uma_exceção_ioerror()\n",
    "finally:\n",
    "    # Código que é SEMPRE executado.\n",
    "    código_que_sempre_queremos_executar()\n",
    "```"
   ]
  },
  {
   "cell_type": "markdown",
   "metadata": {},
   "source": [
    "Se colocarmos a função `operaçao_B_que_tambem_pode_lançar_uma_exceção_ioerror()` depois de `operaçao_A_que_pode_lançar_uma_exceção_ioerror()`, o `except` **pegaria** a exceção lançada pela segunda operação. E se o colocarmos após todo o bloco `try`, ele sempre será executado, independente se a operação A lançou ou não uma exceção.\n",
    "\n",
    "**IMPORTANTE**: As exceções na cláusula `else` não são tratadas pelas cláusulas `except` anteriores."
   ]
  },
  {
   "cell_type": "markdown",
   "metadata": {},
   "source": [
    "## Lançando exceções"
   ]
  },
  {
   "cell_type": "markdown",
   "metadata": {},
   "source": [
    "A instrução `raise` permite ao programador forçar a ocorrência de um determinado tipo de exceção. Por exemplo:"
   ]
  },
  {
   "cell_type": "code",
   "execution_count": 18,
   "metadata": {},
   "outputs": [
    {
     "ename": "NameError",
     "evalue": "Olá!",
     "output_type": "error",
     "traceback": [
      "\u001b[1;31m---------------------------------------------------------------------------\u001b[0m",
      "\u001b[1;31mNameError\u001b[0m                                 Traceback (most recent call last)",
      "\u001b[1;32m<ipython-input-18-3b45ff5b142c>\u001b[0m in \u001b[0;36m<module>\u001b[1;34m\u001b[0m\n\u001b[1;32m----> 1\u001b[1;33m \u001b[1;32mraise\u001b[0m \u001b[0mNameError\u001b[0m\u001b[1;33m(\u001b[0m\u001b[1;34m'Olá!'\u001b[0m\u001b[1;33m)\u001b[0m\u001b[1;33m\u001b[0m\u001b[1;33m\u001b[0m\u001b[0m\n\u001b[0m",
      "\u001b[1;31mNameError\u001b[0m: Olá!"
     ]
    }
   ],
   "source": [
    "raise NameError('Olá!')"
   ]
  },
  {
   "cell_type": "markdown",
   "metadata": {},
   "source": [
    "O argumento passado para a instrução `raise` indica a exceção a ser levantada. \n",
    "\n",
    "Esse argumento deve ser uma instância de exceção ou uma classe de exceção (uma classe que deriva da classe `Exception`). \n",
    "\n",
    "Se apenas o nome de uma classe de exceção for passada, ela será implicitamente instanciada e seu construtor será invocado sem argumentos, como mostrado a seguir."
   ]
  },
  {
   "cell_type": "code",
   "execution_count": 18,
   "metadata": {},
   "outputs": [
    {
     "ename": "ValueError",
     "evalue": "",
     "output_type": "error",
     "traceback": [
      "\u001b[1;31m---------------------------------------------------------------------------\u001b[0m",
      "\u001b[1;31mValueError\u001b[0m                                Traceback (most recent call last)",
      "\u001b[1;32m<ipython-input-18-9ce15dc710b3>\u001b[0m in \u001b[0;36m<module>\u001b[1;34m\u001b[0m\n\u001b[1;32m----> 1\u001b[1;33m \u001b[1;32mraise\u001b[0m \u001b[0mValueError\u001b[0m  \u001b[1;31m# forma abreviada para 'raise ValueError()'\u001b[0m\u001b[1;33m\u001b[0m\u001b[1;33m\u001b[0m\u001b[0m\n\u001b[0m",
      "\u001b[1;31mValueError\u001b[0m: "
     ]
    }
   ],
   "source": [
    "raise ValueError  # forma abreviada para 'raise ValueError()'"
   ]
  },
  {
   "cell_type": "markdown",
   "metadata": {},
   "source": [
    "Caso seja necessário determinar se uma exceção foi lançada, mas não se pretende tratá-la, uma forma mais simples da instrução `raise` permite que se levante/jogue a mesma exceção novamente:"
   ]
  },
  {
   "cell_type": "code",
   "execution_count": 19,
   "metadata": {},
   "outputs": [
    {
     "name": "stdout",
     "output_type": "stream",
     "text": [
      "Uma exceção passou voando por aqui!\n"
     ]
    },
    {
     "ename": "NameError",
     "evalue": "Olá!",
     "output_type": "error",
     "traceback": [
      "\u001b[1;31m---------------------------------------------------------------------------\u001b[0m",
      "\u001b[1;31mNameError\u001b[0m                                 Traceback (most recent call last)",
      "\u001b[1;32m<ipython-input-19-c6551d86f653>\u001b[0m in \u001b[0;36m<module>\u001b[1;34m\u001b[0m\n\u001b[0;32m      1\u001b[0m \u001b[1;32mtry\u001b[0m\u001b[1;33m:\u001b[0m\u001b[1;33m\u001b[0m\u001b[1;33m\u001b[0m\u001b[0m\n\u001b[1;32m----> 2\u001b[1;33m     \u001b[1;32mraise\u001b[0m \u001b[0mNameError\u001b[0m\u001b[1;33m(\u001b[0m\u001b[1;34m'Olá!'\u001b[0m\u001b[1;33m)\u001b[0m\u001b[1;33m\u001b[0m\u001b[1;33m\u001b[0m\u001b[0m\n\u001b[0m\u001b[0;32m      3\u001b[0m \u001b[1;32mexcept\u001b[0m \u001b[0mNameError\u001b[0m\u001b[1;33m:\u001b[0m\u001b[1;33m\u001b[0m\u001b[1;33m\u001b[0m\u001b[0m\n\u001b[0;32m      4\u001b[0m     \u001b[0mprint\u001b[0m\u001b[1;33m(\u001b[0m\u001b[1;34m'Uma exceção passou voando por aqui!'\u001b[0m\u001b[1;33m)\u001b[0m\u001b[1;33m\u001b[0m\u001b[1;33m\u001b[0m\u001b[0m\n\u001b[0;32m      5\u001b[0m     \u001b[1;32mraise\u001b[0m\u001b[1;33m\u001b[0m\u001b[1;33m\u001b[0m\u001b[0m\n",
      "\u001b[1;31mNameError\u001b[0m: Olá!"
     ]
    }
   ],
   "source": [
    "try:\n",
    "    raise NameError('Olá!')\n",
    "except NameError:\n",
    "    print('Uma exceção passou voando por aqui!')\n",
    "    raise"
   ]
  },
  {
   "cell_type": "markdown",
   "metadata": {},
   "source": [
    "## Definindo nossas próprias exceções"
   ]
  },
  {
   "cell_type": "markdown",
   "metadata": {},
   "source": [
    "Nós podemos definir novos tipos de exceções através da criação de uma nova classe. \n",
    "\n",
    "Como regra geral, exceções **devem ser derivadas** da classe `Exception`, direta ou indiretamente.\n",
    "\n",
    "Classes de exceção podem ser implementadas para realizar qualquer coisa que qualquer outra classe realiza, mas em geral, elas são bem simples, frequentemente implementando apenas alguns atributos que fornecem informações sobre o erro que ocorreu.\n",
    "\n",
    "Normalmente, novas exceções são definidas com nomes terminando em `Error`, semelhante a muitas exceções embutidas do Python.\n",
    "\n",
    "A classe `Exception` aceita em seu construtor um número indefinido de argumentos que se tornam o que chamamos de **argumento da exceção**. Portanto, quando uma exceção ocorre, ela pode estar associada a essa tupla de valores chamada de **argumento da exceção**. A presença e o tipo dos argumentos dependem do tipo da exceção.\n",
    "\n",
    "Para se ter acesso ao **argumento da exceção**, deve-se especificar uma variável na cláusula `except` depois do nome ou tupla de exceções. Essa variável será associada à instância (i.e., objeto) da exceção capturada.\n",
    "\n",
    "O **argumento da exceção** pode ser acessado através do atributo `args`.\n",
    "\n",
    "Por conveniência, a instância define o método `__str__()` para que a tupla com os argumentos de exceção possam ser exibidos diretamente.\n",
    "\n",
    "Vejam o exemplo abaixo."
   ]
  },
  {
   "cell_type": "code",
   "execution_count": 20,
   "metadata": {},
   "outputs": [
    {
     "name": "stdout",
     "output_type": "stream",
     "text": [
      "<class 'Exception'>\n",
      "('presunto', 'queijo')\n",
      "('presunto', 'queijo')\n",
      "x = presunto\n",
      "y = queijo\n"
     ]
    }
   ],
   "source": [
    "try:\n",
    "    raise Exception('presunto', 'queijo')\n",
    "except Exception as inst:\n",
    "    print(type(inst))    # imprime o tipo da instância da exceção.\n",
    "    print(inst)          # imprime os argumentos utilizando o método __str()__\n",
    "    print(inst.args)     # imprime os argumentos utilizando o atributo args.\n",
    "    \n",
    "    x, y = inst.args     # desempacotando a tupla de argumentos args\n",
    "    print('x =', x)\n",
    "    print('y =', y)"
   ]
  },
  {
   "cell_type": "markdown",
   "metadata": {},
   "source": [
    "No exemplo abaixo definimos uma classe de exceção que herda de `Exception` e não sobre-escreve seu construtor."
   ]
  },
  {
   "cell_type": "code",
   "execution_count": 11,
   "metadata": {},
   "outputs": [
    {
     "ename": "CustomError",
     "evalue": "",
     "output_type": "error",
     "traceback": [
      "\u001b[1;31m---------------------------------------------------------------------------\u001b[0m",
      "\u001b[1;31mCustomError\u001b[0m                               Traceback (most recent call last)",
      "\u001b[1;32m<ipython-input-11-7c46cfb2aa05>\u001b[0m in \u001b[0;36m<module>\u001b[1;34m\u001b[0m\n\u001b[0;32m      3\u001b[0m     \u001b[1;32mpass\u001b[0m \u001b[1;31m# pass é uma operação nula - quando é executada, nada acontece.\u001b[0m\u001b[1;33m\u001b[0m\u001b[1;33m\u001b[0m\u001b[0m\n\u001b[0;32m      4\u001b[0m \u001b[1;33m\u001b[0m\u001b[0m\n\u001b[1;32m----> 5\u001b[1;33m \u001b[1;32mraise\u001b[0m \u001b[0mCustomError\u001b[0m\u001b[1;33m\u001b[0m\u001b[1;33m\u001b[0m\u001b[0m\n\u001b[0m",
      "\u001b[1;31mCustomError\u001b[0m: "
     ]
    }
   ],
   "source": [
    "# Classe de exceção customizada.\n",
    "class CustomError(Exception):\n",
    "    pass # pass é uma operação nula - quando é executada, nada acontece.\n",
    "\n",
    "raise CustomError"
   ]
  },
  {
   "cell_type": "markdown",
   "metadata": {},
   "source": [
    "Como a classe `CustomError` herda da classe `Exception`, podemos passar um número indefinido de argumentos para o construtor (i.e., **argumento da exceção**), como mostrado no exemplo abaixo."
   ]
  },
  {
   "cell_type": "code",
   "execution_count": 12,
   "metadata": {},
   "outputs": [
    {
     "ename": "CustomError",
     "evalue": "('Um erro ocorreu...', 123)",
     "output_type": "error",
     "traceback": [
      "\u001b[1;31m---------------------------------------------------------------------------\u001b[0m",
      "\u001b[1;31mCustomError\u001b[0m                               Traceback (most recent call last)",
      "\u001b[1;32m<ipython-input-12-762815969bff>\u001b[0m in \u001b[0;36m<module>\u001b[1;34m\u001b[0m\n\u001b[1;32m----> 1\u001b[1;33m \u001b[1;32mraise\u001b[0m \u001b[0mCustomError\u001b[0m\u001b[1;33m(\u001b[0m\u001b[1;34m\"Um erro ocorreu...\"\u001b[0m\u001b[1;33m,\u001b[0m \u001b[1;36m123\u001b[0m\u001b[1;33m)\u001b[0m\u001b[1;33m\u001b[0m\u001b[1;33m\u001b[0m\u001b[0m\n\u001b[0m",
      "\u001b[1;31mCustomError\u001b[0m: ('Um erro ocorreu...', 123)"
     ]
    }
   ],
   "source": [
    "raise CustomError(\"Um erro ocorreu...\", 123)"
   ]
  },
  {
   "cell_type": "markdown",
   "metadata": {},
   "source": [
    "No exemplo a seguir, veremos como exceções definidas pelo usuário podem ser usadas em um programa para gerar e tratar erros.\n",
    "\n",
    "O exemplo pede ao usuário que insira um número até que ele adivinhe corretamente o número armazenado. Para ajudar o usuário a descobrir o número, é fornecida uma dica se seu *chute* é maior ou menor que o número armazenado."
   ]
  },
  {
   "cell_type": "code",
   "execution_count": 13,
   "metadata": {},
   "outputs": [
    {
     "name": "stdout",
     "output_type": "stream",
     "text": [
      "Digite um número: 1\n",
      "O valor digitado é menor do que o armazenado, tente novamente!\n",
      "\n",
      "Digite um número: 12\n",
      "O valor digitado é maior do que o armazenado, tente novamente!\n",
      "\n",
      "Digite um número: 10\n",
      "Parabéns! Você acertou o número.\n"
     ]
    }
   ],
   "source": [
    "# Definição das classes de exceção definidas pelo usuário.\n",
    "class Error(Exception):\n",
    "    \"\"\"Classe base para outras exceções.\"\"\"\n",
    "    pass\n",
    "\n",
    "class ValueTooSmallError(Error):\n",
    "    \"\"\"Exceção lançada quando o valor de \n",
    "       entrada é menor do que o armazenado\"\"\"\n",
    "    pass\n",
    "\n",
    "class ValueTooLargeError(Error):\n",
    "    \"\"\"Exceção lançada quando o valor de \n",
    "       entrada é maior do que o armazenado\"\"\"\n",
    "    pass\n",
    "\n",
    "# Esse é o número que precisa ser adivinhado.\n",
    "number = 10\n",
    "\n",
    "# O usuário chuta alguns número até que consiga acertar.\n",
    "while True:\n",
    "    try:\n",
    "        i_num = int(input(\"Digite um número: \"))\n",
    "        if i_num < number:\n",
    "            raise ValueTooSmallError\n",
    "        elif i_num > number:\n",
    "            raise ValueTooLargeError\n",
    "        break\n",
    "    except ValueTooSmallError:\n",
    "        print(\"O valor digitado é menor do que o armazenado, tente novamente!\")\n",
    "        print()\n",
    "    except ValueTooLargeError:\n",
    "        print(\"O valor digitado é maior do que o armazenado, tente novamente!\")\n",
    "        print()\n",
    "\n",
    "print(\"Parabéns! Você acertou o número.\")"
   ]
  },
  {
   "cell_type": "markdown",
   "metadata": {},
   "source": [
    "**IMPORTANTE**: Quando estamos desenvolvendo um programa muito grande, é uma boa prática colocar todas as exceções definidas por nós em um arquivo separado. Muitos módulos que utilizamos fazem isso. Eles geralmente definem suas exceções separadamente em arquivos como `exceptions.py` ou `errors.py` para reportar erros que ocorrem em seu interior."
   ]
  },
  {
   "cell_type": "markdown",
   "metadata": {},
   "source": [
    "## Tarefas\n",
    "\n",
    "1. <span style=\"color:blue\">**QUIZ - Tratamento de erros e exceções**</span>: respondam ao questionário sobre tratamento de erros e exceções no MS teams, por favor. \n",
    "2. <span style=\"color:blue\">**Laboratório #7**</span>: cliquem em um dos links abaixo para accessar os exercícios do laboratório #7.\n",
    "\n",
    "[![Binder](https://mybinder.org/badge_logo.svg)](https://mybinder.org/v2/gh/zz4fap/intro_to_python/master?filepath=labs%2FLaboratorio7.ipynb)\n",
    "\n",
    "[![Google Colab](https://badgen.net/badge/Launch/on%20Google%20Colab/blue?icon=terminal)](https://colab.research.google.com/github/zz4fap/intro_to_python/blob/master/labs/Laboratorio7.ipynb)\n",
    "\n",
    "**IMPORTANTE**: Para acessar o material das aulas e realizar as entregas dos exercícios de laboratório, por favor, leiam o tutorial no seguinte link:\n",
    "[Material-das-Aulas](../docs/Acesso-ao-material-das-aulas-resolucao-e-entrega-dos-laboratorios.pdf)"
   ]
  },
  {
   "cell_type": "markdown",
   "metadata": {},
   "source": [
    "## Avisos\n",
    "\n",
    "* Se possível, instalem o Jupyter na máquina de vocês para a próxima aula.\n",
    "* Se atentem aos prazos de entrega das tarefas na aba de **Avaliações** do MS Teams.\n",
    "* Horário de atendimento todas as Quintas-feiras as 17:30 às 19:30 via MS Teams enquanto as aulas presenciais não retornam."
   ]
  },
  {
   "cell_type": "markdown",
   "metadata": {},
   "source": [
    "<img src=\"../figures/obrigado.png\" width=\"1000\" height=\"1000\">"
   ]
  }
 ],
 "metadata": {
  "kernelspec": {
   "display_name": "Python 3",
   "language": "python",
   "name": "python3"
  },
  "language_info": {
   "codemirror_mode": {
    "name": "ipython",
    "version": 3
   },
   "file_extension": ".py",
   "mimetype": "text/x-python",
   "name": "python",
   "nbconvert_exporter": "python",
   "pygments_lexer": "ipython3",
   "version": "3.7.7"
  }
 },
 "nbformat": 4,
 "nbformat_minor": 4
}
